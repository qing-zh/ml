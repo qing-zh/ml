{
 "cells": [
  {
   "cell_type": "markdown",
   "metadata": {},
   "source": [
    "# Movie reviews\n",
    "\n",
    "This notebook takes you though a complete iteration of Machine Learning Assignment 1 - Movie reviews. The assignment details (including links to download the data) can be found [here](https://docs.google.com/document/d/1WGYw99e5q6j5V0Zrf2HveagU6URt_kVvdR8B9HYQ99E/edit?usp=sharing). "
   ]
  },
  {
   "cell_type": "code",
   "execution_count": 1,
   "metadata": {},
   "outputs": [],
   "source": [
    "# all imports and magic commands\n",
    "import numpy as np\n",
    "import pandas as pd\n",
    "import matplotlib.pyplot as plt\n",
    "from my_measures import BinaryClassificationPerformance\n",
    "from sklearn.feature_extraction.text import HashingVectorizer\n",
    "from sklearn.feature_extraction.text import TfidfTransformer\n",
    "from scipy.sparse import csr_matrix, hstack\n",
    "from sklearn.preprocessing import StandardScaler\n",
    "from sklearn.model_selection import train_test_split\n",
    "%matplotlib inline"
   ]
  },
  {
   "cell_type": "markdown",
   "metadata": {},
   "source": [
    "### IMPORTANT!!! Make sure you are using `BinaryClassificationPerformance` v1.02"
   ]
  },
  {
   "cell_type": "code",
   "execution_count": 2,
   "metadata": {},
   "outputs": [
    {
     "name": "stdout",
     "output_type": "stream",
     "text": [
      "Help on class BinaryClassificationPerformance in module my_measures:\n",
      "\n",
      "class BinaryClassificationPerformance(builtins.object)\n",
      " |  BinaryClassificationPerformance(predictions, labels, desc, probabilities=None)\n",
      " |  \n",
      " |  Performance measures to evaluate the fit of a binary classification model, v1.02\n",
      " |  \n",
      " |  Methods defined here:\n",
      " |  \n",
      " |  __init__(self, predictions, labels, desc, probabilities=None)\n",
      " |      Initialize attributes: predictions-vector of predicted values for Y, labels-vector of labels for Y\n",
      " |  \n",
      " |  compute_measures(self)\n",
      " |      Compute performance measures defined by Flach p. 57\n",
      " |  \n",
      " |  img_indices(self)\n",
      " |      Get the indices of true and false positives to be able to locate the corresponding images in a list of image names\n",
      " |  \n",
      " |  ----------------------------------------------------------------------\n",
      " |  Data descriptors defined here:\n",
      " |  \n",
      " |  __dict__\n",
      " |      dictionary for instance variables (if defined)\n",
      " |  \n",
      " |  __weakref__\n",
      " |      list of weak references to the object (if defined)\n",
      "\n"
     ]
    }
   ],
   "source": [
    "help(BinaryClassificationPerformance)"
   ]
  },
  {
   "cell_type": "markdown",
   "metadata": {},
   "source": [
    "# Function for feature building and extraction on natural language data"
   ]
  },
  {
   "cell_type": "code",
   "execution_count": 3,
   "metadata": {},
   "outputs": [],
   "source": [
    "# function that takes raw data and completes all preprocessing required before model fits\n",
    "def process_raw_data(fn, my_random_seed, test=False):\n",
    "    # read and summarize data\n",
    "    movie_data = pd.read_csv(fn, sep='\\t')\n",
    "    print(\"movie_data is:\", type(movie_data))\n",
    "    print(\"movie_data has\", movie_data.shape[0], \"rows and\", movie_data.shape[1], \"columns\", \"\\n\")\n",
    "    print(\"the data types for each of the columns in movie_data:\")\n",
    "    print(movie_data.dtypes, \"\\n\")\n",
    "    print(\"the first 10 rows in movie_data:\")\n",
    "    print(movie_data.head(5))\n",
    "    if (not test):\n",
    "        print(\"The rate of 'good' movie reviews in the dataset: \")\n",
    "        print(movie_data['sentiment'].mean())\n",
    "\n",
    "    # vectorize Bag of Words from review text; as sparse matrix\n",
    "    if (not test): # fit_transform()\n",
    "        hv = HashingVectorizer(n_features=2 ** 17, alternate_sign=False,ngram_range=(1,3))#smaller the n_features is, the better performance for the training set, but worse for the test set\n",
    "        X_hv = hv.fit_transform(movie_data.review)\n",
    "        fitted_transformations.append(hv)\n",
    "        print(\"Shape of HashingVectorizer X:\")\n",
    "        print(X_hv.shape)\n",
    "    else: # transform() \n",
    "        X_hv = fitted_transformations[0].transform(movie_data.review)\n",
    "        print(\"Shape of HashingVectorizer X:\")\n",
    "        print(X_hv.shape)\n",
    "    \n",
    "    # http://scikit-learn.org/stable/modules/generated/sklearn.feature_extraction.text.TfidfTransformer.html\n",
    "    if (not test):\n",
    "        transformer = TfidfTransformer()\n",
    "        X_tfidf = transformer.fit_transform(X_hv)\n",
    "        fitted_transformations.append(transformer)\n",
    "    else:\n",
    "        X_tfidf = fitted_transformations[1].transform(X_hv)\n",
    "    \n",
    "    # create additional quantitative features\n",
    "    # features from Amazon.csv to add to feature set\n",
    "    movie_data['word_count'] = movie_data['review'].str.split(' ').str.len()\n",
    "    movie_data['punc_count'] = movie_data['review'].str.count(\"\\.\")\n",
    "\n",
    "\n",
    "    X_quant_features = movie_data[[\"word_count\", \"punc_count\"]]\n",
    "    print(\"Look at a few rows of the new quantitative features: \")\n",
    "    print(X_quant_features.head(10))\n",
    "    \n",
    "    # Combine all quantitative features into a single sparse matrix\n",
    "    X_quant_features_csr = csr_matrix(X_quant_features)\n",
    "    X_combined = hstack([X_tfidf, X_quant_features_csr])\n",
    "    X_matrix = csr_matrix(X_combined) # convert to sparse matrix\n",
    "    print(\"Size of combined bag of words and new quantitative variables matrix:\")\n",
    "    print(X_matrix.shape)\n",
    "    \n",
    "    # Create `X`, scaled matrix of features\n",
    "    # feature scaling\n",
    "    if (not test):\n",
    "        sc = StandardScaler(with_mean=False)\n",
    "        X = sc.fit_transform(X_matrix)\n",
    "        fitted_transformations.append(sc)\n",
    "        print(X.shape)\n",
    "        y = movie_data['sentiment']\n",
    "    else:\n",
    "        X = fitted_transformations[2].transform(X_matrix)\n",
    "        print(X.shape)\n",
    "    \n",
    "    # Create Training and Test Sets\n",
    "    # enter an integer for the random_state parameter; any integer will work\n",
    "    if (test):\n",
    "        X_submission_test = X\n",
    "        print(\"Shape of X_test for submission:\")\n",
    "        print(X_submission_test.shape)\n",
    "        print('SUCCESS!')\n",
    "        return(movie_data, X_submission_test)\n",
    "    else: \n",
    "        X_train, X_test, y_train, y_test, X_raw_train, X_raw_test = train_test_split(X, y, movie_data, test_size=0.2, random_state=my_random_seed)\n",
    "        print(\"Shape of X_train and X_test:\")\n",
    "        print(X_train.shape)\n",
    "        print(X_test.shape)\n",
    "        print(\"Shape of y_train and y_test:\")\n",
    "        print(y_train.shape)\n",
    "        print(y_test.shape)\n",
    "        print(\"Shape of X_raw_train and X_raw_test:\")\n",
    "        print(X_raw_train.shape)\n",
    "        print(X_raw_test.shape)\n",
    "        print('SUCCESS!')\n",
    "        return(X_train, X_test, y_train, y_test, X_raw_train, X_raw_test)"
   ]
  },
  {
   "cell_type": "markdown",
   "metadata": {},
   "source": [
    "# Create training and test sets from function"
   ]
  },
  {
   "cell_type": "code",
   "execution_count": 4,
   "metadata": {},
   "outputs": [
    {
     "name": "stdout",
     "output_type": "stream",
     "text": [
      "movie_data is: <class 'pandas.core.frame.DataFrame'>\n",
      "movie_data has 25000 rows and 3 columns \n",
      "\n",
      "the data types for each of the columns in movie_data:\n",
      "id           object\n",
      "sentiment     int64\n",
      "review       object\n",
      "dtype: object \n",
      "\n",
      "the first 10 rows in movie_data:\n",
      "       id  sentiment                                             review\n",
      "0  5814_8          1  With all this stuff going down at the moment w...\n",
      "1  2381_9          1  \\The Classic War of the Worlds\\\" by Timothy Hi...\n",
      "2  7759_3          0  The film starts with a manager (Nicholas Bell)...\n",
      "3  3630_4          0  It must be assumed that those who praised this...\n",
      "4  9495_8          1  Superbly trashy and wondrously unpretentious 8...\n",
      "The rate of 'good' movie reviews in the dataset: \n",
      "0.5\n",
      "Shape of HashingVectorizer X:\n",
      "(25000, 131072)\n",
      "Look at a few rows of the new quantitative features: \n",
      "   word_count  punc_count\n",
      "0         433          20\n",
      "1         158          16\n",
      "2         378          20\n",
      "3         379           8\n",
      "4         367           9\n",
      "5          89           5\n",
      "6         112           9\n",
      "7         132           9\n",
      "8         163           7\n",
      "9          43           5\n",
      "Size of combined bag of words and new quantitative variables matrix:\n",
      "(25000, 131074)\n",
      "(25000, 131074)\n",
      "Shape of X_train and X_test:\n",
      "(20000, 131074)\n",
      "(5000, 131074)\n",
      "Shape of y_train and y_test:\n",
      "(20000,)\n",
      "(5000,)\n",
      "Shape of X_raw_train and X_raw_test:\n",
      "(20000, 5)\n",
      "(5000, 5)\n",
      "SUCCESS!\n",
      "Number of fits stored in `fitted_transformations` list: \n",
      "3\n"
     ]
    }
   ],
   "source": [
    "# create an empty list to store any use of fit_transform() to transform() later\n",
    "# it is a global list to store model and feature extraction fits\n",
    "fitted_transformations = []\n",
    "\n",
    "# CHANGE FILE PATH and my_random_seed number (any integer other than 74 will do): \n",
    "X_train, X_test, y_train, y_test, X_raw_train, X_raw_test = process_raw_data(fn='./moviereviews_train.tsv', my_random_seed=70)\n",
    "\n",
    "print(\"Number of fits stored in `fitted_transformations` list: \")\n",
    "print(len(fitted_transformations))"
   ]
  },
  {
   "cell_type": "markdown",
   "metadata": {},
   "source": [
    "# Fit (and tune) Various Models"
   ]
  },
  {
   "cell_type": "markdown",
   "metadata": {},
   "source": [
    "### MODEL: ordinary least squares"
   ]
  },
  {
   "cell_type": "code",
   "execution_count": 5,
   "metadata": {},
   "outputs": [
    {
     "name": "stdout",
     "output_type": "stream",
     "text": [
      "{'Pos': 10004, 'Neg': 9996, 'TP': 4260, 'TN': 6061, 'FP': 3935, 'FN': 5744, 'Accuracy': 0.51605, 'Precision': 0.5198291641244661, 'Recall': 0.4258296681327469, 'desc': 'ols_train'}\n"
     ]
    }
   ],
   "source": [
    "from sklearn import linear_model\n",
    "ols = linear_model.SGDClassifier(loss=\"squared_loss\")\n",
    "ols.fit(X_train, y_train)\n",
    "\n",
    "ols_performance_train = BinaryClassificationPerformance(ols.predict(X_train), y_train, 'ols_train')\n",
    "ols_performance_train.compute_measures()\n",
    "print(ols_performance_train.performance_measures)"
   ]
  },
  {
   "cell_type": "markdown",
   "metadata": {},
   "source": [
    "### MODEL: SVM, linear"
   ]
  },
  {
   "cell_type": "code",
   "execution_count": 6,
   "metadata": {},
   "outputs": [
    {
     "name": "stdout",
     "output_type": "stream",
     "text": [
      "{'Pos': 10004, 'Neg': 9996, 'TP': 10004, 'TN': 9996, 'FP': 0, 'FN': 0, 'Accuracy': 1.0, 'Precision': 1.0, 'Recall': 1.0, 'desc': 'svm_train'}\n"
     ]
    }
   ],
   "source": [
    "from sklearn import linear_model\n",
    "svm = linear_model.SGDClassifier()\n",
    "svm.fit(X_train, y_train)\n",
    "\n",
    "svm_performance_train = BinaryClassificationPerformance(svm.predict(X_train), y_train, 'svm_train')\n",
    "svm_performance_train.compute_measures()\n",
    "print(svm_performance_train.performance_measures)"
   ]
  },
  {
   "cell_type": "markdown",
   "metadata": {},
   "source": [
    "### MODEL: logistic regression"
   ]
  },
  {
   "cell_type": "code",
   "execution_count": 7,
   "metadata": {},
   "outputs": [
    {
     "name": "stdout",
     "output_type": "stream",
     "text": [
      "{'Pos': 10004, 'Neg': 9996, 'TP': 10004, 'TN': 9996, 'FP': 0, 'FN': 0, 'Accuracy': 1.0, 'Precision': 1.0, 'Recall': 1.0, 'desc': 'lgs_train'}\n"
     ]
    }
   ],
   "source": [
    "from sklearn import linear_model\n",
    "lgs = linear_model.SGDClassifier(loss='log')\n",
    "lgs.fit(X_train, y_train)\n",
    "\n",
    "lgs_performance_train = BinaryClassificationPerformance(lgs.predict(X_train), y_train, 'lgs_train')\n",
    "lgs_performance_train.compute_measures()\n",
    "print(lgs_performance_train.performance_measures)"
   ]
  },
  {
   "cell_type": "markdown",
   "metadata": {},
   "source": [
    "### MODEL: Naive Bayes"
   ]
  },
  {
   "cell_type": "code",
   "execution_count": 8,
   "metadata": {},
   "outputs": [
    {
     "name": "stdout",
     "output_type": "stream",
     "text": [
      "{'Pos': 10004, 'Neg': 9996, 'TP': 9884, 'TN': 9872, 'FP': 124, 'FN': 120, 'Accuracy': 0.9878, 'Precision': 0.9876099120703438, 'Recall': 0.9880047980807677, 'desc': 'nbs_train'}\n"
     ]
    }
   ],
   "source": [
    "from sklearn.naive_bayes import MultinomialNB\n",
    "nbs = MultinomialNB()\n",
    "nbs.fit(X_train, y_train)\n",
    "\n",
    "nbs_performance_train = BinaryClassificationPerformance(nbs.predict(X_train), y_train, 'nbs_train')\n",
    "nbs_performance_train.compute_measures()\n",
    "print(nbs_performance_train.performance_measures)"
   ]
  },
  {
   "cell_type": "markdown",
   "metadata": {},
   "source": [
    "### MODEL: Perceptron"
   ]
  },
  {
   "cell_type": "code",
   "execution_count": 9,
   "metadata": {},
   "outputs": [
    {
     "name": "stdout",
     "output_type": "stream",
     "text": [
      "{'Pos': 10004, 'Neg': 9996, 'TP': 10004, 'TN': 9996, 'FP': 0, 'FN': 0, 'Accuracy': 1.0, 'Precision': 1.0, 'Recall': 1.0, 'desc': 'prc_train'}\n"
     ]
    }
   ],
   "source": [
    "from sklearn import linear_model\n",
    "prc = linear_model.SGDClassifier(loss='perceptron')\n",
    "prc.fit(X_train, y_train)\n",
    "\n",
    "prc_performance_train = BinaryClassificationPerformance(prc.predict(X_train), y_train, 'prc_train')\n",
    "prc_performance_train.compute_measures()\n",
    "print(prc_performance_train.performance_measures)"
   ]
  },
  {
   "cell_type": "markdown",
   "metadata": {},
   "source": [
    "### MODEL: Ridge Regression Classifier"
   ]
  },
  {
   "cell_type": "code",
   "execution_count": 10,
   "metadata": {},
   "outputs": [
    {
     "name": "stdout",
     "output_type": "stream",
     "text": [
      "{'Pos': 10004, 'Neg': 9996, 'TP': 10004, 'TN': 9996, 'FP': 0, 'FN': 0, 'Accuracy': 1.0, 'Precision': 1.0, 'Recall': 1.0, 'desc': 'rdg_train'}\n"
     ]
    }
   ],
   "source": [
    "from sklearn import linear_model\n",
    "rdg = linear_model.RidgeClassifier()\n",
    "rdg.fit(X_train, y_train)\n",
    "\n",
    "rdg_performance_train = BinaryClassificationPerformance(rdg.predict(X_train), y_train, 'rdg_train')\n",
    "rdg_performance_train.compute_measures()\n",
    "print(rdg_performance_train.performance_measures)"
   ]
  },
  {
   "cell_type": "markdown",
   "metadata": {},
   "source": [
    "### MODEL: Random Forest Classifier"
   ]
  },
  {
   "cell_type": "code",
   "execution_count": 11,
   "metadata": {},
   "outputs": [
    {
     "name": "stdout",
     "output_type": "stream",
     "text": [
      "{'Pos': 10004, 'Neg': 9996, 'TP': 8212, 'TN': 7321, 'FP': 2675, 'FN': 1792, 'Accuracy': 0.77665, 'Precision': 0.7542941122439607, 'Recall': 0.8208716513394642, 'desc': 'rdf_train'}\n"
     ]
    }
   ],
   "source": [
    "from sklearn.ensemble import RandomForestClassifier\n",
    "rdf = RandomForestClassifier(max_depth=2, random_state=0)\n",
    "rdf.fit(X_train, y_train)\n",
    "\n",
    "rdf_performance_train = BinaryClassificationPerformance(rdf.predict(X_train), y_train, 'rdf_train')\n",
    "rdf_performance_train.compute_measures()\n",
    "print(rdf_performance_train.performance_measures)"
   ]
  },
  {
   "cell_type": "markdown",
   "metadata": {},
   "source": [
    "### ROC plot to compare performance of various models and fits"
   ]
  },
  {
   "cell_type": "code",
   "execution_count": 12,
   "metadata": {
    "scrolled": false
   },
   "outputs": [
    {
     "data": {
      "image/png": "[encoded data removed]",
      "text/plain": [
       "<Figure size 432x288 with 1 Axes>"
      ]
     },
     "metadata": {
      "needs_background": "light"
     },
     "output_type": "display_data"
    }
   ],
   "source": [
    "fits = [ols_performance_train, svm_performance_train, lgs_performance_train, nbs_performance_train, prc_performance_train, rdg_performance_train, rdf_performance_train]\n",
    "\n",
    "for fit in fits:\n",
    "    plt.plot(fit.performance_measures['FP'] / fit.performance_measures['Neg'], \n",
    "             fit.performance_measures['TP'] / fit.performance_measures['Pos'], 'bo')\n",
    "    plt.text(fit.performance_measures['FP'] / fit.performance_measures['Neg'], \n",
    "             fit.performance_measures['TP'] / fit.performance_measures['Pos'], fit.desc)\n",
    "plt.axis([0, 1, 0, 1])\n",
    "plt.title('ROC plot: test set')\n",
    "plt.xlabel('False positive rate')\n",
    "plt.ylabel('True positive rate')\n",
    "plt.show()"
   ]
  },
  {
   "cell_type": "markdown",
   "metadata": {},
   "source": [
    "### looking at reviews based on their classification\n",
    "\n",
    "Let's say we decide that Ordinary Least Squares (OLS) Regression is the best model for generalization. Let's take a look at some of the reviews and try to make a (subjective) determination of whether it's generalizing well. "
   ]
  },
  {
   "cell_type": "code",
   "execution_count": 13,
   "metadata": {},
   "outputs": [],
   "source": [
    "ols_predictions = ols.predict(X_train)"
   ]
  },
  {
   "cell_type": "markdown",
   "metadata": {},
   "source": [
    "### let's look at some false positives:"
   ]
  },
  {
   "cell_type": "code",
   "execution_count": 14,
   "metadata": {},
   "outputs": [
    {
     "name": "stdout",
     "output_type": "stream",
     "text": [
      "Examples of false positives:\n",
      "74\n",
      "If there was some weird inversed Oscar Academy awards festival this flick would win it all. It has all the gods, excellent plot, extreme special effects coupled with extremely good acting skills and of course in every role there is a celebrity superstar. Well, this could be the scenario if the world was inversed, but it's not. Instead it's the worst horror flick ever made, not only bad actors that seem to read the scripts from a teleprinter with bad dyslexia, but also extremely low on special effects. For example the devil costume (which by the way is a must-see), is something of the most hilarious I've ever seen. Whenever I saw that red-black so called monster on screen I couldn't hold my laugh back. And to top of things it looked like the funny creature was transported by a conveyor-belt.<br /><br />Do not do the same mistake as I did. Checking IMDB seeing that the movie was released in 2003, had less than five votes and thinking: -\\Well, it's worth a shot, can't be that bad\\\".<br /><br />Yes it could.<br /><br />I'm not even going to waste more words on this movie.\"\n",
      "* * * * * * * * * \n",
      "258\n",
      "\\The Bat People\\\" is a proud resident of the IMDb Bottom 100. Every once and a while the movie suddenly vanishes from the infamous list, depending on whether there are new movies with Paris Hilton in the lead or documentaries about American Idol stars, but it always reliably returns sooner or later. And why? Because, unlike the majority of crap in that list, \\\"The Bat People\\\" is a legitimate bad film and it deserves to be on there regardless of any media influences or internet buzz! This nearly isn't the worst film ever made, since the basic concept definitely has a certain charm and ingenuity, but it's still indescribably difficult to sit through the whole thing. The script is incredibly boring, with absolutely unnecessary padding footage and gigantic gaps in continuity, and yet the main characters still remain total strangers throughout the entire film. Other than a sensible screenplay, the film also lacks spectacular killing sequences and the make-up effects  although courtesy of a young Stan Winston  are ludicrously inept and remain largely unseen until the end of the film. The film's title is inaccurate, as \\\"people\\\" refers to a number in plural whereas the story actually just revolves on one Bat Person. Much more than Bruce Wayne, the real Batman plays in this movie and he as well has a genuine Bat-cave and a Bat-mobile (a stolen ambulance)! The plot introduces a young couple on their honeymoon-weekend exploring caves. They wander off from a guided tour group and he gets bitten by a bat whilst trying to protect his wife from the animal's vicious attack. Worried that he might be infected with rabies, he undergoes an intense treatment at the local hospital, but still this doesn't prevent him from slowly transforming into a bloodthirsty bat creature. He kills random people at night and toys around with the suspicious police sergeant whilst his loving wife is still vastly convinced the awkward behavior is exclusively due to allergic reactions to the rabies treatment. Sure, honey! The script never explains why a bat would attack people and how come John always changes back into a normal human being at the dawn of a new day instead of gradually turning into a permanent state of bat-guano. So basically, \\\"The Bat People\\\" is a variation on the good old werewolf-theme, but obviously not a very interesting one. The concept showed a lot of potential, but somehow the sub plots center on whiny drunks and perverted Sheriffs instead of on ghastly monsters. Some of the settings and exterior filming locations look impressive, the misfit song playing during the credits is strangely catchy, there's a nice bit of gore during the climax (finally!) and main actress Marianne McAndrew is ravishing to look at (though not to listen to). This truly bad and boring film's current listing in the bottom 100 is spot number 80, and personally I hope it sticks somewhere in that region. The list simply wouldn't feel and traditional without \\\"The Bat People\\\".\"\n",
      "* * * * * * * * * \n",
      "364\n",
      "Yeah, Madsen's character - whilst talking to the woman from the TV station - is right: the LAPD IS a corrupt, violent and racist police. And this movie changes nothing about it. Okay, here are the good cops, the moral cops, even a black one, whow, a Christian, a martyr. But this is a fairy tale, admit it. Reality is not like that. And most important for the action fans: The shoot out is boring. It's just shooting and shooting and shooting. Nothing more. Play Counter Strike, then you will at least have something to do. The only moral of this film is: The LAPD is good now. No more bad cops in it. If you like uncritical, euphemistic commercials for police and military service, watch this movie. It's the longest commercial I've ever seen. (2 Points for camera and editing).\n",
      "* * * * * * * * * \n",
      "381\n",
      "Wow, what can I say about this film? It's a lousy piece of crap. I'm surprised that it got rated as high as it did. What's wrong with this film? Here's a better question: What's NOT wrong with this film.<br /><br />The story itself is just crap and cliché. Here's pretty much what it's about...Some kinda nerdy kid with no friends gets picked on, gets killed, and comes back as a scarecrow for revenge. \\All\\\" of that is packed into 86 minutes of worthless film. If you haven't seen this movie don't waste your time watching it. Also, the second one isn't much better, so don't bother watching that either...I rated this movie a three because I liked the scarecrow's outfit, not because there was anything good about the movie. I think you get the picture.\"\n",
      "* * * * * * * * * \n",
      "416\n",
      "Whoever wrote the script for this movie does not deserve to work in Hollywood at all (not even live there), and those actors need to find another job. The most dreadful hour and some minutes of my life... and I only kept watching to see if it would get better which, unfortunately for me it did not.<br /><br />Even at the end, the credits gave me anxiety. I guess there weren't a lot of people behind the movie so they had to roll the credits slowly... very slowly.<br /><br />This movie is definitely a great \\How Not To Make a Movie\\\" guide. Too bad I can't give a 0.\"\n",
      "* * * * * * * * * \n",
      "477\n",
      "Too Much of Something Borrowed Grade B-<br /><br />Super Bowl Sunday is one of the slowest days at movie theaters every year. Because of this, movie studios tend to avoid releasing bigger budgeted films that weekend. Every few years a studio releases a counter-programming female skewing movie (2001's \\The Wedding Planner\\\") to compete with the big game. This Super Bowl weekend similarly titled \\\"The Wedding Date\\\" will try to find success and attract viewers not watching the game. <br /><br />Sick of people feeling sorry for her, single-woman, Kat Ellis (Debra Messing, TV's \\\"Will and Grace\\\") hires male escort Nick ( Dermot Mulrony, \\\"About Schmidt\\\") to pose as her boyfriend for her sister's wedding in London. Her family has been giving her a hard time about her not being married, and her ex- fiancé of seven years, who dumped her without a reason, is the best man. To make him jealous Kat parades Nick around her ex to make him see what he is missing. But ultimately Nick helps Kat realize that she can open up, and let someone love her.<br /><br />The film borrows too much from similar wedding movies. It is almost a carbon copy of 1999's \\\"Picture Perfect\\\" and mixes in scenes similar to \\\"The Wedding Planner\\\" and \\\"My Best Friends Wedding\\\". The movie also has a reverse \\\"Pretty Women\\\" theme going for it, and knowing her audience, the director makes clever references to that and other films.<br /><br />\\\"The Wedding Date\\\" has all the clichéd elements of a typical wedding movie, there is the stereotypical overbearing mother (Holland Taylor, \\\"Legally Blonde\\\"), and practically plagiarized wedding speeches by the family and friends at the wedding and rehearsal dinner. The twist at the ending has been done before, but it was something that wasn't completely expected. The real reason why Kat was dumped comes as a surprise and changes the direction of the film for the last half hour.<br /><br />Even though \\\"The Wedding Date\\\" is predictable, it is able to stand on its own. Debra Messing, in her first lead role, proves she can be charming and funny. Dermot Mulrony has great chemistry with Debra Messing, but most of his dialogue was too corny and unrealistic. He is able to make best of what he is given, and be able to salvage the character. <br /><br />By the use of many clever puns (often sexual), the film is actually funny. Although primarily a chick-flick the film has components everyone can enjoy. The feel good story, and humor make it the best date movie released in a long time.\"\n",
      "* * * * * * * * * \n",
      "520\n",
      "Think of this film as a Saturday morning live-action program from ages ago. Even the small tykes will find this one hard to please because it runs like molasses! I can't fully understand how god awful it is to make something too typical and uninteresting, especially in the costume department! Too many warrior-wizard movies out there have used the same old plotline numerous times over, but this is mighty scarce considering its appeal to the little darlings. And who in the world would've let a topless mermaid be cast in the first place? I thought this was a \\family\\\" movie! MST3K, here's another fine gem for your 1999 TV season!\"\n",
      "* * * * * * * * * \n",
      "592\n",
      "This movie was physically painful to sit through, maybe because (like many people my age, and younger) I grew up with Dr. Seuss and loved his books - funny, clever, whimsical and subversive at the same time. \\The Cat in the Hat\\\" sucks all of the interest and spark out of the story, and Mike Myer's performance as the Cat is mostly bewildering. Why the Borscht Belt accent, the unfunny patter, the inappropriate jokes, the charmless costume? I had to go back and re-read the books to see the real problem: the books are SIMPLE. This movie is OVERBLOWN and way, way too long.<br /><br />You don't expect every kids' movie to be Toy Story or The Iron Giant, but this one set a new low. How could Mike Myers need the money?\"\n",
      "* * * * * * * * * \n",
      "608\n",
      "An art house maven's dream. Overrated, overpraised, overdone; a pretentious melange that not only did not deserve Best Picture of 1951 on its own merits, it was dwarfed by the competition from the start. Place in the Sun, Detective Story, Streetcar Named Desire, Abbott and Costello Meet the Invisible Man; you name it, if it came out in '51, it's better than this arthouse crapola. The closing ballet is claptrap for the intellectual crowd, out of place and in the wrong movie. Few actors in their time were less capable (at acting) or less charismatic than Kelly and Caron. My #12 Worst of '51 (I saw 201 movies), and among the 5 worst Best Picture Oscar winners.\n",
      "* * * * * * * * * \n",
      "792\n",
      "\\That 'Malcom' show on FOX is really making a killing... can't we do our own version?\\\" I speculate and paraphrase, of course, but in our hearts we all know it's true, and that the only thing NBC added to the 'Malcom' metric was sex. And, boy, did they add sex...<br /><br />Thirteen-year-old Tucker gets a boner and covers it up with his skateboard. Tucker accidentally walks in on his Aunt in the shower and she accuses him of watching her and beating off. He spies on the cute girl in the next house from his bedroom window, and she knows he wants to see her topless but she teases him by smiling and closing the window. And this is all in the pilot.<br /><br />Take it from a grown man- a boy's puberty is so sex-crazy and testicle-driven it is impossible to make it funny for a mainstream audience. The only times anyone has ever come close has been in movies, and you can count those on one hand. So it's no surprise that \\\"Tucker\\\" has the warmth and appeal of a strip-club bathroom. Did the network actually think we would like watching kids grapple with puberty? Isn't this the stuff people go to jail for? If you doubt the show's depravity consider this: 13 episodes were filmed but NBC canceled it after only 4 episodes aired; they then made the unprecedented move of \\\"burning off\\\" the remaining episodes by airing them AT MIDNIGHT so no children could see them. Ironic since kids were originally the target audience. <br /><br />Apart from its general scuzziness Tucker features a running voice-over from the lead character to flesh out the shoddy writing. Even in 2000 it was horribly dated, with it's ska incidental music and super-sarcasm. I couldn't like any of the characters enough to laugh at the jokes and the jokes didn't exactly come a mile-a-minute... Shame on NBC for this dirty rip-off... they're better than that.<br /><br />GRADE: C-\"\n",
      "* * * * * * * * * \n",
      "868\n",
      "I tried to finish this film three times, but it's god awful. Case in point: mom and daughter drive up to the bed and breakfast,mom stops for gas, crazy gas station weirdos mad at her hubby whose running the B&B try to rape her. She escapes, heads to B&B and instead of hubby going ballistic and she wanting to call the cops, story just continues with lukewarm behavior on both their parts. Wow.<br /><br />Other action logic deficits abound. Acting is also lukewarm, and the next door neighbor's warning is delivered in a really corny, badly acted moment.<br /><br />Moments of intense gore/death unevenly interwoven with lukewarm scenes of time-filler interplay between characters.<br /><br />Less focus on gore, more focus on mood and story would have been appreciated.\n",
      "* * * * * * * * * \n",
      "1017\n",
      "This was a really funny movie.<br /><br />Every 1 in the movie was trying to be serious that is what made this movie so funny. I mean come on a shark's head on a human body. Can it get any funnier. Good job Sci-Fi keep the comedy movies coming. I never thought movies could get anymore retarded. If they keep it up they will have to rename the sci fie channel the comedy sci fi channel or something like that.<br /><br />I cant wait 4 the next blockbuster movie from sci fi.<br /><br />Ill be ready with a bowl of popcorn and a case of beer or a bottle of liquor and Ill be ready to laugh it up again!!!\n",
      "* * * * * * * * * \n",
      "1052\n",
      "The night of the prom: the most important night to any shallow girl composed almost entirely of plastic. And so the characters kept reminding us every ten minutes when some head-peckingly miniscule event occurred in their miniscule lives.<br /><br />There really is no excuse for Prom Night. There is less than nothing original about it and I truly would have given it zero or less stars were it possible on IMDb. The only part of my viewing that I enjoyed was when a group of teenagers sitting in front of us decided to play a game of 'ghosts'. It was a lot more exciting than whatever was going on on the screen in front of them.<br /><br />The plot was basically some guy going on a rampage. And the thing was, it wasn't even a slightly exciting rampage. Maybe if the guy had been remotely frightening rather than a tame Robbie Williams lookalike with a baseball cap, I might have sat there feeling slightly anxious. The fact that I cared less about the characters than I did about the colour of the cinema carpet didn't really add to the effect, either. And to make matters worse, the rest of the characters were equally one-dimensional and oblivious. The hotel staff didn't seem to notice or care that one of their maids had vanished and are further proof that a murderer is unrecognisable after he has had a shave. I was incredibly surprised that the bitchy, stereotypical girl in the blue dress was the only person to notice who he was. She realises this and then proceeds to fall down the stairs, entangle herself in a plastic sheet and then knock over a pile of paint buckets. Nice one.<br /><br />The worst thing was, I hold the belief that that the director was trying his absolute hardest. He really pushed all boundaries by not showing any killing actually happening. Shocking! And the music, don't even get me started. It was almost as appropriate as stripping at a funeral.<br /><br />I really wish that Prom Night was a joke. It was terrible and stupidly predictable. No one, in their right mind or otherwise, has any reason to see this film. Mainstream cinema seems to be going downhill and films like this worsen the situation. If you get the urge to see this absolutely awful film, hear my plea. Don't do it. There are better things to spend six pounds on. Like a sheet to play ghosts with.\n",
      "* * * * * * * * * \n",
      "1085\n",
      "Miraculously, this is actually quite watchable. I mean, it's bad. It's really bad. But whereas the original was so-bad-it's-ruining-my-life bad, this is so-bad-it's-mildly-entertaining bad. Right, that's enough faint praise. Production values are rotten across the board, the acting is excruciating and the Romero-wannabe satire can't make its mind up which side of the ecology fence it's mocking. Internal logic takes a back seat to heads propelling themselves out of fridges, virus incubation times fluctuating as the 'plot' requires, bullets working against the zombies or not, zombies having the power of speech or not. Gore is the draw, obviously, but the framework is so slapdash it's annoying. The dialogue sounds like it's been translated by the same computers that mangle instruction manuals, and the scale of the zombie infestation is implied with none of the ingenuity of Romero's films. It's all topped off with a horrendous synth score. Absolute rubbish.\n",
      "* * * * * * * * * \n",
      "1169\n",
      "Amy Heckerling's second film Johnny Dangerously is a parody of 1930's gangster films made in the Warner Brothers' tradition. Michael Keaton stars as a middle aged gangster looking back at his life of hard knocks when he catches a kid trying to steal something from his pet store in 1935. Keaton's mother (Maureen Stapleton) has continuing health problems, so Keaton falls into crime at an early age via Peter Boyle. Meanwhile, the fargan Richard Dimitri plays a rival crime lord to Boyle and Keaton eventually rises through the ranks. Joe Piscopo has a hilarious turn as Danny Vermin, yeah that's right, Vermin! Griffin Dunne is Keaton's younger brother turned district attorney, Glynnis O'Connor his wife, and Marilu Henner plays Keaton's moll. The film looks notoriously cheap, making it seem like a television show instead of a theatrical film.<br /><br />The film starts out great and then slows down as expected after the first half hour. Due to the combination of dialog and gags, the film holds its own for the first half, but then it rapidly loses steam and descends into mediocrity and vulgarity in the second half. Keaton chews the scenery doing his best James Cagney impression. Stapleton has several vulgar lines that are only obnoxious, not funny. Piscopo does the \\once\\\" bit one time too many. Several supporting actors try to hold up the fort like Danny DeVito, Dom DeLuise, Ray Walston as a street vendor, Alan Hale, Jr. as a desk sergeant, and Sudie Bond as an unscrupulous cleaning lady. The second half evolves into a hit or miss television show type tone and never recovers. The closing scene utilizing The Roaring Twenties is an anachronism as is The Call Of The Wild Clark Gable film seen on a marquee earlier in the film. I think Heckerling should have known better, since the targeted audience would certainly be aware of The Roaring Twenties' actual 1939 release date. *1/2 of 4 stars.\"\n",
      "* * * * * * * * * \n",
      "1213\n",
      "If you haven't seen this yet, I say just move on, take a walk in the park, don't waste your time. Neither the scenario nor the acting is worth your money. *Spoilers*- I can't decide which was worse: The movie itself or Baldwin's hairstyle? Ellen Pompeo's acting talent is very questionable I hope she can improve it over time. The storyline is just unbelievable. Loose cannon American cop fighting criminals in Europe on his own?? Infamous Slavic mafiosi protected by only two hunks??? An emotional art teacher leading a ruthless gang??? Spanish police executive dumber than a sack of hammers??? Give me a break. There's only one good thing about this movie, though: At least, the production costs must be lower than \\Ocean's 12\\\"'s which was as meaningless and over the top as this one.\"\n",
      "* * * * * * * * * \n",
      "1273\n",
      "It pains me to write such a scathing review but by not doing so I'm simply encouraging these people. First off, just because a film is made on a small budget does not automatically make it good nor endearing. In fact in this case, the small budget is probably the films sole achievement in that it prevented large sums of money from being squandered on a one legged race horse with the shits. Have you ever seen a comedy at the theatre? Ever heard people laugh and thought \\what the dickens are you on\\\"? Well even these twats weren't laughing. Things got so bad by mid way my cat took his first ever bath. This is not film, this is children....no monkeys making images that leave you feeling like moving to France. Got to go, there's a clown at my door.............\"\n",
      "* * * * * * * * * \n",
      "1296\n",
      "This was quite possibly the worst film I've ever seen. The plot didn't make a whole lot of sense and the acting was awful. I'm a big fan of Amber Benson, I think she's usually a wonderful actress, I can't imagine why she decided to do this film. Her character, Piper, is drunk for almost the whole film, with the exception of the opening scene. On the plus side, there was several points in the film where the acting was so bad, I actually laughed out loud. But despite that, I would not recommend this film to anyone. It's only 80 minutes long, but that's 80 minutes of your life that you will have completely wasted.\n",
      "* * * * * * * * * \n",
      "1300\n",
      "Not worth the video rental or the time or the occasional efforts.<br /><br />*Makeup that a child can do. *Acting was over done...poor directing. *Editing was very choppy...many things made no sense or just seemed gratuitous. *Sound was badly dubbed. *Music was highly inappropriate. *Casting was extremely off...must have been on crack. *Zombies that talk let alone...drive, dance, work...just pisses me off. *And the bad guy...Holy Crap! As horribly casted as he was...he was the best looking zombie of all. Which doesn't say much.<br /><br />The Cover Art was good but very deceiving...as was the Main Menu of the DVD...great artwork and music.<br /><br />DON\\T BOTHER!\"\n",
      "* * * * * * * * * \n",
      "1889\n",
      "A dreary and pointless bit of fluff (bloody fluff, but fluff). Badly scripted, with inane and wooden dialogue. You do not care if the characters (indeed, even if the actors themselves) live or die. Little grace or charm, little action, little point to the whole thing. Perhaps some of the set and setting will interest--those gaps between the boards of all the buildings may be true to the way life was lived. The framework encounter is unnecessary and distracting, and the Hoppalong Cassidy character himself is both boring and inept.\n",
      "* * * * * * * * * \n",
      "2022\n",
      "Guy de Maupassant was a novelist who wrote a novel about a man, a poor man, without any moral qualities. He only wanted to success in a society where all the people, the politic men, the businessmen, the journalists, the women are corrupt. The only king is MONEY. The Maupassant hero, Charles Forestier is going higher and higher in the society scale thanks to his seduction poser. He is in love with all the women who could help him in his action to climb the society stapes. At the end of the novel, he married himself with the biggest daily paper owner's daughter, in the greatest church of Paris : \\La Madeleine\\\". \\\"Le Tout Paris\\\" is there. He has a fortune and more, he will become a member of Parliament and later a Minister. The \\\"useless\\\" women are out of his view, but he is always keeping in touch with the pretty and the usefull women. The picture \\\"THE PRIVATE AFFAIRS OF BEL AMI\\\" is a story of MORALITY. It is everything, but not a story in the Maupassant idea. Why had they put \\\"BEL AMI\\\" in its title ?\"\n",
      "* * * * * * * * * \n",
      "2039\n",
      "....as to the level of wit on which this comedy operates. Barely even reaching feature length, \\Can I Do It....'Till I Need Glasses\\\" is a collection of (mostly) dirty jokes. Many of them are so short that you can't believe it when you realize that THAT was supposed to be the punchline (example: the Santa Claus gag); others are so long that you can't believe it when you realize that they needed so much time to set up THAT punchline (example: the students' awards gag). And nearly all are directed without any artistry. Don't get me wrong: about 1 every 10 jokes actually manages to be funny (the iron / phone one is probably my favorite). There is also some wonderful full-frontal nudity that proves, yet again, that the female body, especially in its natural form, is the best thing on this planet (there is some comedic male nudity as well). And I agree with others that the intentionally stupid title song is actually pretty damn catchy! But none of those reasons are enough to give this film anything more than * out of 4.\"\n",
      "* * * * * * * * * \n",
      "2082\n",
      "I was not nearly as smitten with this as many other reviewers. Sure, it has a pair of lovely girls playing erotic, lesbian vampires. Marianne Morris and Anulka D. play these two lovely sirens with razor teeth that run up to cars on a road out of the way, hitch to their home(at dusk), and invite their prey...sex-starved men to their boudoir. What happens there...well, after they disrobe and kiss each other mostly, they kill their visitors. Director Jose Ramon Larraz does have some flashes of brilliance with his camera. Some scenes are quite eerie and effectively shot, but sex alone does not hold a film up(no pun intended...at least consciously). There really isn't much of a story here. We have the two girls. We are shown some inexplicable and unexplained beginning where we see them shot with pistol. Why? What does it mean\\ Why do we have the guy that stays for several days greet a guy at the hotel that insists he knows him from years ago? Does that have a purpose? Of course I have even more general questions like what is a couple of nice-looking girls doing as vampires in the English countryside and having a wine cellar filled with wine from the Carpathians? Anyway, the script is riddled with such flaws. It is also very sparse on the action outside of catch victims, wine and dine them(quite literally), and then go to bed in the crypt. The end gets going with some juicier scenes, but it is anti-climatic. There are, as I said, some effective scenes by the director...I particularly liked the way the girls dressed and were filmed in the woods looking for their prey. The house is also a most impressive set. And both girls are as I said very lovely. Marianne Morris in particular stands out - in more ways than one. For you older film fans, silent screen veteran Bessie Love has a brief cameo at film's end.\"\n",
      "* * * * * * * * * \n",
      "2230\n",
      "This was one of the lamest movies we watched in the last few months with a predictable plot line and pretty bad acting (mainly from the supporting characters). The interview with Hugh Laurie on the DVD was actually more rewarding than the film itself...<br /><br />Hugh Laurie obviously put a lot of effort into learning how to dance the Samba but the scope of his character only required that he immerse himself at the kiddie end of the pool. The movie is based on the appearance of a lovely girl and great music but these are not sufficient to make good entertainment.<br /><br />If you have never seen Rio, or the inside of a British bank, this film is for you. 2 out of 10.\n",
      "* * * * * * * * * \n",
      "2432\n",
      "I am stunned to discover the amount of fans this show has. Haven't said that Friends was, at best an 'average' sitcom, and not as great as others have made out. Let's face it, if it wasn't for the casting of Courtney Cox Arquette, David Schwimmer, Matthew Perry, Lisa Kudrow, Jennifer Aniston and Matt Le Blanc, then who knows whether this show would've lasted as long as it has done. I very much doubt that. Although as the series progressed, Friends got more progressively predictable, lame and boring that I couldn't care less about the characters- of whom are the most overrated in TV history- or of their plight, nor of who was sleeping with whom. And it went from being funny in the first four seasons to occasionally funny. And even when it had all these A-list Hollywood actors from the movie world, I still didn't bother to tune in. The writing in Friends became stale that I lost interest in this show from the sixth season onwards and as for the ending, well it was predictable to say the least.<br /><br />What was annoying though was that this lasted for ten seasons, whilst some of my favourite shows lasted for only three, four seasons for instance and were eventually cancelled and taken off the air for good. The show should've came to an immediate halt by the time the cast wanted bigger salaries. In truth, as much as the series waned, it was the show that was bigger than the actors themselves, not the other way round. <br /><br />When it ended in 2004, I was so relieved to see the back of this sitcom. Now, there is talk of a friends reunion show coming to our TV screens very soon. And yet, I for one will not be looking forward to it whatsoever.\n",
      "* * * * * * * * * \n",
      "2508\n",
      "Dick Foran and Peggy Moran, who were so good together in THE MUMMY'S HAND, return for this very minor Universal Horror offering. But this time, instead of having Wallace Ford as the comedic sidekick \\Babe,\\\" we get Fuzzy Knight substituting as a silly buddy named \\\"Stuff\\\". But the results are nowhere near as charming, and the scare level is virtually nil.<br /><br />Dick is a businessman who gets the idea of spearheading a treasure hunt on a remote island inside a spooky old castle. Peggy is one of the gang who comes along for the ride. But there is a tall and skinny John Carradine lookalike in a black cape and big hat known as \\\"The Phantom\\\" who crashes the party in pursuit of the buried fortune himself.<br /><br />This \\\"phantom\\\" is not very mysterious, and no effort is made to even try and keep his rather average guy face in the shadows to create any tension or spookiness. It's always nice to see perky Moran, but otherwise you can chalk this up as one of Universal's instantly forgettable misfires.\"\n",
      "* * * * * * * * * \n",
      "2983\n",
      "I will start this off by saying I couldn't get all the way through it. I picked it up on a rainy day from WalMart like the rest of the reviewers on this site. I figured there wasn't any way I would regret my purchase. Was I wrong or what? Seriously now, who approved this project? They need to be forced to watch this movie over and over until the end of eternity. That's the only fitting punishment I can think of for releasing something this bad. The shooting reminds me of the movies I used to make for class projects on a big old VHS cam. The acting isnt much better. I think the only difference is that there are a few cool cameos. Yay, who cares... Shecky Moskowitz is unfunny, and the ships comedian is an even bigger loser. That's about as much of the plot as I understood.<br /><br />Overall it's the worst movie I've ever seen. I own it on DVD and have given it to many co-workers to watch. Each comes back and laughs and says \\Wow I didnt think I'd ever say I shut off an Adam Sandler movie 15 minutes in....\\\"<br /><br />My response is always \\\"Well now you can\\\"<br /><br />\"\n",
      "* * * * * * * * * \n",
      "2995\n",
      "The Wayward Cloud is a frustrating film to watch. Infuriatingly enigmatic, it treats each shot like a work of art. You get the impression that the composition of each shot has been designed and prepared with a degree of exquisite care that borders on obsession; Expressing how far cinema has progressed since the very first films were cranked out in the nineteenth century and mimicking their construction, the camera here hardly ever moves  apart from during the camp and colourful musical numbers. Ambient noise is kept to a minimum and barely a word is spoken. This curious but effective device forces the audience to focus their attention on visual stimuli alone so that, even as the story progresses at a snail-like pace we feel ourselves becoming immersed. Unfortunately, for me at least, this immersion begins to unravel somewhere around the hour mark. I began to feel as if the film was challenging me to keep watching while becoming more difficult as the minutes dragged so that the mere act of watching became a battle of wills.<br /><br />Had the content of this film not been as sexual as it is it would no doubt been even more obscure to Western audiences. As it is, there's an abundance of female nudity and an act of sexual abuse on an unconscious (or possibly dead) woman that is so repugnant that, while it may speak volumes about the degradation to which pornography subjects both men and women (the users and the used) it is so over-zealous in the manner in which it chooses to make its point as to effectively render it ineffective. Of course the worst and most enthusiastic participants of the explosion in available pornographic content will seek this film out for all the wrong reasons and watch it with their sticky finger on the fast-forward button of the remote.<br /><br />For all its problems, the film is definitely a stayer, and the more you think about it the more sense certain aspects of it seem to make. Ironically, for a film in which so little happens, the viewer would probably be proportionately rewarded by watching a second or even third time. For me, however, once was enough",
      "\n",
      "* * * * * * * * * \n",
      "3145\n",
      "A battleship is sinking... Its survivors, hanging onto a nearby liferaft, sit there doing nothing while we go into each of their minds for a series of long flashbacks.<br /><br />Even though Noel Coward's name is the only one that you notice during the credits, everything that's cinematic in it is because of Lean. And on technical terms, its very good. David Lean just KNEW films from the get-go. There are many moments where Coward's studied dialogue takes a second seat and Lean's visual sense takes centre stage. Try the soldiers getting off the ship near the end, and that whole scene; the tracking shot towards the hymn singing, the scene where we're inside a house that gets bombed.<br /><br />Noel Coward is one of the worst actors i've ever seen. He's totally wooden, not displaying emotion, character or humanity. You can see it in his eyes that he's not really listening to what the other performer is saying, he's just waiting for them to finish so he can rush out his own line.<br /><br />7/10.<br /><br />Its episodic, a bit repetitive, and the flashbacks overwhelm the story: there's no central story that they advance, just give general insights into the characters. Still, its an interesting film worth a watch - and a good debut for Lean. Its not a very deep or penetrating film, and its definitely a propaganda film, but its also a showcase for Lean's editing skills - its all about how the pieces are put together.\n",
      "* * * * * * * * * \n",
      "3285\n",
      "As I sat subjected to this televised mediocrity, I wondered why? Why did Dianne Keaton agree to this trash? The movie uses meaningless, contrived plot lines to deliver trash to homes of thousands. The movie takes a political agenda to a new level. The movie was meaningless, and all creditability was lost to the excessive use of stereotype. <br /><br />It was obvious that Keaton tried to make this movie worthwhile, but in the end she needs to remember the age old adage that you cannot polish a turd. I hope that you did not waste your New Year's Day watching another mindless made for TV movie. I now know why the networks started airing series on Sunday night, to rid us of trash!\n",
      "* * * * * * * * * \n",
      "3373\n",
      "I'm easily entertained. I enjoyed \\Hot Shots\\\" and \\\"The Naked Gun\\\" and their many sequels, even when most people found them unbearable. I've even managed to enjoy most Pauly Shore movies. There is only one movie that I've seen that I can honestly say was bad...and this was it. It's been a while since I've seen it, but I do remember sitting in the theater thinking, \\\"This is a dumb movie. Why did I see this?\\\" It's honestly the only movie that I cannot recommend.\"\n",
      "* * * * * * * * * \n",
      "3612\n",
      "A young scientist is trying to carry on his dead father's work on limb regeneration.His overbearing mother has convinced him that he murdered his own father and is monitoring his progress for her own evil purposes.A young doctor uses reptilian DNA he extracts from a large creature and when his arm is conveniently ripped off a few minutes later,he injects himself with his formula and grows a new murderous arm...Admittedly the special effects in \\Severed Ties\\\" are pretty good and grotesque,but the rest of the film is awful.The severed arm is behaving like a snake and kills few people.Big deal.The acting is mediocre and the climax is silly.3 out of 10.\"\n",
      "* * * * * * * * * \n",
      "3664\n",
      "I can sum this movie up using 20 words or less. Way too predictable of a story line with potential to be funny but instead falls flat on its face. See, 19 words, however, I didn't completely pan this flick with just one star but instead decided to bump it up to two stars due to the fact that Julie Bowen is smoking hot and provided just enough eye candy to keep me from ripping the DVD right out from the machine and blowing it up with an M80. My advice, take the $4.00 rental fee you would have paid to see this movie and just send it right to me as an advance thank you for saving you the time and frustration of having to sit through this train wreck, or you may want to send me the $50.00 replacement fee you would have been charged from taking out your twelve gage to use this piece of garbage as skeet shooting practice.\n",
      "* * * * * * * * * \n",
      "3722\n",
      "Cruel Intentions 2 is bloody awful, I mean uber-bad. Words can not explain how bad it is, but I'll give it a go anyway.<br /><br />The plot of Cruel Intentions 2 is very similar to the first film. Sebastian (Robin Dunne), is kicked out of a private school and is forced to move to New York. There he decides to make a fresh start and just a life a normal life and settle down. Unfortunately he has to deal with his step-sister Kathryn (Amy Adams) wants to drag him down. Sebastain starts to fall in love Danielle (Sarah Thompson), the innocent daughter of the Headmaster of the school. Kathryn wants Sebastain to just sleep around with the whole school which had been describe as a 'whore-house'. Kathryn also wants to get revenge with Cherie (Keri Lynn Pratt), who humiliated her during the school assembly. Kathryn wanted to make the freshman into the biggest slut in the school, a similar sub-plot to the first film.<br /><br />Cruel Intentions 2 is basically a cancelled TV-show, which was turned into a prequel. There are so many problems with the film. It is poorly written, unfunny, and badly acted. Luckily for Amy Adams that the show never took off because now she is a fairly big actress. Whilst Cruel Intentions had a sense of realism and can been seen to be set in the real world, Cruel Intentions 2 is set in sitcom land and as described on amazon.co.uk 'a randy version of Saved by the Bell'. There were some dark themes involving sex and drug use in the first film, but in Cruel Intentions 2 tried to make it funny and some of the ideas in the film shouldn't be, such as Kathryn having an affair with a teacher. Other ideas also don't work such as the secret society where all the popular kids meet to discuss the downfall of other students. The film also had a major problem of sexualised 15/16-years-old. I know that teenagers do have sex, sometimes a lot, but when done on film or television, is treated very seriously. One famous sense was when Daneille encourages Cherie (who is around 14/15 in the film) to simulate sex on the back of a horse to the point where she has a orgasm. The idea of turning a girl around 14/15 into a slut is just very wrong with me, and shouldn't be made into a subject of comedy. The jokes in the film fall flat, whether if it's a verbal gag like 'she goes all moist when she sees you' to a visual gag where Sebastian pushes Kathryn face first into mud.<br /><br />There is a lot wrong with this film, which I don't have time to go into, but I say it should be avoid. Just watch Cruel Intentions, whilst not a classic, still is a decent film and treats the subject matter well.<br /><br />This film is just a pervert's wet dream, having school-kids having lots of sex with each other.\n",
      "* * * * * * * * * \n",
      "3837\n",
      "Unfortunately, one of the best efforts yet made in the area of special effects has been made completely pointless by being placed alongside a lumbering, silly and equally pointless plot and an inadequate, clichéd screenplay. Hollow Man is a rather useless film.<br /><br />Practically everything seen here has been done to death - the characters, the idea and the action sequences (especially the lift shaft!) - with the only genuinely intriguing element of the film being the impressive special effects. However, it is just the same special effect done over and over again, and by the end of the film that has been done to death also. I was hoping before watching Hollow Man that the Invisible Man theme, which is hardly original in itself, would be the basis of something newer and more interesting. This is not so. It isn't long before the film turns into an overly-familiar blood bath and mass of ineffectual histrionics - the mound of clichés piles up so fast that it's almost impressive.<br /><br />On top of all this, Kevin Bacon does a pretty useless job and his supporting cast are hardly trying their best. Good points might be a passable Jerry Goldsmith score (but no competition for his better efforts), a quite interesting use of thermal imagery and the special effects. I was tempted to give this film three out of ten, but the effects push Hollow Man's merit up one notch.<br /><br />4/10\n",
      "* * * * * * * * * \n",
      "3949\n",
      "Why, oh, why won't they learn? When you've got a nice, juicy exploitation gimmick, use it! Don't go messing around trying to get all deep and thoughtful; you're only gonna wind up looking foolish.<br /><br />Christmas Evil is the story of Harry Stadling, who saw a little bit too much of Mommy kissing (Daddy-dressed-as-)Santa Claus back when he was a kid. So, of course, Harry grows up obsessed with Christmas, and finally, when his disillusionment becomes too great, he flips out, dresses as Santa, and wanders the city giving out toys to good little children, and viciously killing anyone he deems naughty.<br /><br />Simple enough, and not a bad place to start. (After all, how many other holiday-themed horror flicks use the same schtick?) Unfortunately, this film wants to be more \\Santa, Portrait of a Serial Killer\\\" than \\\"Silent Night, Deadly Night\\\". Two-thirds of the film are spent documenting Harry's slow but inevitable breakdown, when I would have been willing to buy the premise by the time the opening titles were rolling. You know a slasher film is in trouble when you find yourself urging the killer to just get on with it already.<br /><br />Perhaps Harry's descent into madness could have been compelling in the hands of a competent director, but alas, we've got some guy named Lewis Jackson. Apparently, this is his only film, and it shows. The action jumps giddily from scene to scene, without establishing shots or clear views of the actors to let us know where we are and who we are seeing.<br /><br />Even once the film gets rolling, we're still treated to heaping helpings of Harry's self-pity, insecurity, and neurotic behavior. More depressing than frightening, Christmas Evil is one to avoid.\"\n",
      "* * * * * * * * * \n",
      "4188\n",
      "Bela Lugosi is an evil botanist who sends brides poisoned orchids on their wedding day, steals the body in his fake ambulance/hearse and takes it home for his midget assistant to extract the glandular juices in order to keep Bela's wife eternally young. Some second rate actors playing detectives try to solve the terrible, terrible mystery. Bela Lugosi hams it up nicely, but you can tell he needed the money. <br /><br />This film is thoroughly awful, and most of the actors would have been better off sticking to waiting tables, but the plot is wonderfully ridiculous. Tell anyone what happens in it and they tend to laugh quite a lot and demand to see the film. I got the DVD in a discount store 2 for £1, which I think is a pretty accurate valuation, anyone paying more for this would be out of their mind.\n",
      "* * * * * * * * * \n",
      "4243\n",
      "I happened to spot this flick on the shelf under \\new releases\\\" and found the idea of a hip-hop zombie flick far too interesting to pass up. That's how it was billed on the box, anyhow, and I thought to myself, \\\"What a great idea!\\\" Plus there's a \\\"Welcome to Oakland\\\" sign on the cover, too. How could I resist? Unfortunately, the hip-hop part only lasted for as long as the opening theme. Neither hip-hop music nor hip-hop culture had much of a role in the movie. Having lived in Oakland myself, I know that there are many aspiring hip-hop artists there, so the low budget of this flick was no excuse not to have a fitting soundtrack. Any number of struggling artists would have jumped on the opportunity to contribute to this flick. Why the Quiroz Brothers didn't take advantage of this is beyond me.<br /><br />Once the film got rolling, it was a completely typical zombie movie with a cast that just so happened to be completely black and Latino. You might think that this would put an unusual slant on the movie... but it didn't. Somehow, the Quiroz Brothers vision of \\\"urban culture\\\" boils down to drive-by shootings and dropping an F-bomb in every line in the movie. The rapid-fire use of the word \\\"fuck\\\" is probably this movie's most distinguishing characteristics; there were single lines that contained the word three or four times, and no line didn't contain it at least once. I'm not at all squeamish about swearing in a movie, but the feeling here was that it was the result of a lack of ideas on the part of the writers (also the Quiroz Brothers), and the script was generally very poor.<br /><br />The film was generally a disappointment. It would have been interesting to see a genuinely \\\"urban culture\\\" zombie flick, but \\\"Hood of the Living Dead\\\" doesn't deliver on that count. The characters in the movie could just as easily have been white or eskimo or anything else. There was no distinct flavor to the movie. It's just another run-of-the-mill low budget flick with bad acting, lousy writing, amateurish direction, bland cinematography, a cheap soundtrack, and nothing at all to recommend it.\"\n",
      "* * * * * * * * * \n",
      "4343\n",
      "I've seen other Guinea Pig films, like Mermaid in a Manhole & He Never Dies, and while they're pretty sick, they at least have a bit of a sense of humor to them (however dark). Devil's Experiment though, is nothing more than filming a bunch of punks submitting a young girl to many methods of torture and violence and there's no plot and no redeeming values to it whatsoever. It isn't remotely scary, except for perhaps the mind-set, but it's definitely disgusting and I certainly would not call it entertainment. Now, I'm not the paragon of good taste in films and I like my trash and sleaze, but this was too much for me, really. I'm all for disturbing, in fact, I seek out things that are disturbing whenever possible, but this was a bit much. The young woman is kicked, beaten, submitted to continuous noise via headphones until she drools, and then pelted with raw meat and innards and left hanging in a hammock out in the woods somewhere. If you think that sounds great, go for it, but it certainly put me off viewing any more Guinea Pig stuff. 1 out of 10, absolutely nauseating.\n",
      "* * * * * * * * * \n",
      "4411\n",
      "You have to respect this movie. It may be \\just a dumb kid's movie\\\" but it's the #1 most frequently requested film title in online movie forums, requested by people who remember the story but can't remember the title. Therefore what follows is a much-needed, detailed plot description, since I haven't been able to find such a description anywhere else on the Internet.<br /><br />A typical 2-story house is shown in suburbia. 7-year-old Bridget narrates about suspecting something is going on since she and her 11-year-old brother Andrew are getting presents from their parents for no apparent reason. Bridget's present is a stuffed penguin that she immediately names Sweet William. Bridget describes her relatives: Aunt Ruth, a bossy nurse taking care of grandmother, Grams the hugging grandmother who makes dolls out of socks, and her brother Andrew, who's into electronics and is grumpy. Grams accidentally hangs up on the lieutenant-governor, which indicates she's getting in the way while living with the family. The two children eat breakfast while the adults discuss moving Grams to a retirement home. Bridget makes an awful-looking pancake sandwich containing cereal, eggs, bacon, strawberries, and syrup, as Andrew looks on incredulously. The two kids then discuss Grams, and Andrew says bluntly that Grams is being \\\"put out to pasture.\\\" Bridget talks with Grams in the attic, has a play tea party with Sweet William in her bedroom, then a living doll unexpectedly pops out of her bedroom closet mirror.<br /><br />Bridget and the living doll become acquainted. The curly-haired living female doll is named Huggins and lives in Huggaland. Bridget gives Huggins a baseball cap from Andrew's room. Huggins hides under some laundry when Bridget's mother comes by, then the mother throws the laundry into the washing machine with Huggins in it. Bridget rescues Huggins and dries her off with a hair drier. They discuss the problem with Grams getting old and having to move away, Huggins says Bridget could talk to the bookworm in Huggaland about it, since he knows everything. They step through the mirror to visit Huggaland, but one of Bridget's tennis shoes becomes lodged in the mirror.<br /><br />Rather than walk around with one shoe, Bridget goes without shoes in Huggaland. They immediately meet Hugsy, a curly-haired living boy doll in Huggaland. Huggins gives Hugsy the baseball cap. They also meet Tickles, Bubbles, Impkins, and Tweaker, and all the dolls sing a song while sitting on a bridge. Hugsy takes Bridget and Huggins in his hugwagon to see the bookworm, who lives atop a stack of giant books. The bookworm consults \\\"the old encyclopedia\\\" and finds that old age can be cured by eating the fruit of the \\\"youngberry tree.\\\" However, only one such tree exists, and it's in the country of Shrugs, ruled by the mad queen of quartz. The only way to travel to Shrugs is to jump down a deep hole that is located inside a nearby giant book.<br /><br />Bridget and the two dolls gulp three times, jump down the hole, and tumble out. Soon they walk down a sideways sidewalk, hear the sea of glass breaking, and fall off the sidewalk when the sideways gravity ends. They encounter \\\"the hairy behemoth,\\\" which looks like a mastodon, has four tusks, and breathes fire out its trunk. But Hugsy boldly goes over and hugs the behemoth, who thereby turns into a baby elephant whose name is Hodgepodge. Hodgepodge had been under a spell by the queen, and owes Hugsy a favor, so they all ride on Hodgepodge's back to the castle. They enter the castle, are surrounded by troll-like beings, the queen (Queen Admira) comes, and Bridget asks for a few youngberries. The queen refuses, then eats one for herself, and brags about her own youthful good looks while looking in a hand mirror. Hodgepodge faints when the queen says he should be \\\"digested.\\\" The queen is upset when Bridget mentions that wicked witches should have warts, so the queen freezes Bridget and orders the three others to be taken to the dungeon. But the queen carelessly leaves the key to the youngberry tree's dome by the lock to the dome-lifting apparatus.<br /><br />Hodgepodge wakes up in the dungeon and uses his \\\"noodle\\\" (trunk) to pull the jail's door down, thereby freeing himself and the two dolls with him. They find Bridget standing petrified, the dolls hug her, which causes Bridget to be revived. Before they flee, Bridget finds the left-behind key to the youngberry tree dome, lifts the dome off, and they pick some glowing youngberries and put them in a jar. The queen catches them, but the queen's arm is trapped under the descending dome while reaching for the key that Bridget left on the ground. The queen suddenly turns very old since she is deprived of the youth-giving berries, and appears to die. Soon Bridget steps back through the mirror into her bedroom but trips on the bottom of the mirror, spilling the berries onto her floor, and the berries quickly vanish into smoke, one by one. Her mother calls for her and Andrew to say goodbye to Grams, who is leaving for a retirement home. Andrew drops his usual grumpy, standoffish facade and hugs Grams, telling her he loves her and that he doesn't want her to go away. Their father is moved, and decides to keep Grams there after all, and everybody hugs and cries, including Aunt Ruthie, who had been the main person pressuring Grams to move out.<br /><br />Andrew asks Bridget for his St. Louis Cardinals cap, Bridget starts to explain how she gave it to Huggins of Huggaland, but Andrew doesn't want to listen to what he believes are her fantasy stories, so he turns around to look for it in her bedroom. One of the dolls secretly hands the cap back through the mirror to Bridget, Bridget puts the cap on Andrew's head, Andrew is mystified, and leaves her bedroom without saying anything. Bridget cheerfully waves at the mirror.\"\n",
      "* * * * * * * * * \n",
      "4530\n",
      "My husband and I were intrigued by the spectacle - a strong willed Southern lady with a messy personal life solves crimes for the LAPD. The first season was must-see TV for us. Unfortunately, the stories of her personal life in the second season became so tedious and unworthy of the strong character that we stopped watching.<br /><br />My husband and I were troubled by the episode where she tries to hide from her mother the fact that she is shacked up. But the deal breaker was the episode where she hides her possible pregnancy from her boyfriend but tells her boss. Why would a strong, middle aged woman do those things? The answer is she wouldn't. Additionally, my husband and I pick out the bad guy with almost perfect accuracy. It is almost always a white male or female introduced in cameo at the murder scene or in an idealized family. Can't the script writers do something original from time to time? As I mentioned, we are no longer viewers. We prefer shows that don't betray the characters and insult our intelligence.\n",
      "* * * * * * * * * \n",
      "4643\n",
      "My god this movie is awfully boring. I am a big fan of Gina Gershon, when I rented this movie I expected a romantic drama, and some great performance from Gershon. Gershon is great as always, but she is not right actress for this role, she is too good for Rade Serbedzija. The romance between Gershon and Serbedzija's characters is too unconvincing. And I absolutely hated Serbedzija's character (a wonman organizer), he is not charming in anyway in the movie. How did Dr. Lauren Graham (Gershon) is beyond my comprehension. Maybe Sean Connery, Robert DeNiro or Harrison Ford would have done a better job on this role, but they don't have the European-ish looking I guess. Any way, I was so bored druing the movie. If you are looking for a good Gina Gershon movie, check out Bound, her best film so far. If you are looking for a romantic film about a younger woman and an older man, try some Harrison Ford or Sean Connery movies. Gina Gershon is so underrated, and she deserves better chance than this, I wish her to make better choice in the future.\n",
      "* * * * * * * * * \n",
      "4779\n",
      "Dreck about three beautiful women in California who go to cover some festival (or something). All the hotels are booked so they have to spend the night in a creepy old house. What they don't know is that there is a creepy inhabitant there who likes to kill...<br /><br />Yawn. Boring, pointless, utterly stupid \\horror\\\" film. Bach and her two buddies are certainly beautiful but the movie itself is dull dull DULL! Bach and her friends are no actresses--their faces are blank all the way through. The final \\\"revelation\\\" is laughably predictable and there's no blood or gore to keep you interested along the way. There is some expected gratuitous female nudity but that's not enough to save this. Boring, pointless and unknown (for good reason). A 1 all the way.\"\n",
      "* * * * * * * * * \n",
      "4895\n",
      "I know that in this episode there's other stuff apart from what I am going to discuss, and in fact I think it has some virtues; for example, the fact, after we had been given a very negative opinion of Jin from seeing Sun's flashbacks in \\House of the Rising Sun\\\", we get to see Jin's side of things and get a new, more balanced understanding of his life.<br /><br />But there is an element in this story that made me so deeply uncomfortable that it greatly dampened my enjoyment of the whole episode. Before now, in the scene where Jin appeared with blood on his hands and shirt, it had been hinted that Sun's father was someone who was getting rich through shady, illegal methods. I thought maybe he was a mob boss, even; mobs operate in Korea, just like in almost every other country in the world, so it was a reasonable possibility. However, in this episode we learn that Sun's father is in fact the boss (or a top executive) of a Korean automotive company, and that what Jin had been doing was physically attacking a government official (who was actually going to be murdered) on his behalf.<br /><br />I may be especially touchy about this because I happen to work in the automotive industry, but I would say it is SPECTACULARLY offensive and racist to even suggest that this kind of thing goes on in Korea; that huge, serious companies like Hyundai or Kia (which must be the model for this fictitious car company, as they are the only ones that actually exist in reality) operate with these mafia-like methods, instead of like any normal automotive company of the West. it is just unbelievable to me that the writers would have the gall to write something like that into the story, and that there hasn't been an uproar in Korea over it. It feels like extraneous \\\"Buy American!\\\" propaganda, portraying foreign car companies as criminal, untrustworthy, third-world outfits.\"\n",
      "* * * * * * * * * \n",
      "4916\n",
      "If you want an undemanding and reasonably amusing hour or so, then it's OK to watch this. It's not all that bad, really. Yeah, it's got more lapses in logic than I care to describe here and might tax the patience of people - like myself, I have to admit - who are inclined to throw things at the TV on occasion, but it's funny at least. Just because it's not always INTENTIONALLY funny, there's no need to let that get you down.<br /><br />However, if you've read the book - or any of the other books by Brookmyre - then you'd probably best avoid it. I've read them all and when I first watched this film, I despised it. I've trashed it in detail and at great length on another site, in fact. The TV plot bears practically no relevance at all to that of the book and served only to outrage and infuriate many faithful (and admittedly rabid) Brookmyre fans.<br /><br />Best bit of advice..? Watch this, then read the book and only THEN make your comparisons and submit your judgement.\n",
      "* * * * * * * * * \n",
      "4935\n",
      "No scenario, bad actors (poor Melissa Gilbert)... Beurk Beurk Beurk ...<br /><br />Give a such budget to make this... In Belgium, we make ten films which win all prices in Cannes with this.<br /><br />Last time that I've seen a such NULL-Film was Hypercube. But scenario was better.<br /><br />Is anyone knows if the director was a graduate in school-film or a cop ?<br /><br />The better things in this film was the word \\End\\\".<br /><br />Why authorize to sell this ? 1ç is to expensive. <br /><br />I've pay ten dollars to buy this.<br /><br />For me, pay for this was my BIG MISTAKE of millennium.<br /><br />Too bad.<br /><br />Next time I'll break my arm but buy this type of sh*t.\"\n",
      "* * * * * * * * * \n",
      "5058\n",
      "Whenever I make up a list of the absolute worst movies I've ever seen, this movie is always on it. It has no redeeming qualities whatsoever. It took an act of will to sit through the whole thing, and I would sooner spill my own blood than have to sit through it again.<br /><br />What's wrong with it? Let me tell you the story of my trip to go see it in the theater.<br /><br />I went to a midnight show, on a Saturday night. I the only ones in the theater were myself, and a bunch of loud, boisterous, rather unruly teenagers, sitting somewhere behind me. They were obviously out having a good time on a Saturday night, and had come to this \\comedy\\\" for some laughs. Before the movie starts, during the previews, they were laughing and joking and making loud comments having a grand old time. It was borderline annoying; had they continued their unbridled enthusiasm into the actual movie, I might've said something, but I was feeling tolerant and empathetic of their spirited fun, so I let it go. And they did settle down once the movie started.<br /><br />Why am I telling you all this? Because you can judge this alleged \\\"comedy\\\" by the effect it had not just on myself, but on this rowdy bunch.<br /><br />During the entire run of the film, not one person in the theater laughed. Not once. Not myself, not the boisterous kids. Absolute silence, aside from the soundtrack. And when the film was over and the lights came on, we all, all of us, slowly filed out of the theater in slow, somber, absolute silence. It could've been a funeral.<br /><br />This was the effect that this \\\"comedy\\\" produced. Not laughter, not enjoyment, but absolute DEPRESSION. It was a depressing, depressing movie, and not the tiniest bit funny. Preachy, self-indulgent, depressing, but not funny.<br /><br />I consider Mel Brooks' \\\"Blazing Saddles\\\" to be on the short list for Funniest Movie Ever. It still absolutely blows my mind that the same gentleman could be responsible for quite probably the Least Funny Movie Ever.<br /><br />In short: if you're feeling too happy, give this movie a whirl; otherwise, don't say I didn't warn you.\"\n",
      "* * * * * * * * * \n",
      "5181\n",
      "I saw 'Descent' last night at the Stockholm Film Festival and it was one huge disappointment. Disappointment because the storyline was potentially powerful, the prospect of seeing Rosario Dawson in a smaller intimate movie was exciting and, being a fan (sounds pervy, I'm not!) of 'rape/revenge' flicks of the 70's, I was needless to say very curious to check this movie out. My conclusion: let's stick to the classics! Yes, the storyline has potential but the dialogs are flat, the actors unconvincing. Even Dawson is empty. Some would say that it's a right depiction of the college world in the US, that the emptiness of the characters serve a purpose and all that jazz but it just makes the whole movie unsubstantial. Just like the scene where Dawson gets raped: it seriously lacks intensity! I wasn't expecting anything 'Irreversible'-style but still, aren't we suppose to feel compassion for her? I didn't. Not for a minute, she was so lame all the way ;-) And I read that the photography was impressive. Well, it is good indeed but nothing ground-breaking either. I must admit that the screening at the festival wasn't so good so maybe I missed out something here but at the end of the movie, I couldn't help thinking 'I feel like watching Argento's 'Inferno' again. lol. More seriously, the first scene in the club is beautifully shot and all but I had the bitter sensation of watching a longer and more boring version of the scene in the filthy bar near the American-Canadian border in Lynch's 'Twin Peaks - Fire Walk with Me'... the crude red and blue lighting, the heavy bass music, the general lascivious/decadent atmosphere... No, I just couldn't get into this movie. Too bad.\n",
      "* * * * * * * * * \n",
      "5266\n",
      "86 wasted minutes of my life. I fell asleep the first time I attempted watching it, and I must say I'm not one to ever fall asleep in the cinema.<br /><br />I have never seen such a pointless plot acted in such a stilted and forced manner, and can only surmise that the actors were as hard-up as the protagonist writer allegedly was in the film itself.<br /><br />Everything in this dire adaptation is overacted. And if it isn't the wooden acting, almost as though you can see the teleprompter, then the set itself, which is overlit and interfering in utterly unnecessary ways, and overdressed to an unimaginable extent, is enough to put you off the entire farce.<br /><br />As to the supposed shock of a detective under disguise, any person who does not see that - as well as the entire rest of this ludicrous plot - telegraphed light years in advance, should check their eyesight immediately.<br /><br />Bad acting, and from two very decent actors, coupled with the hyper-coddled Branagh trademark overdirection, is enough to make you want to use real bullets rather than blanks yourself.<br /><br />On top of it all, there is a completely risible undertone of homoerotica in this, heightened towards the end of it. All I can hope for is that this was such a flop that people shan't try to emulate this level of cinema ever again.\n",
      "* * * * * * * * * \n"
     ]
    },
    {
     "name": "stdout",
     "output_type": "stream",
     "text": [
      "5832\n",
      "We've been served - a terrible film.<br /><br />Okay, I'll admit that since I'm white and have had no practical experience in the \\competitive world of step-dancing,\\\" I might not exactly be an authority on this type of film. On the other hand, I do know a bad motion picture when I see it.<br /><br />And, boy, have I just seen it.<br /><br />Filmed in Low-Budget-Vision and directed by Ian Iqubal Rashid, (\\\"A Touch of Pink\\\"), \\\"How She Move\\\" tells the tale of how important it is to follow one's dreams - even if those dreams include bopping around to loud, irritating hip-hop music and speaking dialogue the average person would not understand if he or she had an international translator.<br /><br />I'll try to give a small synopsis of the \\\"plot.\\\" First of all there are two actors that look like LL Cool J who work in an auto shop in Toronto (the Mecca of racial diversity), but still have time to practice dancing for eight hours a day. <br /><br />There are a few other guys in this \\\"crew,\\\" including a token white dude and a guy that looks like Denzel Washington in \\\"Malcolm X.\\\" There are also two women in the movie - one resembles Serena Williams and the other looks like Geraldine from the old \\\"Flip Wilson Show.\\\" One of these ladies was kicked out of a private college because her parents spent all of her tuition on a drug-addicted sibling. The other girl, a member of Salt N Pepa, no doubt, is just plain no good.<br /><br />There's another guy who looks like Eddie Murphy's Buckwheat, while still another actor who's a Huggy Bear knock-off. These guys are rival step dancers. Evidently, this activity is very hard-core in the 'hood, and they are all practicing for the big \\\"Step Monster\\\" jam in Detroit.<br /><br />Since I was unable to understand 90 percent of the dialogue (perhaps some subtitles would have been useful, as in a Bergman film or that one music video by Snow), it's hard to explain what happens, other than there's a lot of arguing, the Serena Williams girl (who never smiles, by the way) becomes a freelance stepper (moving from group to group), there's some step-dancing and a lot of irritating hip-hop music.<br /><br />It's a typical rags-to-riches story; sort of like \\\"Rocky\\\" with a really bad soundtrack, \\\"Rudy\\\" with annoying rap music in the background, \\\"Cry Freedom\\\" without the laughs. <br /><br />But why does a film - which could have made a big impact on black audiences - have to contain drug addiction, bad parents and a title that sounds like a first-grader saying the phrase, \\\"How she moves\\\"?<br /><br />I was \\\"moved\\\" by this movie, however. Moved to leave the theater as quickly as possible.\"\n",
      "* * * * * * * * * \n",
      "5889\n",
      "Boring, long, pretentious, repetitive, self-involved  this move felt like a bad date. Worse, the tedious art-school direction -- with a heavy-handed use of the whirling shot that gets so overdone it almost made me throw up - is constantly screaming to be noticed. Add the thinnest of plots and virtually no dialogue, and the film begins to feel like a four hour epic about 30 minutes in. It gets worse: instead of dialogue there are poorly written voice-overs AND quotes and songs that comment all too obviously on the characters. Really loud opera music too. Blame it all on the director.<br /><br />The actors are all quite good. The lead actor Miguel Angel Hoppe is particularly suited for film stardom. He and the other actors have some tender erotic moments. Even these start to get boring after 5 minutes however, and one wonders if the director is auditioning for a Bel Ami porn job. The stunning college campus architecture as a location in Mexico City is inspiring. How come universities in the US are so bland (SFSU, UC, etc.)? But wait for the DVD on this film. You'll want to use the fast scan button  a lot.\n",
      "* * * * * * * * * \n",
      "5917\n",
      "This is a terrible remake of a marginal, but well liked, movie from the early 70's. I have seen the original at least 6 times. The 1997 version is a 20 minute movie 'crammed' into 2 hours or whatever the runtime is. Cheesy storyline, which by the way, is completely different than the original. The major government involvement was far-fetched. There is no flow from one scene to the next. In the original you could go get a beer or hit the bathroom and still keep up. <br /><br />It only took a few hours movie time to change the oil pan on the car. It takes many times longer than that in real life. Car guys notice this stuff. Also, the fool or fools that chose to trash a 1968 Charger and abuse a 1970 Challenger should be shot in the heel with a dull bullet. The fact they aren't 'car people' is painfully obvious, and their passing will not be grieved. <br /><br />The actors lacked any emotion, everything was cut and dried. One step above a monotone. A barmitzvah is more exciting and energetic.<br /><br />Last but surely not least, the radio DJ made the statement that the Challenger hit the bulldozers at 180 or 185 (??). That is total garbage. Can you say aerodynamics, or lack thereof?? Hahahaha!! This movie is a joke. Don't waste your time watching this one.\n",
      "* * * * * * * * * \n",
      "5921\n",
      "A so common horror story about a luxury building at Brooklyn which hides the gates to hell. It is reminiscent of Polanski's \\The Tenant\\\" (released a year before \\\"The sentinel\\\"), but is too far from the movie of the polish filmmaker in any aspect possible. \\\"The tenant\\\" was so disturbing, whereas \\\"The sentinel\\\" is not at all.<br /><br />What it's more surprising from this film is the cast: it is full of great names of American cinema (Burguess, Gardner, Wallach), veteran actors acting for food (I guess).<br /><br />Verdict: barely entertaining.<br /><br />*My rate: 4/10\"\n",
      "* * * * * * * * * \n",
      "6052\n",
      "I've now just realised that by watching this film I have lost valuable precious moments of my life I will never get back. Thsi film isn't just poor its dire. It reminded me of every stereotypical black sitcom ever made.<br /><br />I regret watching this film.<br /><br />Flixmedia reckons its a race issue, apparently \\White\\\" people don't like it because it doesn't have white actors. Mate, I think you'll find the reason why no one liked this was because watching paint dry is far more entertaining and funnier then this pile of drivel.<br /><br />Please stop making crap films\"\n",
      "* * * * * * * * * \n",
      "6426\n",
      ". . . And that's a bad thing, because at least if this had been a Troma film, it would have had wanton violence and a greater sense of anarchic abandon that might have brought my rating up a bit.<br /><br />So what we have instead is a very tame (rated PG), barely lukewarm, low budget (Roger Corman produced it with an unknown director who has subsequently remained unknown) Gremlins (1984)/Critters (1986)-wannabe with almost exclusively flat humor, little of the logic that made Gremlins work so well--fantasy logic or not, no suspense, no sense of adventure, and no violence or nudity to make up for it.<br /><br />Although I'm sure some of the problems with the film are inherent in the script--let's face it, no one could deliver these jokes so that they would be funny--it seems like the biggest blame has to fall into the lap of the director, Bettina Hirsch. In more capable hands, Munchies could have been entertaining.<br /><br />After all, it starts out like many great adventure films. Simon Waterman (Harvey Korman) and his son Paul (Charles Stratton) are in Peru on an archaeological dig. Simon is a bit of a wacky archaeologist who is always floating theories about the connections between ancient sites and alien civilizations. For example, he thinks he sees evidence of laser-cutting on ancient stonework. So they're at Machu Picchu looking for more evidence of Simon's theories when they happen upon a secret chamber. Inside they quickly find the animal they later dub \\Arnold\\\", one of the titular munchies.<br /><br />They take Arnold back home to their small California desert town. Simon, who thinks that Arnold is probably an alien creature, has to go off to a colleague's lecture, and he plans on telling the colleague that he finally has an alien specimen. Paul and his extremely cute girlfriend, Cindy (Nadine Van der Velde), are left in charge of Arnold, but as they haven't seen each other in a long time, they leave Arnold unsupervised while they hop in the sack.<br /><br />Meanwhile, Simon's brother Cecil (played also by Korman in a dual role), owner of a successful snack foods company, is eager to buy off Simon's home and land--they're adjacent to his own. Simon doesn't want to sell, so Cecil hits upon a scheme to steal Arnold. Things gradually spiral out of control, and the munchies, who have a mean streak to go along with their cravings for junk food, begin to overrun the town.<br /><br />That reads better in a summary than it plays on the screen. The best shots in the film are those with natural landscapes in the background, such as when characters are driving on the outskirts of the desert town. Interiors, with the exception of Cecil's home, tend to look like poorly decorated, cheap sets, and more importantly, they tend to show that Hirsch is not very skilled at blocking and setting up shots. Oddly, given the paucity of the production design overall, Cecil's home is quite a gem, imbued as it is in overblown 1980s style down to the smallest details, and Cecil's stepson, Dude (Jon Stafford), was an amusing counterpoint. Too bad, then, that he's out of the film so quickly.<br /><br />At any rate, Korman is a fun actor, but he comes across much better here as Simon than as Cecil. Unfortunately, Simon ends up being absent for most of the film. Cecil, who is differentiated physically by a ridiculous wig and facial hair, is not only the \\\"evil capitalist\\\" of the film, he's one of Korman's classic inconsiderate, boorish characters--that was one of his specialties, frequently capitalized on in \\\"Carol Burnett Show\\\" (1967) skits. Unlike \\\"The Carol Burnett Show\\\", which tended to succeed because directors Clark Jones and Dave Powers had a studied way of pushing the skits just to the brink of chaos, Hirsch reins Korman in way too far, and the Cecil character just doesn't work the way it should.<br /><br />There are a lot of other director-related problems, not the least of which is wonky pacing and editing, which completely sap any possible suspense or compelling dramatic impact from the film. Even scenes that should have been shoe-ins for amping up the drama--such as when the munchies are harassing an old lady on the road--are put together far too awkwardly to have much affect.<br /><br />There are also serious logical problems with the story as it stands. Where did the munchie in the chamber at Machu Picchu come from? The film's trailer seems to show an answer to this, but it was edited out of the final cut. A more serious problem is that, unlike gremlins, there is no clear reason for munchies to go from cute, cuddly furballs to menacing monsters. It just happens. Further, because Munchies was kept PG, and the violence remains toned down, when the creatures are in their monster phase, they're never very threatening. They're also easily dispatched, at least temporarily.<br /><br />Admittedly, the gist of the film isn't suspense, horror, compelling drama or any of that other stuff, but humor. It's intended more as a spoof of Gremlins and the countless rip-offs in its wake. The only problem with that is that the film just isn't funny, even though I chuckled a couple times. A surprisingly high percentage of the jokes are bland clichés. Too much of the remaining material consists of non-sequiturs. Given bad timing from Hirsch, it all just falls flat. There was potential to make a film that while a spoof, was both funny and frightening, hilarious and disturbing, cheesy and suspenseful, all at the same time, ala Killer Klowns from Outer Space (1988). Too bad, then, that Munchies comes nowhere near that.\"\n",
      "* * * * * * * * * \n",
      "6439\n",
      "This had a great cast with big-name stars like Tyrone Power, Henry Fonda, Randolph Scott, Nancy Kelly, Henry Hull and Brian Donlevey and a bunch more lesser-but-known names with shorter roles. It also had Technicolor, one of the few movies made with it in 1939.<br /><br />Now the bad news.......regrettably, I can't say much positive for the story. It portrayed the James boys in a totally positive light....and Hollywood has done that ever since. Why these criminals are always shown to be the \\good guys\\\" is beyond me. This film glamorizes them and made their enemies - the railroad people - into vicious human beings. The latter was exaggerated so much it was preposterous. Well, that's the film world for you: evil is good; good is bad.<br /><br />Hey Hollywood: here's a news flash - The James boys were criminals! Really - look it up!\"\n",
      "* * * * * * * * * \n",
      "6464\n",
      "Kol, space prisoner on space death row, manages to hijack a space shuttle and escape to the woods of America where he, along with some new found friend try to escape from the 'Alienator\\ a female cyborg killing machine. Made one year after the best movie of Fred Olen Ray's career, \\\"Hollywood Chainsaw Hookers\\\", this one can't help but feel like a bit of a letdown. Just as low-budget as that earlier film, but not nearly as fun as I had with it. None of the actors really stood out at me. The film is alright for the undiscriminating viewer during a rainy Saturday afternoon, but that's pretty much all it's good for.<br /><br />My Grade: D+ <br /><br />Where i saw it: Showtime Thriller\"\n",
      "* * * * * * * * * \n",
      "6477\n",
      "With a title like that, it's above and beyond my comprehension how this movie just did NOT appeal to me. Granted, there's a few decently sleazy moments and a little gore, but the way in which the movie was shot and the overall storyline just struck me as an idiotic and lazy attempt at profuse \\shock\\\" tactics... The inconsistent plot starts with a guy raping and murdering a woman stranded at the side of the road. He and his abetting brother are imprisoned up until the brother breaks out and arranges to meet his girlfriend out in the woods. He ends up forcing her into a house where they screw and he later shows her a collection of kidnapped guys in the basement. The heavily drugged captives consist of her old boyfriend who raped her, a \\\"grabby\\\" neighbor, and her sexually abrasive boss. He explains to her that he is going to kill them all. She winds up killing HIM and then turning her focus towards the men (or pigs) whom she tortures and kills, herself... Most of the violence and humiliation has to do with sh!t eating and genitalia destroying - all of which are far from disturbing and essentially mild. The best scene is a graphic broom handle masturbation followed by some painful man-rape... Surely, \\\"I Spit on Your Corpse, I P!ss on Your Grave\\\" was intended as an unofficial sequel to \\\"I Spit on Your Grave\\\" - based on, mainly the title, and a reference the main character gives - suggesting her mother was Camille Keaton. I personally consider that to be a wildly blasphemous assertion! This movie is a boring, amateurish mess that strives for shocks but failed miserably...\"\n",
      "* * * * * * * * * \n",
      "6566\n",
      "The soul of an ancient mummy is transferred to one of his followers so that he might punish everyone involved in the desecration of his tomb. The soul transference makes the young man age at a tremendous pace until he himself resembles a mummy. One by one, the blood is drained from those involved in the dig.<br /><br />To be as brief as possible, Pharaoh's Curse is quite the lackluster affair. While the movie does present a few good, original ideas (blood sucking mummy's, soul transference, interesting make-up effects, the arm ripping scene, etc.) and a few atmospheric moments, the direction and pace are the very definition of plodding. To make matters even worse, the first 15 of the film's relatively short 66 minute runtime consist of nothing much more than padding. I usually go for these slow moving mummy movies, but Pharaoh's Curse tests even my patients. The cast helps very little. With only one exception (Ziva Rodann is the lone bright spot  wish the movie could have focused more on her mysterious character), the cast is as dull as the screenplay. Finally, I don't know whose idea it was to put the mummy-looking servant in what appears to be pajamas, but it's a laughable, ridiculous look for a creature that supposed to instill fear in the audience.<br /><br />Despite my mostly negative comments on the Pharaoh's Curse, I'm going to rate it a 4/10. Not a good rating to be sure, but generous given all the problems I have with the movie.\n",
      "* * * * * * * * * \n",
      "6820\n",
      "The most ridiculous thing about this ridiculous movie is its conceit that if one becomes a saint, he or she and his or her family and his or her significant other live forever. Let's forget that in order to become a saint, the saint must be dead, and saints don't have significant others. That, for a millennium, Nick has been the Jolly Elf to Fred's Scrooge is never even hinted at! Open on Nick learning how to make toys, then on Fred learning how to run numbers; Nick giving a sick child a dolly, Fred repossessing the dolly, along with the family farm! After a few more such episodes, morph to present-day Fred venting his spleen at Siblings Anonymous as his fellow losers nod in empathy. There, I just wrote a more cohesive storyline than this idiocy!<br /><br />This Santa, who is one \\ho, ho, ho, ho, ho\\\" away from a massive coronary, is a neurotic wuss saddled with the Queen of the Harpies, an operation straight out of Mega-Mall Hell, and answers to a Board (huh?) which just gave the Easter Bunny his pink egg. Oh, and his right-hand man is a ditzy blonde in a skin-tight mini-dress and go-go boots. Ho... ho... ho... ho... ho!<br /><br />But what really sent me over the edge was Slam being named #1 on the Naughty List. Shouldn't a Naughty List be reserved for the future Hitlers and Stalins? Children who are the true embodiments of evil? Nope, to Old Sausage-Fingers, a good boy who lashes out because he is unwanted and unloved is the Demon Seed!<br /><br />The nimrods behind Fred Claus should be boiled in their own pudding! Bah!\"\n",
      "* * * * * * * * * \n",
      "7032\n",
      "Holy cow, what a piece of sh*t this movie is. I didn't how these filmmakers could take a 250 word book and turn it into a movie. I guess they didn't know either! I don't remember any farting or belching in the book, do you?<br /><br />They took this all times childrens classic, added some farting, belching and sexual inuindo, and prostituted it into a KAKA joke. This should give you a good idea of what these hollywood producers think like. I have to say, visually it was interesting, but the brilliant visual story is ruined by toilet humor (if you even think that kind of thing is funny) I DON'T want the kids that I know to think it is.<br /><br />Don't take your kids to see, don't rent the DVD. I hope the ghost of Doctor Suess ghost comes and haunts the people that made this movie.\n",
      "* * * * * * * * * \n",
      "7162\n",
      "I'm sorry for Jean, after having such a good original movie to be followed up by perhaps his worst movie in is career. This movie was shot down terribly by horrible acting jobs by Goldbeg(Romeo) and whatever that computers name was. Also, some scenes may have been just a little unnesicary. Truly, bad movie.\n",
      "* * * * * * * * * \n",
      "7301\n",
      "SLASHERS (2 outta 5 stars)<br /><br />Not really a very good movie... but I did like the idea behind it... and the the filmmakers did make it look pretty good considering the tiny budget they had to work with. The movie is ostensibly an \\episode\\\" of a live Japanese reality show that sends several contestants into a sealed off \\\"danger zone\\\" and has three costumed creeps sent after to them to kill them. The survivor, if there is one, wins fame and fortune... everyone else just winds up dead. The main drawback to this movie is that the acting is pretty bad. None of the \\\"real\\\" people seem real at all. The actors playing the killers are kind of fun... because they are portraying cheesy and over-the-top caricatures of popular modern horror movie types... and that's exactly how they would be done if this was an actual show. The movie pretends to be done all in one take... there is one cameraman who follows the contestants around the \\\"danger zone\\\" and everything is seen from the point of view of his camera... but the lights keep flickering on and off constantly (to hide the \\\"cuts\\\" from one take to another, I would imagine).\"\n",
      "* * * * * * * * * \n",
      "7404\n",
      "I picked this movie on the cover alone thinking that i was in for an adventure to the level of \\Indiana Jones and The Temple of Doom\\\". Unfortunately I was in for a virtual yawn. Not like any yawn i have had before though. This yawn was so large that i could barely find anything of quality in this movie. The cover described amazing special effects. There were none. The movie was so lightweight that even the stereotypes were awfully portrayed. It does give the idea that you can solve problems with violence. Good if you want to teach your kids that. I don't. Keep away from this one. If you are looking for family entertainment then you might find something that is more inspiring elsewhere.\"\n",
      "* * * * * * * * * \n",
      "7658\n",
      "Sometimes laughter in the middle of a horror film is a signal of its greatness. I remember the nervous laughter from the audience in the re-release of The Excorcist",
      " really nervous laughter. It punctuated just how freaked out we all were watching the voice of Satan coming out of a 12 year old girl. In the case of the 2006 remake of the 1972 cult classic The Wicker Man however, it made me think that this new Wickerman is about as scary as the South Park character, Scuzzlebut, the friendly forest monster with TV's Patrick Duffy for a leg and a celery stalk for an arm who's favorite hobby is weaving wicker baskets.<br /><br />3 years ago a friend of mine in Hollywood told me that he heard that Nicolas Cage was going to do a remake of the film. I started laughing and my friend (Keith) got mad at me touting Nicolas Cage as a great actor. I just didn't think that he could pull it off and unfortunately for moviegoers I was right. Gone is the realness, the outstanding original music, the originality, the creepiness and the wonderfully powerful dialogue. Instead we have horror movie clichés, affected acting and changes to the storyline that make any believability fall apart. Like many of the countless Hollywood remakes we have been inundated with lately this feels like we are watching 4th graders on a playground \\playing Wickerman\\\".<br /><br />The original film takes place on a remote Scottish Isle where a Scottish police officer is lured there to find a missing young girl named Rowan Morrison. In the new spin a California cop (Cage) is lured to an island of the coast of Washington state by his ex-girlfriend to find her missing daughter. She sends a photo and the missing daughter looks exactly like a young girl he tried to save in a fiery crash not long ago. The crash still haunts him in part because the girl's body was never found. Yet even after he gets a letter with her picture in it that connection is completely cast aside as he heads north, alone, to help his ex-girlfriend find her daughter. He arrives to find an island full of actors pretending to be the descendants of Wiccans, many of whom seem like they didn't get call backs for roles in The Village. And like The Village it isn't long before you realize there is nothing to be afraid of here. Not even the cloudy eyed blind sisters who speak in unison.<br /><br />I think that the opportunity in Hollywood to make great amounts of money on a film often comes at great expense to the artistry. I think someone like Nicolas Cage who is in so many films these days loses touch with the magic that film can be when it gets to the point where he has a personal chef on the set preparing his snacks. We needed a bad re-make of the Wickerman like we needed yet another '9-11' movie. I'm starting to wonder if Nicolas changed his surname from Coppola because he wanted to or because he was pleaded with to do so.\"\n",
      "* * * * * * * * * \n",
      "7788\n",
      "This film started out very promising with the story about a director who loses his sight and a blind woman who is bound to help him. However, somewhere in the middle it seemed like the script writers didn't know where to go from there.<br /><br />One unbelievable event followed the next (Russia must be very small because they are all bumping into each other all the time), the motivation of the female lead character comprehensible (why does she still follow him after they got off the ship? Why doesn't she try to borrow a mobile phone on the ship to call somebody?), the side stories were completely ridiculous (was the story with the mother and the boyfriend supposed to be funny? And what was the story with the younger sister about?). Still with all this seeming arbitrariness of the plot, the movie managed to be completely predictable.<br /><br />The saddest thing about it is that there was a lot of potential. As I said, the idea of the film was good, the visuals and the score were very beautiful and the actors of the main characters were good, too. So this could have been a really good film... but it wasn't.\n",
      "* * * * * * * * * \n",
      "7827\n",
      "\\Arahan\\\" adds nothing positive to the Kung Fu genre. To compare this confused motion picture with the inspired craziness and quality of Stephen Chow's films is a mistake.<br /><br />Firstly the fight scenes are nothing new. All that is presented here has been done before and better by the likes of Yimou Zhang, Tony Jaa and Jackie Chan. Fights in intelligent Motion Pictures need logic. There seems no point serving blows that have no damaging effect as in the \\\"Matrix\\\" sequels.<br /><br />The attractive female lead So-Yi Yoon captivated the screen but she never convincingly conquered the physical demands of the role as Ziyi Zhang had done so easily in \\\"House Of Flying Daggers\\\". Having a Martial Arts background serves well in Kung Fu movies. To cast actors inexperienced in these skills is a serious mistake (See Aya Ueto in \\\"Asumi\\\") unless you are a very talented director which as \\\"Arahan\\\" proves Seung-wan Ryoo is not.\"\n",
      "* * * * * * * * * \n",
      "7945\n",
      "This reminded me SOO much of Michael Winner's crappy 'Dirty Weekend' with it's awful English low budget feel.<br /><br />Firstly I must say I am a fan of both exploitation and serious film. I appreciate, say, 'Demented' for it's ineptitude and 'Last House on the Left' for it's sheer unashamed brutality. And any number of inventive and increasingly brutal Italian spin offs.<br /><br />This was just pointless though. Kind of like a British budget director thought 'let's remake \\I Spit on your Grave\\\" without making it too harrowing now that horror is back in fashion with Hostel.<br /><br />The whole thing just doesn't hang together or have a point. What's with the rapists's daughter? Why bother having the man be an expert in security cameras? Crappy.\"\n",
      "* * * * * * * * * \n",
      "7968\n",
      "First off...with names like Fred Olen Ray, Brinke Stevens and Jan-Michael Vincent, plus distributors like \\Rhino\\\" and \\\"Troma\\\" on the video box, you know what you're getting into with this one. B movie mania! If you're actually expecting to see a thriller \\\"based on Edgar Allan Poe,\\\" then forget it and head straight for the excellent series of Roger Corman 60s Poe films. This is pure, unadulterated sleaze (with just a pedestrian attempt at a plot similar to \\\"The Premature Burial\\\"), complete with lots of R-rated, ready-for-video sex and nudity. However, it's certainly entertaining and fun in a slipshod kind of way...<br /><br />Brinke (who has three nude scenes in the first 30 minutes) plays rich, traumatized, insomniac housewife Victoria Monroe, whose fear of being prematurely entombed stems from her belief that the same fate befell her father (Hoke Howell). Her worthless husband Terry (Jay Richardson) has racked up some serious gambling debt (owed to a gangster played by Robert Quarry) and, with help from his kinky, blonde, European-accented sexpot secretary Lisa (Delia Sheppard) plots to do away with Brinke for her money. Name-value actress Karen Black drops in briefly wearing a blonde wig as a hypnotist (she's way too talented to be playing an insignificant role like this), 50s sci-fi/horror star Robert Clarke plays a doctor and family friend and Michael Berryman shows up for a decent nightmare sequence performing an autopsy on a still-living Vicki. Jan-Michael Vincent mostly sits outside a house in his car making goo-goo eyes as Brinke enters and exits the home.<br /><br />The kill-a-spouse-for-the-inheritance plot has been done a million times before, the ending is an unintentional laugh riot (concluding with a direct rip-off of the Zuni Fetish Doll segment in TRILOGY OF TERROR) and whoever created the awful stabbed face and decapitated head FX for this release needs to sharpen up on their skills a bit. Brinke does a decent job making her character somewhat sympathetic, but the biggest surprise of all is how good former Penthouse Pet Delia Sheppard is in her role. She stole every scene she was in and easily gave the standout performance here.\"\n",
      "* * * * * * * * * \n",
      "8244\n",
      "Don't drink the cool-aid.<br /><br />This is an opinion piece disguised as a documentary. And to title it as a \\truth\\\" is just plain crap. The debate over global warming is far from over, and will only be over when the eco-zombies start acknowledging the mountain of evidence contrary to their beloved theory. Just Google \\\"Global Warming\\\" and \\\"Hoax\\\" or \\\"Junk Science\\\" and you will find a river of information refuting nearly every link in the chain of logic that Gore sites. The reason it is so important for people to educate themselves is the disastrous economic impact that global warming prevention measures would have. Wake up people. Anyone with a computer, a little time, and some common sense can find many many reasons why this theory is not even close to credible. Don't just read articles that support your present opinions, read everything you can find. There is no in-depth analysis to make, really. There is simply too many alternate possibilities and counter-evidence for the theory to have even the most basic level of scientific credibility. It is so uncredible, in fact, that it may be the single biggest hoax in the course of human existence. It's time for people to start speaking out against this kind of propaganda, and it's time for people to admit to themselves and others that you can be a both a conservationist AND recognize the glaring conclusion that global warming hysteria is a big lie.\"\n",
      "* * * * * * * * * \n",
      "8362\n",
      "The title alone (along with the poster) is enough to give away \\The Projected Man\\\" as an obvious rip-off of \\\"The Fly\\\". And Bryant Haliday, while much better than the typical IMDb review would have you think, is nobody's idea of an acceptable stand-in for Vincent Price. Although, come to think of it, who would be, unless Micheal Gough was available?? Still, if you are in the mood to watch a British \\\"Hammer\\\" style movie with a science fiction theme about a teleportation experiment gone horribly wrong...well, you still might want to give \\\"The Projected Man\\\" a pass and rummage around in the 'remaindered' bin at your local Wal-Mart for another teleporter-accident movie. Because this one just isn't all that good.<br /><br />Haliday caught a lot of good natured ribbing from the MST3K crew for his part in this movie and in \\\"Devil Doll\\\", but he is actually the best thing in TPM. Maybe he can't carry the movie, but he gets practically no help here from the screenplay. The script bogs down any forward momentum the plot may have in a mire of nonsense about funding and university politics and a guy named Lembach and some sinister cabal who want the teleportation machine to fail so they can steal its secrets...or something. So all the dramatic sequences in the first half of movie involve either phone calls or unconvincing special effects with transparent espresso machines and teleporting rats. Then when poor Haliday gets mutilated by his machine, he has to spend the last part of the film wearing a diaper over half his face and rubber cement over the rest while he electrocutes various Londoners who chance across his path. Tom Cruise and Eric Roberts using bullhorns couldn't have made this screenplay work. <br /><br />Meanwhile all the other actors diligently try to inject life and interest into their roles for this turgid little project, but the screenplay just swallows their efforts whole. The corrupt project administrator frets and fumes and hisses into the phone to his blackmailers, all the while failing to notice that he looks like a werewolf outfitted in a tweed suit and a Tattersall vest. Haliday's research assistant and ex-girlfriend have the least convincing romance in the history of British horror cinema. His secretary is forced to parade around in her \\\"smalls\\\". None of it really works or gels into a real movie. And it all just kind of stops dead, leaving the viewer going, \\\"Eh? excuse me, wasn't there supposed to be an ENDING here??\\\"<br /><br />Still, for all its problems, I can easily name a dozen horror movies from the same period that were as bad or worse, and so could anyone else who follows movies (or who has ever browsed the IMDb \\\"Bottom 100\\\"). I wouldn't actually pay money to own \\\"Projected Man\\\", but if it were included in some compilation along with a dozen other movies in a DVD collection, I'd probably feel OK about having it. It's a harmless diversion, perfect for a horror movie film festival, to watched with friends while consuming many beers and snacks on a Saturday evening.\"\n",
      "* * * * * * * * * \n",
      "8367\n",
      "When the remake of When A Stranger Calls was out, obviously I was interested in watching the original. Then when I read about the original (which I recall had my sisters totally freaked out back in the day) I saw that the real money is on Black Christmas, which apparently beat everyone to the \\the caller is in the house\\\" punch. So I Netflix that, and it sits at the top of my list for months due to its \\\"very long wait.\\\" All this time I am getting more and more eager to see it! Then one day, out of the blue, it finally arrives! ...And it's a total snore.<br /><br />Sure, maybe I had elevated expectations, but I don't think it would have gained more had I seen it fresh. The thing is it's Christmas in some Canadian college town, and there's this sorority having a party. We see some killer-POV shots as he climbs this trellis and sneaks into the attic. So we KNOW he's in the house. Then we're introduced to our characters-Olivia Hussey as the mousy, whiny, Canadian-accented Jess. Margot Kidder as the annoying, overtly aggressive alcoholic Barb. She's so annoying even her mother dis-invites her for her Christmas festivities. There's also this irritating Janis Ian clone (\\\"Phil\\\") and this alcoholic den mother Mrs. Mac, seen taking nips from the various bottles of booze she has stashed all over the house. We also meet Jess's highly-strung boyfriend Peter, played by Keir Dullea of 2001 and Bunny Lake is Missing fame, though halfway through the film I was still asking myself \\\"Which one's Keir Dullea?\\\"<br /><br />So it seems that the house has been receiving obscene phone calls, but this was before email, so they couldn't ask him to send a photo. Then-well, you know how they say those plastic dry-cleaning bags are not a toy? One of the sisters finds that out the hard way. Don't worry if you don't catch the first 14 shots of the plastic-encased corpse face as it reposes in the attic-there'll be 28 more interspersed throughout the film, obviously there to make you say \\\"Oh my God! There's a corpse in the attic!\\\" Though after the first hour that changes to: \\\"How come the dumb police haven't found the rather prominently-placed plastic-encased corpse in the attic?\\\" Especially as it is made abundantly clear that it is clearly visible from outside the house. Really, any time before CSI came on the air must have been such a golden age of crime; the cops are so dumb. Fortunately some of them look like John Saxon.<br /><br />Anyway, after a lot more darn boring human drama, the house mother fears that her precious kitty has ascended a vertical ladder and has pushed open a heavy-looking trap door that rests atop it (those wily cats!), for she sticks her head in there and ends up with a hook pulley in her neck for the trouble. Now we have two corpses up in the attic-hey, why don't we have 75 more shots trying to chill us by the fact that there are now TWO corpses in the attic?<br /><br />So by now the police have begun to take the situation seriously, and tap the houses' phone and station a cop outside. They inform Jess and her pal Janis Ian that if the obscene caller calls back, they need to keep him on the phone. Jessica, who has grown even more whiny, mousy and annoying keeps asking the caller \\\"Who is this? What do you want? Who are you?\\\" after like the first 89 calls, when it is clear that he is not going to answer her. Isn't that like a sign a developmental disability? The inability to learn from unsuccessful attempts at something? And what's he going to do, suddenly say \\\"Oh yeah, hi, it's Bob from the Laundromat?\\\" Dumb Jess.<br /><br />Spoilers! Anyway, soon Janis Ian and Lois Lane (Kidder) are piled in bed with ketchup splashed on their faces (this film's idea of gore), and idiot Jess realizes that not a single door or window in the house is locked. Hello? Are you being stalked or what? Then the cops realize that the killer is in the house, and call Jess and tell her \\\"don't ask questions, just do as I say",
      " walk to the front door and get out.\\\" So what does moron Jess do? Starts screaming \\\"Phil? Barb? Phil? Barb?\\\" Hey, great idea sister. Now why don't you go right upstairs where you know a psychotic killer is lurking? Of course she does, and sees her former friends, all splashed with ketchup, prompting this viewer to scream at the screen: \\\"Have a clue now?!\\\"<br /><br />Now, obviously one needs to be understanding and realize that this movie was made before the classic slasher movie tropes were solidly in place, and that it doesn't move to the same pace we're used to, and seeing a plastic-covered corpse in the attic like 206 times probably WAS scary back in the day, and people weren't used to being stalked by psychopaths, so they wouldn't think to, you know, lock the doors or windows. And they might be tempted to wander upstairs when they have just been told that a rabid killer is up there. You see, people were stupid back in the 70s. We have to understand that. One of the big shocks is that we don't even see our proto-Final Girl kill the psycho. But believe me, that fact is more interesting being read in this review than sitting through the movie for. Spoilers end! <br /><br />------ Hey, check out Cinema de Merde, my website on bad and cheesy movies (with a few good movies thrown in). You can find the URL in my email address above.\"\n",
      "* * * * * * * * * \n",
      "8655\n",
      "I saw this film yesterday.. I rented the DVD from Blockbuster.. In fact, I know one of the actresses from the film.. I won't say who..! (That's kept under wraps..) But I must admit, it wasn't as good as I thought it would be.. Tom Savini? Hats down to this guy.. But it's a shame he wasn't in the film for long.. What lacks the film is the idea, the script, sound, etc.. It may look like a good movie.. but it wasn't that entertaining..<br /><br />Well, I'm glad my Sister paid £10 for renting 3 DVD's from Blockbuster.. I chose this one.. and I was disappointed. Anyway, thumbs down for me..! Not my cup of tea! 0 out of 10!\n",
      "* * * * * * * * * \n",
      "8688\n",
      "Pretty poor Firestarter clone that seems more like a bad TV movie than a bad feature film. How disappointing for this to come from Hooper and Dourif!<br /><br />Government contractors do a human experiment with a Hydrogen bomb. The boy born to the couple from the experiment constantly runs a fever of 100 degrees, and when he's an adult, people in his life start spontaneously combusting. He tries to find out why.<br /><br />The people completely on fire are well done, but when they get to the point that they are well done in another sense, they're obviously changed to dummies. When jets of fire shoot out of characters' arms, it looks silly rather than alarming the way it should. Also ridiculous is fire that evidently travels through phone lines and erupts in huge jets from the receiver's earpiece. How is that supposed to happen, exactly?<br /><br />Something else that struck me as silly about the movie is when a character has visions of his late parents. We later see the exact same shots from those visions in home movies.\n",
      "* * * * * * * * * \n",
      "8997\n",
      "I passed this one on the shelf a few times, looking at the myriad of huge positive quotes (with tiny names) on the front and wondering if I was missing something. The other night it was on one of the movie channels, and I tuned in. I missed nothing.<br /><br />I must admit that I only watched the first 30 minutes. Perhaps the movie becomes comedy gold after that. Given the slow, plodding pace and complete lack of laughter in the first 30, I seriously doubt it.<br /><br />The lead character starts the movie in classic \\I don't know how to start my movie\\\" style, with a long, tiresome monologue about how he doesn't want to get sued. It's not funny. It's not even remotely funny. Others have commented on the \\\"San Franclisco\\\" bit; ok, a small chuckle the first time he says it. Then he grinds it into the ground, smiling at the camera like it's the funniest thing ever written. Get over yourself. In fact, I think the talking to the camera bit was the reason I instantly disliked the film. Don't assume familiarity with your audience. Familiarity is _earned_, much like respect.<br /><br />From there you basically have a fat whiny guy talking in a very effeminate way about his dull life as a temp. I didn't realize he's Jewish; it's a discredit to Jewish comedians to call this \\\"Jewish humor\\\". It's just unfunny humor. Just because you're Jewish doesn't mean you have a knack for the comedy. A WASP, Spalding Gray, does a better job of self-analytical humor than this guy, so obviously it's not about ethnicity.<br /><br />If one of the bits I had seen had worked, I might have stuck around. But some schlub going on about how much he loves the names of the women he works with, then listing them for five long minutes, doesn't make a great movie.<br /><br />This is an obvious attempt to capitalize on the popularity of \\\"Office Space\\\". Don't let yourself become a victim of target marketing. Just say no to \\\"Haiku Tunnel\\\".\"\n",
      "* * * * * * * * * \n",
      "9186\n",
      "I am glad to see most other people here don't think much of this movie, either. It has some big names in the cast, but that's it. There is nothing else to recommend, save ogling a few pretty women which you can do in a thousand films.<br /><br />The story involves nothing but unlikable, self-centered, chain-smoking, \\hip\\\" characters that national film critics all seem to like....and most of the public can't stand. <br /><br />The Oklahoma accents are so fake they are laughable, the southern racist stereotypes are right from Liberal Hollywood 101 and the story is depressing.\"\n",
      "* * * * * * * * * \n",
      "9357\n",
      "I saw this movie primarily to see Brooke Burke (as Jill), who I had meet briefly in LA at a modeling trade show, in her first feature film. I was hoping to see more of her, but thought she did very well acting her role. Since she is such a beautiful and poised TV host, and model, it was not surprising. I was left wondering why she was killed, and what happened as a result. Maybe I just missed it.<br /><br />I wasn't really sure about the genre of this movie, and although I liked the actors I felt like it was for a college audience. I tried to keep an open mind considering horror wasn't my favorite genre, but felt like I had outgrown the gags. It seemed to drag out in some places, leave you guessing in some places about what powers the evil professor had, and, like a lot of other films had an unsatisfying ending.<br /><br />Having written a couple of scripts, I know a lot of this is difficult and may come down to personal opinions, how many movies you have seen & studied, and those you relate with at a point in time.<br /><br />In a nutshell, I found it interesting, but not a satisfying plot and ending for me. If Jill (Brooke Burke) would have returned through the portal in the end and kicked everyone's ass that would be a satisfying ending and would earn a higher rating.\n",
      "* * * * * * * * * \n",
      "9494\n",
      "This movie makes me want to throw up every time I see it. If you take the first movie, and reverse the plot (ariel wants to leave the sea, her daughter wants to go to the sea), take the same characters and give them new animals and new names, and then throw in crappy animation and the biggest suck factor, possible, you get the little mermaid 2. Its basically a copy of the first movie with a reversed plot. I'll take you through the horror of it step by step. These are the people from the 1st movie: First of all, Prince Eric is still prince eric, with about 3 lines in the whole movie. Ariel is uptight, annoying, and is not the carefree, headstrong spirit we saw in the 1st. In fact, she is the exact opposite. Sebastian is still sebastian only less cute, less convincing as being stressed out, and the jokes just aren't funny anymore. Flounder has about 2 lines. He now has kids and he talks with a dumb nasal voice. Scuttle is still dumb scuttle only not funny. King Triton's character is probably the best, he still retains the intimidation and love for his daughter, Melody. Ariel and Prince Eric appear not to give a hoot about their daughter. <br /><br />Like i said, all they did was use the characters from the first movie and copy them. This is what they did: Ursula- The new evil villain is Morgana, Ursula's sister who feels like she always lived in Ursula's shadow. I wouldn't be scared of her if she showed up at my doorway with a knife. She can't do anything right and she's a failure as a villain. She has the same voice ursula did. Sebastian & Flounder - Have been replaced by probably the most stupid sidekicks, Tip & Dash, a walrus and a penguin. They try to be hero's but always fail when trying. the plot is so predictable. They become heroes at the end. Yawn. Flatson& Jetsom- Now replaced by a shark who was turned about 10x smaller by triton. Hes really bad too. Morgana and the shark (sharkbait, I think was his name) have no chemistry, good or bad. Ariel-Ah, Ariel. Our lovely mermaid was replaced by her un-lovely daughter, melody. Melody cannot sing, her voice is about 2 octaves higher than it should be, and you want to punch her in the face because shes so fake sugary sweet. She wants to go to the sea, she is clumsy and the kids make fun of her, she has to go find herself. yawn.<br /><br />Not only is the movie boring and unoriginal its so simplistic when you watch this movie you will gasp at how bad it is. Certain parts of the movie make you want to call Disney up and demand why such a horrible movie was made as a sequel to such a wonderful original.<br /><br />Basically, comparing the little mermaid 2 to the little mermaid is like comparing and Ed Wood movie to Casablanca. Don't ever watch this, not even when your bored.\n",
      "* * * * * * * * * \n",
      "9526\n",
      "I watched this movie last night and hoped for the best after watching all the cool trailers.Even the cover of the DVD looked good.As soon as I started watching it I was thinking like others \\oh my God whats this\\\".There were some moments that were a bit creepy but then the mood was ruined by stupid music.There was rock and opera during what is supposed to be suspenseful scenes.That right there ruined it for me and i was shaking my head thinking damn I wasted money again on a rental and was deceived by the cover art.Nothing against the music itself,it was just in the wrong parts of the movie.Whoever edited the film has no clue what they are doing.The cover showed lightning, implying they were caught in a storm at sea.That would have been more interesting but it didn't happen. The acting wasn't the worst i've ever seen considering they are all unknown and this is obvious their first film.Another reason I was disappointed was the plot made no sense.In the beginning 2 men saw all of the teens get on a boat,then at the end supposedly only 1 girl existed and the others were either her imaginary friends or were ghosts i'm not sure because it was very badly portrayed. WhyteFox who wrote a comment on here claims this is a true story.He or she believes in ghosts and spirits and says there is a haunted boat in the area this movie was filmed.There was no mention in this movie about it being a true story.I have never experienced something like that personally but am not saying it's impossible.I guess if anyone is interested in renting this movie,do it at your own risk.If you like amateur student horror films you may like this.\"\n",
      "* * * * * * * * * \n",
      "9677\n",
      "Oh dear god. This was horrible. There is bad, then there was this. This movie makes no sense at all. It runs all over the map and isn't clear about what its saying at all. The music seemed like it was trying to be like Batman. The fact that 'Edison' isn't a real city, takes away. Since I live in Vancouver, watching this movie and recognizing all these places made it unbearable. Why didn't they make it a real city? The only writing that was decent was'Tilman' in which John Heard did a fantastic job. He was the only actor who played his role realistically and not over the top and campy. It was actually a shame to see John Heard play such a great bad guy with a lot of screen time, and the movie be a washout. Too bad. Hopefully someone important will see it, and at least give John Heard credit where credit is due, and hire him as lead bad guy again, which is where he should be. on the A List.\n",
      "* * * * * * * * * \n",
      "9702\n",
      "Meet Peter Houseman, rock star genetic professor at Virgina University. When he's not ballin' on the court he's blowing minds and dropping panties in his classroom lectures. Dr. Houseman is working on a serum that would allow the body to constantly regenerate cells allowing humans to become immortal. I'd want to be immortal too if I looked like Christian Bale and got the sweet female lovin that only VU can offer. An assortment of old and ugly university professors don't care for the popular Houseman and cut off funding for his project due to lack of results. This causes Peter to use himself as the guinea pig for his serum. Much to my amazement there are side effects and he, get this, metamorphoses! into something that is embedded into our genetic DNA that has been repressed for \\millions of years\\\". He also beds Dr. Mike's crush Sally after a whole day of knowing her. She has a son. His name is Tommy. He is an angry little boy.<br /><br />Metamorphosis isn't a terrible movie, just not a well produced one. The whole time I watched this I couldn't get past the fact that this was filmed in 1989. The look and feel of the movie is late seventies quality at the latest. It does not help that it's packaged along with 1970's movies as Metamorphosis is part of mill creek entertainment's 50 chilling classics. There is basically no film quality difference whatsoever. The final five minutes are pure bad movie cheese that actually, for me at least, save the movie from a lower rating. Pay attention to the computer terminology such as \\\"cromosonic anomaly\\\". No wonder Peter's experiment failed. Your computer can't spell! This is worthy of a view followed by a trip to your local tavern.\"\n",
      "* * * * * * * * * \n",
      "9711\n",
      "Just about everything in this movie is wrong, wrong, wrong. Take Mike Myers, for example. He's reached the point where you realize that his shtick hasn't changed since his SNL days, over ten years ago. He's doing the same cutesy stream-of-consciousness jokes and the same voices. His Cat is painfully unfunny. He tries way to hard. He's some weird Type A comedian, not the cool cat he's supposed to be. The rest of the movie is just as bad. The sets are unbelievably ugly --- and clearly a waste of millions of dollars. (Cardboard cut-outs for the background buildings would have made more sense than constructing an entire neighborhood and main street.) Alec Balwin tries to do a funny Great Santini impression, but he ends up looking and sounding incoherent. There's even an innapropriate cheesecake moment with faux celebrity Paris Hilton --- that sticks in the mind simply because this is supposed to be a Dr. Seuss story. Avoid this movie at all costs, folks. It's not even an interesting train wreck. (I hope they'll make Horton Hears a Who with Robin Williams. Then we'll have the bad-Seuss movie-starring-spasitc- comedian trilogy.)\n",
      "* * * * * * * * * \n",
      "9777\n",
      "Though I'd heard that \\Cama de Gato\\\" was the worst Brazilian movie of the decade, I watched it giving it a chance; after all, first-time director/producer/writer Alexandre Stockler managed to make his debut feature (shot in video) for just US$ 4,000 and -- though it looks even cheaper -- I can't begin to imagine all he went through to finally get it exhibited in theaters with no big sponsors or production companies behind it (then as I watched it I realized why). But whatever chances you're ready to give to \\\"Cama de Gato\\\", they shrink to zero within 10 minutes: it's an unbelievably preposterous, verbose, ideologically fanatical and technically catastrophic attempt to portray Brazilian upper-middle class youth as a bunch of spoiled neo-Nazis hooked on bad sex, drugs and violence (and they're made to look like closeted gays too), made with no visible trace of talent, imagination, expertise or notion of structure. Visually and aurally, it recalls the worst amateur stuff you can find on YouTube -- only here it lasts NINETY TWO (count'em) minutes of unrelenting hysteria and clumsiness, and it's not even funny-bad.<br /><br />We've all seen the story before: bored young guys want to have fun, go partying, take drugs and everything goes wrong -- there's gang-rape, spanking, murder, the accidental death (falling down the staircase!!) of the mother of one of the boys, culminating with the boys deciding to burn the corpses of the girl and the mother in a garbage landfill. Moral and literal garbage, get it? The film is heavily influenced by Larry Clark (especially \\\"Kids\\\" and \\\"Bully\\\"), but Clark's films -- though also moralist and sexploitative -- are high-class masterworks compared to this crap.<br /><br />I don't think there was ever such monomaniacal drive in a filmmaker to stick his ideas down the audience's throat: Stockler grabs us by the collar and tries to force his non-stop moralist rant into our brains by repetition and exhaustion -- you DO get numb-minded with so much babbling, yelling, inept direction, shaky camera and terrible acting going on. Stockler doesn't care a bit about technique (the quality of the images, framing, sound recording, soundtrack songs, dialog, sets, editing, etc is uniformly appalling), but he's a narcissistic control-freak: he anticipates the criticisms he's bound to get by adding subtitles with smartie/cutie comments, and by making the protagonists comment at one point how far-fetched and phony it all is (I could relate to THAT). <br /><br />Despite his megalomaniac ambitions, Stockler seems incapable of giving us a minimum of visual or narrative structure -- he can't even decide if he wants gritty realism (hand-held video camera etc) or stylization (repetition of scenes, use of alternate takes, etc). Damn, he can't even decide WHERE to put his camera (there's use of subjective camera for the THREE leads)! The dialog features some of the most stupefyingly banal verbosity ever; the plot exists simply to justify the director's profound hatred for his characters and what they stand for. All you see is a filmmaker being hateful, preachy, condemning, moralizing without the benefit of a minimum of talent (or technique) to go with it.<br /><br />It's very disappointing to find Caio Blat in this mess. Certainly one of the most promising young film actors in Brazil, with his sleepy-eyed puppy dog looks and emotional edge that often recall Sal Mineo's, Blat can be highly effective under good direction (as in \\\"Carandiru\\\", \\\"Lavoura Arcaica\\\", \\\"Proibido Proibir\\\"). Here, he's told to go over the top and he has to play with some of the most embarrassingly under-equipped \\\"actors\\\" in recent memory. He also enters the risky realm of graphic sexploitation scenes (so goddawful they look rather like web-cam porn).<br /><br />The film opens and ends with real interviews with \\\"typical\\\" (?) middle-class youth -- Stockler wants us to take those interviews as \\\"proof\\\" of what he's trying to preach in fiction. But he blatantly despises and makes fun of his interviewees, selecting a highlight of abject, racist, sexist, stupid statements (which only shows assholes exist everywhere). Stockler wants to prove that Brazilian middle-class youths are ALL present or future fascists BECAUSE they're middle-class and enjoy recreational drugs (is he saying all neo-fascists are on drugs?? Or that drugs potentialize fascist behavior?? I couldn't tell). <br /><br />With its dogmatic self-righteousness, headache-inducing technique and mind-bending boredom, \\\"Cama de Gato\\\" is bad for a 1,000 reasons but, above all, it's harmful in a very insidious manner: it gives detractors of Brazilian cinema a powerful case of argument. \\\"Cama de Gato\\\" is best unwatched, unmentioned, buried and forgotten.\"\n",
      "* * * * * * * * * \n",
      "9936\n",
      "Slackers is just another teen movie that's not really worth watching. Dave (Devon Sawa), Sam (Jason Segel) and Jeff (Michael C. Maronna) are about to graduate from Holden University with Honors in lying, cheating and scheming. The three roommates have proudly scammed their way through the last four years of college and now, during final exams, these big-men-on-campus are about to be busted by the most unlikely dude in school. The plot is very stupid and there's no reason why to watch this unless your looking to shut off you brain for a little while. Slackers is just a predictable teen flick that really adds nothing new to the genre. The comedy in Slackers is either hit or miss but there's no real true funny or original moment in the movie. Its really just a collection of gags and some are actually pretty funny. Though for every joke that works there's at least eight more that don't. The screenplay is full of penis and breast jokes that some high school and college students may enjoy. Even if they do they probably won't remember this film after awhile as its not a very memorable comedy. Jason Schwartzman plays the freaky Ethan and after appearing in some good comedies he has stoop pretty low. Jaime King and Devon Sawa are the other main stars but they do a rather poor job in this film. This is directed by Dewey Nicks and this is his first film so you can't blame him too much. The funniest character was probably Laura Prepon though, she's not in the movie very much. The film is very short at only 86 minutes long however, that may be too long for some people who don't really like this type of humor. Slackers isn't the worst film of 2002 but certainly is below average. When compared to other films in the genre there's a lot better out there such as Not Another Teen Movie, American Pie and its sequels , Scary Movie 1 & 2 etc. So unless you have seen most of them and you're looking for something new then Slackers might fit that bill but its better if you just watch something else. Rating 4.3/10 a below average teen comedy that's worth skipping.\n",
      "* * * * * * * * * \n",
      "9941\n",
      "Except for the better than average acting skills of the two leads, this movie is really, really bad. The cheap production values don't help. Of course, you wouldn't really notice that the production values are cheap if they didn't keep trying to convince you they HAD a production values to begin with. Even for a B-movie genre freak like myself, this movie really sucks.\n",
      "* * * * * * * * * \n",
      "10062\n",
      "This movie wastes virtually every actor's talents in what could best be charitably called a \\potboiler\\\".<br /><br />Despite it's action-packed 'Top Gun' opening it is all downhill from there with plenty of stereotypes and unlikely situations following each other until you try to choke yourself on your popcorn.<br /><br />There are so many dead-end story lines in this movie I was guessing at one point it was made by splicing together a discarded TV series.<br /><br />Quinn's Mexican drug-lord role is laughable and his 'associates' plucked right out of a 1970's Quinn-Martin cop show. Costner's character is wooden and gives us no reason to believe he actually fell in love with Mendez' wife. Nor are we convincingly led to believe the wife is aching for companionship and will jump the first hot body coming along.<br /><br />Definitely a 'B' movie at best and a huge waste of time for everyone involved.\"\n",
      "* * * * * * * * * \n",
      "10067\n",
      "I first learned of the Wendigo many years ago in one of Alvin Schwartz's \\Scary Stories\\\" books: according to that story, the Wendigo - after calling your name in the wind - drags you along, and then pulls you up into the sky and pulverizes you. While it sounds like a pretty bizarre notion, Schwartz's story turned it into a fairly coherent idea.<br /><br />The movie \\\"Wendigo\\\" doesn't. It basically consists of every horror flick cliché: family moves to new house and strange things start happening, anyone who harms them is asking for it, and everyone had better listen to the old Indian guy. I've seen this stuff so many times that I no longer bother to count.<br /><br />Anyway, avoid it. Patricia Clarkson and Erik Per Sullivan (Dewey on \\\"Malcolm in the Middle\\\") have done far better than this.\"\n",
      "* * * * * * * * * \n"
     ]
    },
    {
     "name": "stdout",
     "output_type": "stream",
     "text": [
      "10096\n",
      "\\In 1955, Tobias Schneerbaum disappeared in the Peruvian Amazon. One year later he walked out of the jungle...naked. It took him 45 years to go back.\\\" Supposedly, \\\"Keep the River On your Right\\\" is \\\"a modern cannibal tale\\\". In reality, anyone looking for some insight into cannibalism will be sadly disappointed. The first half of the movie is more like a travel log of New Ginuea, mostly touting the native art. The second half relies on still photos of a Peruvian cannibal tribe, but really that's about it. Unless of course, you are interested in home movies of a Jewish wedding, or Schneerbaum introducing his former male lovers. I give up. Big disappointment and not really \\\"a modern cannibal tale.\\\" - MERK\"\n",
      "* * * * * * * * * \n",
      "10103\n",
      "Okay I must say that before the revealing of the 'monster'. saying that he really didn't fit into that category, just some weird thing that had an annoying screech! And personally I think a granny could have ran away from that thing, but anyway. I actually was getting into this film, although having the main character a drunk and a heroine addict didn't come as an appeal. But such scenes as when she runs away from the train, and you can see the figure at the door was kind of creepy, also where the guard had just been killed and the 'monster' put his hand on the screen.<br /><br />But then disaster stuck form the moment the monster was revealed it just became your average horror, with limited thrills or scares. Slowly I became more bored, and wanted to shut the thing off. I like most people have said was rooting for the homeless people to make it, specially the guy, he gave me a few cheap laughs here and there. I think this film could have really been something special instead it became what every other horror nowadays are! Just boring and well not worth the money.<br /><br />if you are looking for a cheap scare here and there, or a mindless gore fest (which is limited, hardly any in fact) by all means give it a go, but for all you serious horror watchers look somewhere else, much better films out there.\n",
      "* * * * * * * * * \n",
      "10237\n",
      "The End of Violence and certainly the Million Dollar hotel hinted at the idea the Wenders has lost his vision, his ability to tell compelling stories through a map of the moving picture. The Land of Plenty seals the coffin, I'm afraid, by being a vastly unimaginative, obviously sentimental and cliché'd film. The characters are entirely flat and stereotyped, the writing, plot and direction are amateurish, at best. For the first time in quite a while, I was impatient for the film to end so I could get on with my life. The war-torn delirium of the uncle, the patriotic abstract gazing at the sky at the conclusion...it all just struck me as being so simple and pathetic, hardly the work of a filmmaker who once made some compelling magic on screen. What happened? The days of experimentation, perceptive writing and interesting filming possibilities are long behind him, I'm afraid. Let's hope he finds his inspiration again... At the Toronto film festival, which is where I saw the film, Wenders was there to introduce it. Completely lacking in humility, he offered us the following: \\I hope...no, wait...I KNOW you're going to enjoy the next two hours.\\\" I'm afraid he couldn't be more wrong...\"\n",
      "* * * * * * * * * \n",
      "10244\n",
      "When I was younger, I liked this show, but now...BLECCH!!! This show is sappy, badly written, and rarely funny. The three leads were all good actors and funny men (Saget's stand up was a lot better than the stuff this show came up with, as was Coulier a better stand up, and Stamos was a better than average actor). After a while, Stamos wanted off the show because it wanted to do more serious stuff (who could blame him?). The show eventually got cancelled when many of the actors demanded more money.<br /><br />Here are a few things that drive me crazy about the show:<br /><br />1. The catch phrases- How many times can one person put up with tiring catch phrases like with 'how rude', 'you got it dude', 'nerdbomber', 'cut it out' and 'have mercy' in a 24 hour time period? <br /><br />2. Kimmy Gibler- the most annoying character ever written for television.<br /><br />3. The writing- stale and cliched as an oreo cookie. There is good cliched writing and bad cliched writing. Full House had bad cliched writing.<br /><br />4. Three men living together in San Francisco- Enough said.<br /><br />5. Unrealistic stuff- Too much to recall.<br /><br />6. Trendy kids- The girls had all the latest mall fashions and you can see posters of trendy recording artists they would be into.<br /><br />Now this show is on Nick @ Nite. I would hardly call it a classic. I have nothing bad to say about the people involved since I think many of them are talented in their own right. But this show was just so sugary sweet, I couldn't stand it after a while.\n",
      "* * * * * * * * * \n",
      "10424\n",
      "I am a huge Ziyi Zhang fan and will go to any film to see her which is what took me to Purple Butterfly. As much as I wanted to like this movie, I have to agree with many others who have commented on it. It is very confusing and also extremely slow. Because all of the film appears to have been shot with a hand held camera, significant portions of it are out of focus. <br /><br />The film has very little dialog and what there is doesn't tell you much. There are endless scenes of people just standing around smoking cigarettes or sitting in a room staring at each other with no conversation. The way the film time shifts is also very confusing and hard to follow. Even having read a number of reviews beforehand and having a general idea what the film was about, I still had a difficult time understanding what was going on. <br /><br />I knew beforehand that the movie was not remotely similar to previous Ziyi Zhang starring films but was looking forward to seeing her in something different but unfortunately I was ultimately disappointed. She never smiles in this film although admittedly most of the time she doesn't have anything to smile about. I could have done without the sex scenes as they were about as sexless and without any obvious feeling between the participants as you could hope to find.\n",
      "* * * * * * * * * \n",
      "10458\n",
      "It seems like anybody can make a movie nowadays. It's like all you need is a camera, a group of people to be your cast and crew, a script, and a little money and walla you have a movie. Problem is that talent isn't always part of this equation and often times these kind of low budget films turn out to be duds. The video store shelves are filled with these so called films. These aren't even guilty pleasures, they're just a waste of celluloid that are better off forgotten. Troma Entertainment is known for making trash cinema, but most of their films are b movie gold. However, some of the films they've put out they had nothing to do with making and some, like 'Nightmare Weekend,' didn't deserve any form of release at all. <br /><br />Pros: The cast members do the best they can with the lousy material. Some unintentional hilarity. Moves at a good pace (Should at 81 minutes).<br /><br />Cons: Awful writing, which includes putrid dialogue and countless plot holes. Poorly lit, especially the night scenes and the ending, which you can't make out at all. Doesn't make a lick of sense. Badly scored. Cheap and very dated effects. Total lack of character development and you won't care about anybody. This is supposed to be a horror film, but it's lacking in that area and isn't the least bit scary. Nothing interesting or exciting happens. Loaded with unnecessary padding.<br /><br />Final thoughts: I never expected this to be some forgotten gem, but I never imagined it would be this bad. I don't know if it's the worst film ever made, but it's a definite contender. Troma should have let this film rot instead of giving it a release. Don't make the same mistake I did and let your curiosity get the best of you.<br /><br />My rating: 1/5\n",
      "* * * * * * * * * \n",
      "10519\n",
      "'I'm working for a sinister corporation doing industrial espionage in the future and I'm starting to get confused about who I really am, sh*#t! I've got a headache and things are going wobbly, oh no here comes another near subliminal fast-cut noisy montage of significant yet cryptic images...'<br /><br />I rented this movie because the few reviews out there have all been favourable. Why? Cypher is a cheap, derivative, dull movie, set in a poorly realised bland futureworld, with wooden leads, and a laughable ending.<br /><br />An eerie sense that something interesting might be about to happen keeps you watching a series of increasingly silly and unconvincing events, before the film makers slap you in the face with an ending that combines the worst of Bond with a Duran Duran video.<br /><br />It's painfully obvious they have eked out the production using Dr Who style improvised special effects in order to include a few good (if a little Babylon 5) CGI set pieces. This sub Fight Club, sub Philip K Dick future noir thriller strives for a much broader scope than its modest budget will allow.<br /><br />Cool blue moodiness served up with po-faced seriousness - disappointingly dumb. This is not intelligent Sci-Fi, this is the plot of a computer game.\n",
      "* * * * * * * * * \n",
      "10529\n",
      "I love the 80s slasher flicks and I remember when \\Silent Night/Deadly Night\\\" was pulled from our theaters, I was very disappointed, so I was very excited to see some of these on Fear.net. You Better Watch Out was what I've come to expect of these types of movies. The quality of the special effects were laughable by today's standards, the character development too long, but all in all it was laugh out loud funny! <br /><br />The scenes where he loses it because Santa, aka dad, is feeling up his mom and later when the mob is actually shown lighting torches - not flashlights as you would in the 80s, but real torches! - really tickled my funny bone. However, the scenes where he was checking on the kids in his neighborhood gave me a creepy feeling of a different nature. I also enjoyed trying to figure out who some of these character actors were. It took me awhile to figure out that the main character was the lovable teddy bear on Brothers.\"\n",
      "* * * * * * * * * \n",
      "10883\n",
      "really awful... lead actor did OK... the film, plot etc was completely crap and inaccurate it may as well have been a sequel to well... anything it had little or no relevance to Carlitos Way... and should be avoided like the plague by any Carlito's ways fans... no mention of Gail in fact he ends up with some other bird, no mention of Klienfelt, no mention of how he got caught, no mention of how he ended up in jail... they attempted to make it like the original with flash backs at the beginning... but to be honest when rating it I was looking for a zero mark... unfortunately I had to rate it higher...<br /><br />Its a terrible attempt to cash in on what was one of the best films of the 90's... overall it was approximately £6 and 2 hours of my life wasted... for all the \\action\\\" in it, it was truly boring slow and predictable... again to any Carltio's Way fans avoid this fiasco...\"\n",
      "* * * * * * * * * \n",
      "11096\n",
      "All you really need to know about this movie comes after the opening scene, where a guy falls into a lake and gets eaten. Then they start rolling the title credits: You see \\Slugs!\\\" in big letters, followed shortly thereafter by \\\"The Movie.\\\" WHEW! I was worried I had accidentally tuned into \\\"Slugs: The Musical\\\" or \\\"Slugs: The Game Show.\\\" Anyway, from there the movie deteriorates into a kill-fest. You see a guy cut his hand off because he had slugs in his gardening glove, two people get attacked by slugs while having sex, and a girl falling on her back in an underground passageway get stung to death by killer slugs. It's a pretty silly movie, falling in the \\\"so-bad-it's-good\\\" category. It also is shot so poorly with such grainy film that you're shocked to learn it was made in 1988 (my guess was 1974). I'm VERY surprised it has received as high a score as it has here, because most people here don't give those types of movie any love. But if you want a movie that tries to be scary but ends up being laughable, this is one of your prime candidates.\"\n",
      "* * * * * * * * * \n",
      "11225\n",
      "At the beginning of the movie, the beautiful photography and the scenes of the fox were amazing. However, the story was so very slow and boring. And then the little girl begins to domesticate the fox, which leads to tragic events. We live in the forest, and frequently see foxes. One thing anyone should know is that you leave wild animals to be wild, and enjoy them from afar. This movie sets a terrible example to the children who will be watching it, in trying to make a wild creature into a pet. I do not know what the point of the story was supposed to be. Even after the terrible events with the main fox, the little girl was still wanting to play with the kits. Does she never learn her lesson? And there are other scenes featuring predator animals to the fox, which only adds to the trauma inflicted on children watching this movie. What a disappointment this movie was. And what a horrible story it tells. The final narrated dialog was so stupid, by which time my wife and I were screaming at the TV! I absolutely hated this movie, and would never recommend it to anyone!\n",
      "* * * * * * * * * \n",
      "11451\n",
      "This is one of the most atrocious rewrites I've ever viewed. If they want to make a movie with a lousy story, they should refrain from giving it a title of a fine book. There is hardly a relation between Wolfe's book and this movie other than the title. I don't mind changes if they help a story flow on screen. At least the changes shouldn't hurt the final product. The last scene in the movie is painfully unconvincing. The actors are miscast. The director and/or screen writer obviously could not decide whether to make a lame comedy or preach an unconvincing sermon.<br /><br />If you've seen this movie and disliked it, try the book. If you've seen this movie and liked it, read the book.\n",
      "* * * * * * * * * \n",
      "11742\n",
      "Considering the original film version of 'The Haunting\\ is in my top ten films of all time' I approached this adaption with trepidation. I was right to be cautious as this film is a poorly written and badly executed load of old tosh, all those involved should be ashamed. the original was terrifying to me as a child for one reason! you see nothing. Robert Wise used innovative camera-work and superb lighting to generate fear and this is why it work's. The shame of the new version is that it relies on clever special effects and pyrotechnics to get from A to B, sadder still is that the ingredients were there (actors such as Liam Neeson, Catherine Zeta Jones) to do something different. This film should only watched as an example of studio butchery!\"\n",
      "* * * * * * * * * \n",
      "11906\n",
      "That's right, you heard me. I am a huge fan of James Patterson. I own 10 of his books, and I have read the entire series about Lindsey Boxer. In my opinion, the screenwriter should be shot. <br /><br />What right did any film maker have to slaughter a terrific work of fiction and make it into a mockery of the mystery genre? If I ever thought that Harry Potter was butchered, then Michael O'Hara has proved me wrong. <br /><br />I can only pray that the next screenwriter who tackles this fabulous book will do it a great deal more justice. To Michael O'Hara and Russell Mulcahy: don't quit your day job.\n",
      "* * * * * * * * * \n",
      "12130\n",
      "STAR RATING: ***** Saturday Night **** Friday Night *** Friday Morning ** Sunday Night * Monday Morning <br /><br />James Dial (Wesley Snipes) is hiding out on his ranch in Montana after failing to capture a notorious terrorist. Then he's approached by the agency again to travel to London to have another go. His target has been apprehended there and is under heavy police protection- but they don't want him merely to capture their man- they want him taken out. All goes well but then the mission gets botched and when a senior police chief, Windsor (Charles Dance) is killed, the blame falls at Dial's feet. Hunted like an animal, he takes refuge in a nearby house and befriends a young girl named Emily (Eliza Bennett) who's dealing with issues of her own and becomes his unwitting sidekick as he goes about clearing his name and working out who betrayed him.<br /><br />This latest Snipes straight to DVD escapade came out of nowhere, with a minimal of publicity even for something so small time (I don't recall seeing any advertisements or trailers for it anywhere.) With this in mind and after Snipes's history of duff DVD efforts, this might have seemed like one which Snoop Dawg would tell you to drop like it's hot. But I felt compelled to give it a go anyway. It doesn't rank among his worst, but it doesn't reach any higher than the standards of some of his better ones (The Detonator, 7 Seconds, says it all, really), either.<br /><br />This is, at best, mildly suspenseful, with a minimal of action, naff all in the way of cool dialogue and Snipes not exactly at his best in the lead role. Likewise, in a main supporting role, it's quite clear Dance has only showed up for the pay cheque as well and this is generally one that none of the cast are going to shout for the hills about on any of their CVs.<br /><br />It says a lot that by the end the only 'contract' that's keeping you interested is when Snipes's will end with Sony and with it an end to any further sub par EL DVD action films. **\n",
      "* * * * * * * * * \n",
      "12281\n",
      "well its official. they have just killed American Pie. The first 3 were absolutely hysterical, but this one and the others have been awful. I mean the story is about two college fraternity's who battle each other for its houses, I mean come on talk about a weak plot, the first three dealt with growing up, change and marriage, which are all worthy points of development in human society.<br /><br />The new Stifler is the biggest joke, I know its hard trying to compare yourself with the Steven Stifler but so no cigar. I give this movie a 3 because there is 2-3 funny bits in the film.<br /><br />The best character in this movie of course is Jim's dad i don't know why he keeps continuing to do these poorly developed films.\n",
      "* * * * * * * * * \n",
      "12311\n",
      "I'll admit that I don't expect much from a Roger Corman film. Generally, I expect a lot of walking and bad scripts. Yet in this case, I am pleasantly surprised.<br /><br />The Gunslinger is a story of a woman (played by the spunky Beverly Garland) who takes over as sheriff after her husband is brutally murdered. Ms. Garland is a pretty good shot herself, killing one of the murderers the next day at her husband's funeral. Her first task is to shut down the local bar that is violating the town curfew. The bar's owner is trying to buy land in anticipation of being bought out by the (hoped-for) railroad. However, Ms. Garland is a thorn in her plans, and the bar matron hires a man to kill Ms. Garland.<br /><br />Because of Ms. Garland's plays her role honestly and realistically, there is absolutely no temptation to go to Suzanne Somers \\She's the Sheriff\\\" jokes. With the exception of a couple of faux pas (the apartment door that opens OUT from the inside, jeep tracks, and the two horsemen waiting on screen for their cue to ride around a corner), the movie becomes quite passable as movie fare. However, Corman could not resist padding his film with horse riding scenes, much like he does walking in other films.<br /><br />Sterno says The Gunslinger is a horse opera worth your time.\"\n",
      "* * * * * * * * * \n",
      "12329\n",
      "And maybe, as Fred Sandford used to say, \\one across the lips\\\". That to those who released this film on an unsuspecting public. And perhaps to the person in \\\"Rue Morgue\\\" who called this a \\\"Fender Hellbender\\\" and said it was good.<br /><br />Five young girls, apparently taking a short-cut home from a high school football game, become lost and stop to ask directions at some small store in the middle of nowhere. While there the driver accidentally hits a parked SUV & knocks out a headlight, but the girls all decide to just leave & not go find the driver. But the driver does come to find them, and it's not just that the headlight on her vehicle got dinged, it's for another reason that the girls do not yet understand. When the driver does first catch them she (yes, it's a she) brandishes a shot gun & makes them strip down, and keeps screaming at them, \\\"how much did you see?\\\". Of course the girls are scared to death & don't know what she's talking about.<br /><br />As the night rolls on the girls end up in a cat and mouse game with the driver of the SUV, who manages to inflict all manner of injuries on the girls, who are remarkably resilient to shot gun blasts and screwdrivers where they didn't want them. Eventually they come to find that something happened back at that store after they left that is the reason for this woman's psychotic rage. And eventually they have a chance at revenge and take it about as far as they can go.<br /><br />There are elements of this film that are rather disturbing and scary, but unfortunately, those moments are undermined by bad acting, bad dialog, and huge lapses of credibility. One girl is hit by a shot gun blast and appears to be mortally wounded, and she's feeling cold, her life is passing before her eyes, but she got better? And how far can a mini-van run on an almost empty gas tank at speeds of 80 miles per hour? I need one of those things, it apparently gets GREAT mileage.<br /><br />There should have been an ending when the girls got their revenge, but the film goes on for a bit after that, which is an anti-climax, but they at least learn some of what set the woman off, and the driver is still worried about \\\"messing up her mom's van\\\", which is obviously the least of anyone's worries.<br /><br />So this isn't the worst film I've seen, but it's too amateur to be good and yet a bit too scary and gruesome at times to be completely terrible. But it does take the cake for plenty of shrill hysterics and you'll want to put two across your ears if you watch this. Which, by the way, I don't necessarily recommend. 4 out of 10.\"\n",
      "* * * * * * * * * \n",
      "12333\n",
      "Very bad film. Very, very, very bad film. It's a rarity, but it defenitly is not worth hunting down. This Italian Jaws rip-off makes little sense most of the time, and no sense the rest. The \\alligator\\\" is not at all convincing, and many of the sub-plots go nowhere. If it's at the local video store, you may want to watch it if you're a fan of monster movies, but it's not worth hunting down.\"\n",
      "* * * * * * * * * \n",
      "12342\n",
      "Aside from the horrendous acting and the ridiculous and ludicrous plot, this movie wasn't too bad. Unfortunately, that doesn't leave much movie not to suck. Do not waste your time on this film, even if you find yourself suffering from insomnia, as I did. Watch an infomercial instead.\n",
      "* * * * * * * * * \n",
      "12384\n",
      "Tierney's an authentic tough guy, but this movie misfire from normally competent RKO undercuts his impact at every turn. The script is about as plausible as OJ Simpson at a Ten Cmmandments dinner. Just count the times Tierney's incredible car companions swallow one lame excuse after another for his evasive and violent acts. The old cliché about it \\only happening in the movies\\\" applies here in spades. Then there's the guy playing the watchman, who appears to have wandered in from a boozy WC Fields comedy, ruining the menacing mood in the process. The static one-room sets don't help either, and neither does director Feist's obvious lack of feel for the material. Then add a final car chase missing both imagination and pay-off, and the results are pretty flat. In fact the movie only picks up in the station-house scenes where hard-bitten cops discover the hidden powers of innocent-looking gas station attendants. Too bad that Tieney's career never really gelled. I gather that was due largely to being as big a tough guy off-screen as on and getting in one sleazy scrape after another. His ice-cold manner and clarity of emotion remind me at times of Lee Marvin at his tough-guy best. Anyway this project might have worked as a radio play, but as a movie with a promising noir title, it's a disappointment.\"\n",
      "* * * * * * * * * \n",
      "12445\n",
      "I had no real expectations going into this movie and I'm glad. Even if I had expected it to be bad I would have been disappointed.<br /><br />Where to start? First, I think 15% of the movie consisted of stock footage of stationary scarecrows in a dark jungle-field. I get it. There's scarecrows. I think the title \\Scarecrows\\\" was sufficient.<br /><br />Second, not a damn thing is ever explained regarding the scarecrows and paranormal occurrences. There's too many times where I was left going WTF?<br /><br />Third, the movie takes itself seriously. I'm all for a B-movie with buckets of blood, screaming women, and senseless violence that is the result of a simple psychopath or ancient curse. But those movies often know they're B-movies and even flaunt it, like Dead Snow (hilarious Scandanavian zombie flick) or Evil Dead 2. But this movie seems oblivious to its crapdom.<br /><br />Finally, there should of been more blood and/or nudity. Yea, I said it. If you're going to have a crap horror movie, make with the killing. And if you're going to have one hot and one semi-hot girl, one of them needs to show some side-boob at a minimum.<br /><br />So, like the summary says, skip \\\"Scarecrows\\\" and just poke yourself in the eye. You'll thank me.\"\n",
      "* * * * * * * * * \n",
      "12506\n",
      "There isn't more I can say that saying this film was awful. The whole Chineseness is awakened in your being because of the ancestors was a hard sell. But telling the audience that every Chinese knows Chinese history without even studying it just laughable. That is like saying every American knows American history without studying or every Filipino, etc, etc. It just isn't believable.<br /><br />The story is flat out hideous. It talked about Shin being from a Monastery in China - later identifying it from Bejing. However, the early sequences of the film show the map focusing in on Mongolia. I know the current Chinese regime wants to claim areas like Mongolia for its own, granted. But its a distinct nation and it even labels \\Mongolia\\\" on the map. Did Disney Studios fail 5th Grade Geography? <br /><br />The relationship between Wendy and Shin is superficial at best, and yet she somehow feels connected to him. Her training is just cheesy as well. And, lets cut to the chase: everything about this film is bad. Its bad enough to laugh at and cry over. The Taekwondo action was over played and unrealistic in many instances.<br /><br />The evil eyes thing was cheesy. However, the left out ending would have been the only descent thing about it. They should have left the evil eyes ending in it. But instead somehow evil is defeated. Yey! <br /><br />Overall,not worth the time of the dog in the film. Brenda Song should get on with another studio. \\\"F\\\"\"\n",
      "* * * * * * * * * \n",
      "12582\n",
      "I am, as many are, a fan of Tony Scott films. When this movie came out I had high hopes that it would be like 'Man On Fire'. To find out that the movie it's the furthest thing from it! The story was treading water from the get go, and the choice of Mickey Rourke was not such such a good idea. And the whole 'arm'scene was too gratuitous! <br /><br />The movie is centered around Kiera Kinghtly, and this movie reveals that she'll never become a movie star! The movie brought some of the worst acting ever.<br /><br />I like Tony Scott's direction 'n all, but this takes the whole friggin cake! Sorry Ton, 1 out of 10!\n",
      "* * * * * * * * * \n",
      "12768\n",
      "Here is one of those educational short films made to learn the unknown people out there about facts of life. This time the target audience is preteen girls, the fact of life is menstruation. This animated film, created by Walt Disney Pictures, apparently with some sponsoring from Kotex.<br /><br />It starts with explaining how hormones make you grow and develop. With the help of animation and a female narrator it shows us how the body, especially the ovaries, uterus and vagina, work and why this all leads to menstruation. It is almost amazing, becoming the comic note here, how the subject of sex is avoided. Even the word is never mentioned although \\furtilized\\\" will pass once. I don't really know why I saw this, but since it is one of those rare short films that could give an impression of an innocent time, you might want to give it a try.\"\n",
      "* * * * * * * * * \n",
      "12973\n",
      "Honestly, I can't be bothered to spend my time writing about this milestone of cinematic incompetence - life is simply too short. What I will say is that, Alone In The Dark succeeds in only three things: 1. It will make you laugh, but for all the wrong reasons. 2. It manages to throw several useless plots into the air but dropping all of them.<br /><br />and<br /><br />3. It utterly disgraces the classic PC game on which it is supposedly based by being a complete failure in all aspects of film-making.<br /><br />Doctor Boll, if that is indeed what you are (I'm thinking proctology here), what on Earth are you doing in a director's chair?\n",
      "* * * * * * * * * \n",
      "13241\n",
      "I'm a big fan of Italian films from the seventies, and I wouldn't hesitate to list the beautiful Barbara Bouchet among my favourite actresses of all time, so I did go into this film with some hopes. However, it soon becomes apparent that this is a largely pointless film that isn't going to go anywhere. Clearly nobody would go into this expecting much more, but the fact that this is pointless gets more annoying when you consider that it's also rather dull and none of the characters are interesting. As the title suggests, the film focuses on a 'rogue'; in this case one that steals, womanises and smuggles stuff. That's basically all the plot that this movie has. The film does have a real 'seventies style' to it and the idea of it all being very carefree gets across well. It sometimes seems like directors Boro Draskovic and Gregory Simpson were trying to put across some sort of point, although whatever that point is doesn't come across very well. Seeing Barbara Bouchet on screen is always a pleasure, and that is the case here too; she's definitely the best thing about the film and the sequence in which she hangs out of a car naked is the best part of the film. Overall, The Rogue will probably have some appeal for people who love the seventies style, but unfortunately it doesn't have much else to offer.\n",
      "* * * * * * * * * \n",
      "13373\n",
      "I'm a big Porsche fan, and the car was the best star in this film.<br /><br />Haim, the now dried up drug abusing child star of the 80's is bland as per usual, and commenting on back up from minor characters/actors would be pointless; needless to say they were all very average. It's a cool movie as a trip down memory lane into the 80's - with some weird clothes, some good shots of the Colorado backdrop and a very harmless albeit mind numbing plot.<br /><br />All in all, please don't waste your time watching this unless you love 80's movies, Corey Haim, or like myself, love old school Porsches (this one in particular looks great) because life's too short to watch crappy movies.\n",
      "* * * * * * * * * \n",
      "13424\n",
      "This is almost certainly the worst Western I've ever seen. The story follows a formula that is especially common to Westerns and martial arts films -- hero learns that family/friends have been murdered, so hero sets out to exact revenge, foils the ineffective lawman, rescues the kidnapped loving damsel, and murders the expert arch-nemesis in a brutal duel. This formula has often been successful -- otherwise it wouldn't be a formula -- but Gunfighter is the most sophomoric execution of it you'll ever see. The scripting is atrociously simple-minded and insulting; it sounds like a high schooler wrote the dialogue because it lacks depth, maturity, and realism. The sound is bad; it sometimes looks dubbed. The cinematography is lame, and the sets are sometimes just facades. The acting is pitiful; sure, some of the performers could blame the script, but others cannot use that excuse. I hope I never see Chris Lybbert in a speaking role ever again; every time he says a line that should be angry or mean, he does nothing more than lower the timbre of his voice and he just sounds like a kid trying to act macho. And speaking of Chris Lybbert, who plays Hopalong, check out his duds (if you dare to watch this film): He wears these brand new clothes that make him look more like Roy Rogers than a hard-working, down-and-dirty cowboy. If you enjoy inane cinematic fare that serves merely to worship the imagined grandeur of Hopalong Cassidy, then get this, but if you have more than two neurons, watch something else.\n",
      "* * * * * * * * * \n",
      "13453\n",
      "Much has been made of Rohmer's use of digital technology to 'fill in' the background. At times it works well, the scene where Grace and her maid witness from afar the King's execution is particularly striking. At other times it gives the film a strangely amateurish look, resembling a home video. However, the major failing is that the sheer artificiality of the mise en scene creates an alienating effect in the viewer. We know that what we are watching is not real so how can we feel for the characters? To be frank, I did not care at all what happened to the Lady or the Duke.<br /><br />The other major failing, I regret to say, is the performance of Lucy Russell in the leading role. She is in virtually every scene and the success or otherwise of the film rests on her performance. OK she is speaking a foreign language but she is incapable of expressing real emotion. Her emoting in the scene where she recounts to her friend Mme de Meyler (an excellent performance by the debutante Helena Dubiel) seeing the head on a pole caused some embarrassed laughter in the audience. Also, watch her hands when she is expressing emotion!<br /><br />All in all a very disappointing film, particularly given the positive reviews on this site.\n",
      "* * * * * * * * * \n",
      "13675\n",
      "Is there anything worse than a comedy film that lacks humor? The answer is Yes; one that fails to generate any interest throughout the picture. The premise is not too bad - a naive front man for an illegal business - but this is a potboiler with a poor script and screenplay and just does not work.<br /><br />Was this considered a good 'B' in 1942? Hard to imagine. The only positive aspect of the picture is the cast, which contains several well-known faces from the '30's and '40's, such as Warren Hymer, Vince Barnett and Robert Armstrong (I always dismiss Richard Cromwell as the weakling who got Gary Cooper killed in \\Lives of a Bengal Lancer\\\", so I wasn't counting him).<br /><br />Can't recommend this one and gave it a rating of 3 - if you have a choice, get a root canal.\"\n",
      "* * * * * * * * * \n",
      "13727\n",
      "Superhero movies pretty much always suck, and this is no exception. Its only redeeming quality is the fact the movie COULD have been even worse. I would put 'Batman & Robin' and 'Steel' above this movie, so yes it is that bad...<br /><br />If your looking for a black superhero, check out 'Blankman' its not a \\serious\\\" superhero movie but at least its entertaining.\"\n",
      "* * * * * * * * * \n",
      "13894\n",
      "All right I recently got a chance to rent this and watch Santa Claus conquers the martains. Although the children were much more sadistic in SCCTM, I would have to say that Santa Claus was a much worse movie. As a spanish assignment in Spanish 5 we all had to watch it. I'll tell you, usually when we watch a movie we are all just talking and eating food, but not for this movie. Everyone just kept there jaw open wondering what the evil Mr. Pitch was going to do next. Would Merlin help Santa Claus!?! or would his robot reindeer come and save the day? I would suggest renting it because it is the biggest piece of rubbish I have ever seen and I love it for that. :D\n",
      "* * * * * * * * * \n",
      "13952\n",
      "This (extremely)low-budget movie is compared to the great classic \\Silent Night Deadly Night\\\", since it is labeled as a Slasher Flick. First let me say that I think that even \\\"Silent Night Part 2\\\" is better than this (that one was filled with flashbacks of the original for more than half of the movie). \\\"Christmas Evil\\\" tries to get psychological by introducing the main character as someone who goes insane,(a strong word), slowly (very slowly). He is irritated by people who do not get the true meaning of Christmas and at work he can't stand how the fabricated toys are made with such lack of quality and love. Dressed up as Santa he finally goes on a killing spree. Also a strong word, since only 3 people are killed without the real need for special effects. No tension, no thrills, no gore, no cast. For one exception that is: Jeffrey DeMunn is in it. He is best known for playing aside Tom Hanks as one of the guards in the classic \\\"The Green Mile\\\". He still must be kicking himself these days for ever accepting the role. He truly is the only one who really can act, his supporting role is better than the main lead. (who also isn't that bad, but if you're overshadowed by a little supporting character, you're not great either.). And what about that strange ending ? (you have to see it, to believe it). \\\"Christmas Evil\\\" is downright boring, nothing happens and the artwork is just misleading. This is not a slasher. You wanna see a real Christmas slasher, check out the all time greatest: \\\"Silent Night, Deadly Night\\\".\"\n",
      "* * * * * * * * * \n",
      "14003\n",
      "I saw this movie at a drive-in in 1959. Until \\Howard the Duck\\\" I considered this the worst movie I had ever seen. This movie tried to combine all the genera in one; comedy, horror, teenage angst, and the hot rod that must have sired \\\"My Mother, The Car.\\\" Maybe it deserves a second viewing to see if it is an accurate reflection of it's time.\"\n",
      "* * * * * * * * * \n",
      "14030\n",
      "What can I say? I think I have to write \\Spoiler alert\\\" and then \\\"reveal\\\" they used the F-word a LOT in this movie - like in every two sentences. I did not like this movie at all - too much hints on sexual perversions, sidesteps and cheating. And that swearing was totally out the window. I gave this movie \\\"3\\\" and two of those points are for Mira Sorvino's sexy movements on the dance floor.\"\n",
      "* * * * * * * * * \n",
      "14064\n",
      "First off I really enjoyed Zombi 2 by Lucio Fulci. This film was utter trash. I couldn't stand to watch it. The storyline was a joke, the acting was a joke, and the fact that Zombi 3 has nothing to do with Zombi 2 is even more a joke.<br /><br />We jump from Voodoo to DEATH 1 THE HARMFUL AGENT BRINING People BACK TO LIFE. Whatever, this movie isn't worth the $1.00 it cost to rent it. I really enjoyed lucio fulci movies but this one was horrible. If Zombi 3 is an indicator for how zombi 4 and 5 are going to be I think I will just skip them.<br /><br />Zombi 2 is an awesome flique tho.\n",
      "* * * * * * * * * \n",
      "14178\n",
      "...am i missing something here??? \\unexpected plot developments\\\"? \\\"plot twisting with subversive glee\\\"? are these viewers watching the same Arquette vehicle to which i just subjected myself (in an now-obvious sub(un)conscious bout of sadomasochism)...I just joined this site simply to make sure that no one else ever rents this stinker...this movie was an embarrassment to every single person involved...quick question: did Sir Stevie read the script before he gave the thumbs-up to Kate C.? if so, then it must be the same Spielberg who greenlighted \\\"howard the duck\\\"...don't give me that, \\\"it was a hit play\\\" crap--i'm guessing Mssr. Reddin ain't too pleased ...the DVD cover promised \\\"surprising corners\\\" and a \\\"twisted story...\\\" Story!!Story?? It's crap like this that make old Bobby McKee and his wandering band of Structuralists sound like geniuses...Sundance??Berlin??Toronto?? I have a home video of my cat farting that evokes more interest than Arquette's negatively-dimensional portrayal of anguished loss...and, talk about deux ex machina for Mr. Stanley T.; thank god, just in the nick o time he thought to have Dave call the cops! and thank shiva that the cops had just caught the true killer...what!!! up until the credits i was still waiting for it to be some kind of grift against Arquette and his \\\"hidden millions\\\"...no, Mrs. Spielberg, you don't escape unscathed: what the hell was that kitchen scene with the \\\"athlete's foot in my crotch\\\" gag??? are you worse in this or \\\"just cause\\\"?? i dunno...hey film lovers: why don't you make it a blockbuster night and rent this along with \\\"jersey girl\\\" and \\\"white chicks\\\" and then commit sepukka (or is it seppuka)...and take E. Dunsky with you....\"\n",
      "* * * * * * * * * \n",
      "14212\n",
      "This budget-starved Italian action/sci-fi hybrid features David Warbeck as a Miami reporter who is chosen by the ghosts of the people of Atlantis (!) to stop an evil businessman (Academy Award nominee John Ireland) from using a telepathic fetus grown using spores from an asteroid to rule the world. You got all that? Despite such a loopy plot, this is actually quite a bore and the RAIDERS OF ATLANTIS sneers at it with contempt. Honestly, the most (intentionally) creative thing about this flick is the slight reworking of Herbie Hancock's BEVERLY HILLS COP theme for the opening titles. The most unintentionally creative bit involves a scene in a lab that is inexplicably shown twice back-to-back. Perhaps director Alberto De Martino wanted to get all avant garde on us in the twilight of his career? I was going to declare this Ireland's worst film on his resume but then I saw SATAN'S CHEERLEADERS was listed on there. I would also like to safely declare that I am probably the only person in the history of the world to do a double feature of this and Hitchcock's VERTIGO.\n",
      "* * * * * * * * * \n",
      "14418\n",
      "This really doesn't match up to Castle of Cagliostro. Lupin isn't as funny or wacky or as hyperactive. The scenery and music are uninspired and plot just isn't interesting. <br /><br />The only good thing about this 'un is the nudity (only in the uncut version) provided by Fujiko. It helped spice up some of the tedious scenes. CoC had a formidable villain and set up the movie for some imaginative set-pieces. The locations in TSoTG are not very vivid or engaging. <br /><br />Zenigata, Goemon and Jigen don't even provide decent sideshow entertainment this time. It's like they were just filling a contractual obligation by appearing. <br /><br />The DVD is in full-frame with Dolby Stereo sound. It has a decent amount of extras, including quite a few trailers. But one curious thing. There is no chapter selection on the disc or timecode displayed on the player once inserted. Though you can still skip to the next scene number using the remote.\n",
      "* * * * * * * * * \n",
      "14491\n",
      "There was nothing of value in the original movie, this one was even lamer. The fact that I even found it to rent was absolutely amazing. Anyone connected to this film has to be high on something! So what was the story line? What was with the girl? Was the viewer supposed to get the story line in the first four minutes of the film. Sadly, I tried several times to watch this. I even borrowed a kid from someone to get some feedback. Kid said it was stupid, and he was four years old. I find that possibly some credit could go to the filming director, as possibly some of the shots made the movie more than a B film. That might be pushing it. I did love the theme song. Good thing it was only a dollar, it was worth it. I suppose you might enjoy the film if you were high as the cast and crew would have to be. Is pot legal in France?\n",
      "* * * * * * * * * \n"
     ]
    },
    {
     "name": "stdout",
     "output_type": "stream",
     "text": [
      "14517\n",
      "First of all yes I'm white, so I try to tread lightly in the ever delicate subject of race... anyway... White People Hating Black people = BAD but Black People Hating White people = OK (because apparently we deserved it!!). where do i start? i wish i had something good to say about this movie aside unintended comedy scenes: the infamous scene were Ice Cube and co. get in a fight with some really big, really strong, really really angry and scary looking Neo-Nazis and win!!! the neo-Nazi where twice the size :), and the chase! the chase is priceless... This is NOT a movie about race, tolerance and understanding, it doesn't deliver... this is a racist movie that re-affirm all the cliché stereotypes, the white wimpy guy who gets manhandled by his black roommate automatically transform in a skinhead...cmon simply awful I do regret ever seeing it.<br /><br />Save your time and the dreadful experience of a poorly written ,poorly acted, dull and clearly biased picture, if you are into the subject, go and Rent American History X, now thats a movie\n",
      "* * * * * * * * * \n",
      "14759\n",
      "This movie was an attempt to go into places most don't and perhaps shouldn't venture into. It was a similar trial at the bizarre, head-case perspective given to us in The Cell, although not near as in-depth and well portrayed. The plot is constructed simply with an initial campy feel to it. Then, as the movie takes its supposed \\dramatic\\\" turn, the plot falls apart on what few legs it had to stand on in the first place. <br /><br />Basically the idea is that of a kid (Chris McKenna) who needs money. He takes on the role of a hit man, killing a city accountant. Then he doesn't get paid for his work but instead gets tortured for several days because he dreamed up the \\\"brilliant\\\" idea of trying to use a backup file he had as leverage for payment. This idiotic move at trying to force them to pay him backfires as he is horribly and endlessly abused. He begins to go crazy (some very disturbing scenes). Then, thinking he has paid for his sins and can start over, he visits the wife (Kari Wuhrer) of the man who he killed and wins her affections. Soon after she discovers who he is, tragedy strikes, and revenge sweeps through the air as the boy goes after his torturers (Daniel Baldwin, George Wendt, Vernon Wells) for their previous \\\"kindness\\\".<br /><br />I got to ask though, what is it with Kari Wuhrer and horror/gore type films?<br /><br />It seems everything she has put out lately has been in this genre. Granted, I liked her in \\\"Eight-Legged Freaks\\\" and she was okay in \\\"Anaconda\\\". But despite all her obvious cuteness and allure (wow, she's hot!), she can act much better and chose better roles. Or maybe, I'm wrong and that is just a misconception. For all you guys out there, you get to see the \\\"fully monty\\\" of her in this film, although it's rather bizarre and short-lived. I almost felt like she did some soft-porn after watching this film (something not foreign to Kari's career). The sex-simulation is such that it has to make you wonder what things really go on during filming. <br /><br />Anyway, I will say there is some good acting. Just don't expect much of it from Daniel Balwin, whose career seems forever destined to second his brother Alex's. The film did bring out a few old greats though, George Wendt (Norm from Cheers) and Vernon Wells (Commando, Weird Science). Above all, Chris McKenna does the best job in playing the main character, Sean Crawley. His little acting experience and yet his believable nature as a naive youth, bring some elements of substance to the film. <br /><br />I wouldn't go out of my way for this one. If you're bored and are tired of the same old episodes of \\\"The Hitchhiker\\\", then I might advise watching this.<br /><br />And Kari, please start acting in some better films!\"\n",
      "* * * * * * * * * \n",
      "14896\n",
      "In addition to his \\Tarzan\\\" series, the prolific Edgar Rice Burroughs did write many other books, although, aside from the popular \\\"At the Earth's Core\\\", few of these have been filmed. One exception is the novel entitled \\\"The Lad and the Lion\\\", brought to the screen as \\\"The Lion Man\\\" (1936), an over-talkative, static, old-hat, slow-moving and rather dull movie, despite being filmed on real desert locations. Actually \\\"movie\\\" is the wrong word. The narrative doesn't move but proceeds at a snail's pace in an abrupt series of jerks. For instance, at least five characters are given elaborate opening scenes and then just disappear. Even more frustrating for the keen movie fan, are the characters who make an impression of sorts (like the lass who plies Hall with drugged wine) but are enacted by players who are not credited! The credited thespians generally come off worse than the unknowns. One exception is Australian actress Finis Barton who gives a good account of the kidnapped harem girl who rescues young Master Fairy. Admittedly, most of the cast are saddled with atrocious King James dialogue which has to be heard to be believed! But the way to play this rubbish is tongue-in-cheek, a stratagem which does not seem to have occurred to a single one of the film's roster of no-talent players. Maybe director J.P. McCarthy scotched that idea. Anyway, it's sad to see the lovely Kathleen Burke forced to trade lines with the likes of Richard Carlyle (her dad) and Jon Hall (her suitor). Admittedly, Mr Hall delivers his lines with marginally more conviction than Mr Carlyle, but that is no recommendation.\"\n",
      "* * * * * * * * * \n",
      "15006\n",
      "I know no one cares, but I do. This film is historic for one reason. It is the unity of two heroes from two great seventies sci-fi films. Well, one is great, and one is quite bad. The great one is truly great, in fact it's the best. The bad one is truly bad, in fact it's the worst. Of course of the great I refer to \\Star Wars\\\" and it's star Mark Hamill, aka \\\"Luke Skywalker\\\", who is the hero of this film about a kid who gets his Vette swiped and then goes to Vegas (on a lead) and after a whole lot of adventures, eventually recovers it. (Since he's into fixing cars I guess you can call him \\\"Lube Skywalker\\\"). Along the way he meets a hooker with a heart of gold, and ends up facing off with a character played by Kim Milford, the hero from the seventies sci-fi cult film \\\"Laserblast\\\", which is, as I've hinted at earlier, the worst sci-fi film ever made. Milford plays the lead baddie whom Hamill must steal his car back from. I realize that no one cares about this meeting of two great sci-fi heroes, but I do. And I also must say that this is one of the best/worst movies of all time. Mark Hamill's acting needs the force, the plot needs extensive Jedi training, and the character of the hooker played by Annie Potts just might be the most annoying character of all time, ever, in any film I've ever seen. But it's a fun movie to watch on a weekend day, or a weekday night, late at night, very late. It's one of those films that meanders, looking for something but without quite finding it and yet, at the same time, it's entire purpose is, like free-form jazz, to simply exist as is. And it does. And what is, isn't that great, but you can't say it isn't entertaining, because for an hour and a half you might feel ripped off, but you won't feel cheated. So turn off your mind, relax, and enjoy this muddled gem without any expectations, and may the force be with you, always.\"\n",
      "* * * * * * * * * \n",
      "15078\n",
      "Horrible film with bits of the Ramones strewn about. Your worse than average 1970's/80's comedy format of the cool kids taking over the school with some whimsical plan. This movie is terrible. The plot consists of a girl who enjoys the Ramones and a school bent on fighting against their oppressive administration. Forget this movie and watch something like Wild Zero starring Guitar Wolf if you want an entertaining B movie. Terrible acting, terrible writing, terrible plot with the stamp of approval of the Ramones who probably needed some money quick so they said yes to this movie. That is the only logical thing I can think of because this movie blows.\n",
      "* * * * * * * * * \n",
      "15097\n",
      "Cedric Kahn's films have been character-based, rather than action-based (I'm thinking of L'Ennui and Feux rouges) so it is jarring to see this series of really expert car chases interspersed with some plodding attempts to give character to Succo. I don't find Stefano Cassetti to be an interesting actor; he reminds me of pro athletes who are coaxed into movies, like Bret Favre. That blank stare looks like a really vicious deer caught in the headlights. A real actor would have forced us to reflect more on Succo's personality, rather than admiring his skill at carjacking.<br /><br />The little acting there is comes mainly from Isild le Besco as the needy schoolgirl Succo takes by storm. The interview at the police office is a marvel of bland obstinacy with a little fear of the future blended in. Le Besco apart, there is little to recommend this film.\n",
      "* * * * * * * * * \n",
      "15113\n",
      "Life in some future fascist or near fascist state which severely restricts personal freedoms is a recurrent theme both in modern literature and for film makers. Such works post us warnings about undesirable trends in our society to watch out for; but to be effective they must also be entertaining. Unfortunately most of the books are probably more effective in posting the warnings than in entertaining us enough to become really widely read; whilst with the films the problem is usually the other way round. The first such work to become really widely known was probably George Orwell's \\1984\\\" (first published in 1948), and this is still readily available both in the form of a book and as a film.<br /><br />Watch or read it: and then, when you are feeling a little depressed by man's inhumanity to man, reach for Cinderella 2000. This is a feather light low budget film comedy based on the same theme which provides effortless but unrewarding viewing; and as with 1984 the calendar has now passed beyond its erstwhile period. Most of the comedy is laid on with a trowel although there are just a few genuinely funny moments. To exercise your mind in the long intervals between these you can focus it on the question of whether this film will gain a new extension of life by being released as a DVD or whether it will finally disappear into oblivion as existing tape copies deteriorate past redemption. There are many worse films appearing as DVD's these days, and frankly I do not care much what happens either way.<br /><br />So far the best of the films of this genre has probably been \\\"The Handmaiden's Tale\\\", but I would very happily swap them all for a well made film of Jack London's towering novel \\\"The Iron Heel\\\". Ambitious as this would be, it still seems incredible that no modern film maker has yet dared to attempt it (IMDb only lists a B/W silent version made in Russia in 1919).\"\n",
      "* * * * * * * * * \n",
      "15169\n",
      "There's really not a lot to say about Las Vegas Lady. It's harmless enough, but it is little more than a dull heist film from the 70s. The movie is neither as clever nor as sexy as it strives to be. The plot is a retread of the tired old casino robbery storyline that's been done to death. Except in the case of Las Vegas Lady, I think the robbery plot was designed by a 3 year-old. The plan involves three women  one to unnecessarily and in plain view scale the outside of the Circus Cicus building, one to pose as a waitress only to blow her cover at the first opportunity, and one to stand around exposing her cleavage. That's pretty much it. Intricate, huh? Other than Stella Stevens and her aforementioned breasts, the other women involved in the plot aren't particularly memorable. Las Vegas Lady co-stars Stuart Whitman. When not pawing Stevens, his involvement in the movie is highlighted by one of the most idiotic gun fights ever put on film.<br /><br />I really wanted to like this movie. It does have that 70s feel to it that I always enjoy and some nice shots of Las Vegas circa 1975. But the movie itself is too dull to rate any higher than a 4/10  and that's probably overstating it. In the end, Las Vegas Lady is a waste of some perfectly good cleavage.\n",
      "* * * * * * * * * \n",
      "15221\n",
      "A confused mess from start to finish. Like they used to say about the Beatles'songs, there was a secret message if you played the LP backward. If one had the patience to watch this films scenes from finish to start, you'd come away with the same degree of disappointment.<br /><br />Apart from all of this psychedelic hodge podge of flashbacks and false starts, the clearest characters were the movie backers, out for revenge if the movie didn't get sorted. There was nothing to like about these two either. Overacting, shouting and threats were delivered in comic book fashion. I think one dimensional was an overstatement.<br /><br />Okay, so maybe the artsy types are rolling their eyes reveling in the fact that unlike them, we plebeians just didn't get it. Well I'm afraid there was nothing to get. And the two cardinal sins of any bad movie carried from start to finish. A non-existent and pathetic story line if you want to call it that, and by far the worst, not a single character you cared about in the least.\n",
      "* * * * * * * * * \n",
      "15241\n",
      "My Score for this crap: 1 / 10 1 for the technical only. Everything else is very bad. <br /><br />Another film that makes no sense. Clearly it seems that creating a good script for film or television is almost a impossible mission. <br /><br />While it's easy to understand why politicians never say the truth, they are among the biggest liars on the planet, it is difficult to understand how to make films so pathetic. <br /><br />We must believe that taking people for morons. Perhaps it was reason to believe, since 99% of the films are crap. Because they are stupid and ridiculous and very bad scenarios. <br /><br />When you look at the price we give Oscars, we understand better why we continue to make films any more ridiculous than others. <br /><br />And oddly enough it was always money for such nonsense. But it was not for education and health. <br /><br />If you still want to listen to this s**t, press super Fast Forward button (at least 20X).\n",
      "* * * * * * * * * \n",
      "15255\n",
      "Probably New Zealands worst Movie ever made<br /><br />The Jokes They are not funny. Used from other movies & just plain corny The acting Is bad even though there is a great cast<br /><br />The story is Uninteresting & Boring Has more cheese then pizza huts cheese lovers pizza kind of like the acting Has been do 1,000 times before<br /><br />I watched this when it came on TV but was so boring could only stand 30 minutes of it. <br /><br />This movie sucks<br /><br />Do not watch it, <br /><br />Watch paint dry instead\n",
      "* * * * * * * * * \n",
      "15342\n",
      "Once again I have seen a movie made by people that know nothing. I just recently reviewed Baby Face Nelson. Now I've seen Dillinger and I've had it.<br /><br />This movie is garbage. I don't know how anyone in their right mind could compare this to a classic like Bonnie and Clyde. This movie is far from a classic. Someone called it brilliant. That's an insane thing to say. This movie can't get any facts straight and it has the worst casting I've ever seen. I don't know whose dumb idea it was to cast Warren Oates as John Dillinger. First of all he looks nothing like him. Second of all, by the time John Dillinger was killed he was 31. When Oates made this he was 45! You could even tell that he's older than the real Dillinger just by looking at him. Not only was he too old, but so was Ben Johnson as Melvin Purvis.<br /><br />They show Baby Face Nelson die, then Homer Van Meter, and finally John Dillinger. John Dillinger was killed before both of them. The last one to die out of the three was Baby Face Nelson. Not only do the writers not know when they died, but they also don't know how they died. Baby Face Nelson was not killed after he escaped from Little Bohemia in a robe. Homer Van Meter was not killed by farmers with shot guns. Homer Van Meter was cornered by the police in St. Paul and gunned down with machine guns. Another member of Dillinger's gang, Harry Pierpont is shown being shot by police in this movie. Pierpont wasn't shot. Harry Pierpont was captured and sentenced to die in the electric chair. I go into what happened to Baby Face Nelson on my Baby Face Nelson review so I'm not going to go into it again here. Let me also add that Richard Dreyfuss' portrayal of Baby Face Nelson is pathetic. There's a scene where he attacks Dillinger and then gets a bad beating. While Dillinger was beating him he was crying like a baby and screaming, \\Leave me alone!\\\" Baby Face Nelson and John Dillinger never fought. Maybe Dillinger didn't agree with Nelson's bank robbing methods, but they never fought. Nelson also never cried like a little girl while getting beaten. They keep calling him Lester \\\"Baby Face\\\" Nelson. He was never in his life known by that name. Nelson's real name was Lester Gillis and he changed his name to George Nelson. The black guy that escaped from jail with Dillinger was Herbert Youngblood, but in this movie he is known as Reed Youngblood. John Milius doesn't know anything. Where the hell did John Milius get his information? I could probably make a better movie than him.<br /><br />Finally the way they showed John Dillinger die is outrageous and inexcusable. The movie shows Dillinger walk out of the Biograph with the Lady in Red and his girlfriend Billie Frechette. By the way, Billie Frechette wasn't even there that night. But a girl named Polly Hamilton was. Melvin Purvis yells, 'Johnny!' Dillinger pulls out his gun and is blown to hell. It is a proved fact that Dillinger did not have a gun that night. The FBI gave him no chance to surrender and as soon as he was in sight they blew him away. They didn't even have to shoot him. They were so close that powder burns were found on his face. It was murder. They also say that the man killed that night was not John Dillinger. After killing tons of civilians in the Little Bohemia incident can you imagine the FBI reporting that they had just killed another innocent unarmed man? The gun they had on display that was supposedly on Dillinger was also proved not to have been manufactured until after Dillinger's death. I could go on and on how the man they killed wasn't John Dillinger, but I'll stop here. If you would like to know more check it out here<br /><br />See the Dillinger version with Lawrence Tierney if you want, but don't waste your time with this inaccurate piece of garbage movie.\"\n",
      "* * * * * * * * * \n",
      "15406\n",
      "This was disappointing. It started well enough but as it went on and lost every opportunity to soar, it fell flat. Maria Schrader's acting is dreadful, never seeming to mean what she says, or even knowing what she says until she says it. She showed no genuine emotion at all, not for her beloved goy, or her mother's story. When with Lena she seemed to have little more than an academic interest in Lena's story. There never seemed to be a real relationship between Lena and her mother except her mother seemed to be having a good time at the wedding, which isn't much. The supposed parallel between Hannah's \\mixed\\\" romance and her mother's relationship with her father was as cliché as they come, and failed miserably anyway. The wedding was completely unconvincing and a dumb finish. The climax of the protest was uninspiring, and no matter what Lena had or had not done to influence the outcome, she would surely have shown some complexity of feeling at the time, a haunted look, an inexplicable ambivalence. In fact, none of the characters in the film had any depth or spark. It was very hard to care about any of them, even little Ruth. Everything with Luis was a distraction. (Why did she dis him so when on the phone from the hotel? There was no context or explanation whatever for that.) If every reference to him was removed it wouldn't be noticed. <br /><br />A simple story made confusing by poor character development (who was whose mother, again??) weak acting, and directing that made everyone look like they were acting. You could almost hear \\\"quiet on the set!....\\\" I started thinking this was worthy of a 7, but as the film went on it dropped rapidly to a 4, then earning a 3 after the silliness of the wedding scene. This was about as cold and sterile a movie as I have seen. A terrible waste of a good story.\"\n",
      "* * * * * * * * * \n",
      "15410\n",
      "This is the official sequel to the '92 sci-fi action thriller. In the original, Van Damme was among several dead Vietnam War vets revived to be the perfect soldiers (Unisols). In this one, it's, I guess, about a dozen years later, since Van Damme has a daughter about that age. Now he's working with the government in a classified installation to train the latest Unisols - codenamed Unisol 2500, for some reason. As usual, something goes wrong: the on-site super-computer (named Seth - like the snake in \\King Cobra\\\" the same year) goes power-crazy, takes command of the Unisols, and even downloads its computer brain into a new super-Unisol body (Jai White). We're lookin' at the next step in evolution, folks! Most of Van Damme's fights are with one particularly mean Unisol (pro wrestler Goldberg) who just keeps on comin': drop him off a building - no good; run him down with a truck - no go! Shoot him, burn him - forgetaboutit! Much of the humor is traced to how Van Damme is now outmoded and out-classed(he's even going grey around the edges). But, though he takes a lickin', he keeps on kickin'! Most sequels of this sort are pretty lame - pale imitations of the originals, and while this one is certainly no stroke of genius, it manages to be consistently entertaining, especially if you're a pro-wrestling fan.\"\n",
      "* * * * * * * * * \n",
      "15589\n",
      "If you want to make a movie like this, have the threat be real. Don't surround your patsy with a bunch of Bonzos. There is no credibility here. The plot is dull and unbelievable. The acting is even worse. I thought that I was watching Arthur Lake (Dagwood) who is one of the worst actors in history, when I saw the main character. Oh well, at some point he has to face the music and get fighting mad. I don't care. Do you? There are all these long scenes set in this austere office (the furniture made out of cardboard or masonite). People talk and smoke and don't do anything. Most of the action happens in a five minute sequence. After that, it's over. Don't bother.\n",
      "* * * * * * * * * \n",
      "15640\n",
      "This movie is terrible. The suspense is spent waiting for a point. There isn't much of one.<br /><br />Aside from a few great lines ( \\I found a tooth in my apartment\\\" ), and the main characters dedication to killing himself, it's a collection of supposedly eerie sounds.<br /><br />\"\n",
      "* * * * * * * * * \n",
      "15711\n",
      "We know that firefighters and rescue workers are heroes: an idée reçue few would challenge. Friends and family of these and others who perished in the attacks on the World Trade Center might well be moved by this vapid play turned film. A sweet, earnest, though tongue-tied fireman recalls what he can of lost colleagues to a benumbed journalist who converts his fragments into a eulogy. They ponder the results. He mumbles some more, she composes another eulogy, etc., etc.<br /><br />The dreadful events that provoked the need for several thousand eulogies is overwhelmingly sad, but this plodding insipid dramatization is distressingly boring.\n",
      "* * * * * * * * * \n",
      "15712\n",
      "Up until the last few minutes of the movie, I would have given the movie a score of 7 or 8 stars. However, the ending is so terrible and \\Hollywoodized\\\" that it completely undermines the first 80% of the movie.<br /><br />The plot revolves around a submarine and the possibility that they received an order to fire their nuclear missiles. The Captain, Gene Hackman, is all for launching, while his first officer, Denzel Washington, is in favor of confirming the launch orders first. The problem is, to launch BOTH the captain and 1st officer must simultaneously use their launch keys. Hackman is determined to launch and Washington stands firm until eventually this results in armed insurrection aboard the sub. Eventually, the mistake is discovered and the missiles are not launched. Cool. However, here comes the part that just doesn't ring true. After they are back on land and go before a review board, Washington and Hackman (who'd just spent half the movie trying to kill each other) shake hands and are all buddy buddy! Huh?! Too trite an ending to make the movie worth while for me.\"\n",
      "* * * * * * * * * \n",
      "16101\n",
      "... or an audience. A quick recap....<br /><br />So you've got this doctor who's been experimenting with stolen body parts for some vague reason. He wants to perfect transplants, but feels he needs to do this in his basement. WTF??? And then suddenly, unfortunately, and conveniently, his fiancé gets her head cut off in a traffic accident that HE'S responsible for. Agonized with grief, he preserves her head in a lasagna pan (or is it strudel?) and pumps it full of \\adreno-serum\\\" (sic) to keep it alive. And then she awakes, talking her head off (so to speak) even though her neck was obviously severed at the vocal cords, and she has no lungs so she couldn't speak even if she had 'em. Seems the ungrateful b*tch doesn't appreciate all that her fiancé has done for her. Just like a woman.....<br /><br />Then his grief turns to horniness as he sees the possibility of grafting his beloved's head onto the body of the first sleazy bimbo he can pick up off the street. Meanwhile, the doctor's assistant, a sort of dime-store Igor, gets into philosophical arguments with the head, who has struck up a telekinetic friendship with the \\\"monster in the closet\\\" (every mad scientist has one). Eventually the screenwriter realizes that he can't keep inflicting his misogyny and fear of intimacy issues on the audience ad infinitum, so he kills everybody, then presumably goes to the bank to cash the check before the movie's financial backers have a chance to stop payment on it. <br /><br />Have I mentioned that I think this is a bad movie?<br /><br />Someone should tell Turner Classic Movies to stop showing that edited version without the gory stuff. The sight of the assistant with his arm ripped off, pirouetting around the house without leaving much blood anywhere is just too precious.\"\n",
      "* * * * * * * * * \n",
      "16441\n",
      "This movie tries to hard to be something that it's not....a good movie. It wants you to be fooled from begining to end,But fails.From when it starts to get interesting it falls apart and you're just hoping the ending gives you some clue of just what is going on but it didn't.<br /><br />\n",
      "* * * * * * * * * \n",
      "16466\n",
      "THIS REVIEW IS MOSTLY ALL SPOILERS. IF YOU PLAN ON ENJOYING THIS FILM, DON'T READ THIS REVIEW.<br /><br /> That's the problem with kids TV nowadays. It's all so patronizing and condescending. `Wow, that was fun, wasn't it?' No it wasn't. And unfortunately it seems to have permeated into children films as well. And that is what 'Flight of the Reindeer' is all about. Admittedly I haven't seen 'Flight of the Reindeer' in a few years so I might be hazy on some points, but I remember being thoroughly unimpressed with it at the time.<br /><br /> Essentially, the story follows a lecturer who is given a book for Christmas. Now, the lecturer is an esteemed scientist on the flying habits of some animal. I think it was bullfrogs. Anyway, through this book, Mr Lecturer / family man learns that reindeer can fly in exactly the same way as bullfrogs. Apparently this book was written by a scientist many hundreds of years ago who disappeared in the North Pole. Now, if it were me I would have thrown the book out the nearest window. Flying bullfrogs are a naturally occurring phenomenon, but flying reindeer is a fantastic and wholly unrealistic concept. But, Mr lecturer ISN'T me, so I guess that explains why he decides to fly to the north pole leaving his wife and kid at home with no idea where he's gone. Of course, things go awry and before he knows it, a flying reindeer has crashed into his private plane and he's stranded at the North Pole.<br /><br /> Are you still following this? Good.<br /><br /> His family, of course, are devastated. I would be too, I mean, what a suck-tacular Christmas. Elsewhere, Mr lecturer finds himself in a hidden town at the North Pole inhabited by midgets and one tyrannical figure who dresses only in red and white. Rather than try to escape immediately, as I would have done, he greets everyone there with open arms. This hidden civilization of midget monsters, and he greets them with open arms. Oooo-kayyyy. They feed him this story that they are the elves of Santa Claus and they spend all year round making toys for kids they have no idea exist. And Mr lecturer accepts all this. He even accepts that Santa Claus is in fact the scientist who disappeared two hundred years ago or whatever. There's just one problem - they don't want him to leave. The world can't know of their secret existence. After all, before they'd know it there'd be a McDonalds and a Starbucks on every street corner.<br /><br /> Still with me?<br /><br />Now, Mr nice guy's family find the book and assume he's gone to the North Pole. Boy, wouldn't they be embarrassed if they found out he'd just gone for a brisk walk? Before the audience knows it, they're jetting off to spend a Christmas in the most authentic winter wonderland on the planet. Meanwhile, Mr lecturer gets sick of all the uppity midgets and decides to leave. I can't remember exactly, but I do recall him holding Santa Claus to gunpoint. A fire fight ensues when the midgets attack and he manages to escape via Santa's sleigh. With Santa hot on his heels and with bloodlust in his eyes, Mr Whatever, through some marvellous co-incidence, finds himself flying alongside his family's plane that is looking for him. So he jumps on to their plane, the planes flies back and everyone lives happily ever after.<br /><br /> The fact is, there have been some shocking films made in the name of Christmas over the years but because they feature that festive charm they get away with it. And it's that charm that is utterly devoid from 'Flight of the Reindeer' There isn't much wrong with it; nothing which insults the intelligence (well, obviously there IS, but it's a kids film and thus can get away with such things) or anything particularly offensive, but the problem is there is nothing much right about it either. It just doesn't FEEL Christmassy. And for a film that is all about Christmas, that it a pretty major flaw. But hey, I don't think 'Flight of the Reindeer's target audience mind about that? Why should they? They're all so doped up on sedatives they probably couldn't spell `Christmas'<br /><br /> I give it three out of ten. If it was a TV-Movie then I'd add another two stars onto it. We all know how bad they can get.\n",
      "* * * * * * * * * \n",
      "16533\n",
      "\\La Lupa Mannara\\\" aka. \\\"Werewolf Woman\\\" of 1976 is a film with a highly promising title, but, sadly, the film itself is pretty far away from being a must-see for my fellow Italian Horror buffs. You won't hear me say that Rino Di Silvestri's film is entirely bad - it has its stylish moments, and the first half is actually great fun to watch (though the fun is unintentional). The film also profits from an exceptionally exhibitionist leading actress, Annik Borel. However, the film, which has no real plot (at least no linear one) often makes no sense at all, and it drags incredibly throughout the mostly superfluous second half.<br /><br />Daniella (Annik Borel) has strange dreams about a dancing around naked in the night before turning into a Werewolf Woman. Since she was a raped as a girl, Daniella is afraid of men. Then, when her sister (cult siren Dagmar Lassander) comes to visit with her husband, Daniella suddenly feels attracted to the husband and subsequently turns into a Werewolf Woman herself... or something. The storyline really doesn't make the slightest sense, which makes the film a lot of fun to watch throughout the first half. The leading character Daniella is some schizophrenic mixture of frigid hysteric and lusty nymphomaniac, who occasionally turns into a werewolf woman. Director Di Silvestri chose to make up for the plot-holes with a lot of of female nudity, which works fine for me. There are also some pretty well-done gore moments. The film is never even slightly suspenseful or creepy, but it is very entertaining in the beginning. Also, there are no attempts to hide that this is a slice of sleaze, the camera often does close-ups on the Miss Borel's private parts for the simple heck of it. I'm not complaining. Then, for some reason, Di Silvestri chose to make the film longer by completely changing the direction in which it was going. While Daniella is, at first, a typical werewolf, who cannot help but follow the urges of her curse, this suddenly changes when she meets a guy (Howard Ross, who was in Fernando Di Leo's \\\"Il Boss\\\" of 1973). Suddenly, she goes back to normal again, and the subsequent part of the film does not at all go in hand with the first half. It gets pretty damn boring after a while; all things considered, it probably would have been better for this 99 minute film to be only 70 minutes long. At the end, they even want to make us believe that the absurd story (if one can call it that) is based on true events. \\\"Werewolf Woman\\\" has some redeeming qualities; my fellow Italo-Horror fans can give it a try. However, if you wanna watch Italian Horror/Exploitation cinema from the 70s, there are hundreds of films that you should see before seeing this one.\"\n",
      "* * * * * * * * * \n",
      "16599\n",
      "Like a latter day Ayn Rand, Bigelow is la major muy macho in her depiction in the film of a few tough American hombres stuck in Iraq defusing roadside bombs set by the ruthless, relentless, child-killing Arab terrorists. As Bigelow posits the Iraq war as the backdrop of the grand stage of human drama, one veteran bomb expert gets blown up and another shows up to replace him in the dusty, hot, ugly rubble that is Iraq, and a new hero is born.<br /><br />The new guy is what John Hershey described in his book, and later the movie, The War Lover, as a sadistic wingnut who actually isn't fit for civilian life, and requires the stimulation of war to sublimate and suppress his errant sexual desires. The war lover can only fully function in war, peacetime suffocates him. While Hershey chastised the war lover, (played in the film by Steve McQueen in one of his greatest roles) Bigelow glorifies him. The army needs war lovers, they are the bulwark of defense against our enemies. We can't handle the truth, that it is war lovers who are the best soldiers, the toughest men. According to the unironic Bigelow, regular men are pussies, the war lover is a special breed, the last of the cowboys. So what if he wants to bare-back his men, or fondle an Iraqi boy? He is a throwback to the sex-and-death cult of war. In war, sex is a thankless, loveless, don't-ask, don't-tell kind of male bonding. Bigelow has no opinion on this; she just limits the options of masculinity in this ham-fisted attempt at realism. Only a war-lover can win the moral struggle between right and wrong, between American innocence and Arab perfidy. Bigelow disguises her racism and arrogance behind the ingenuous facade of journalism. She's just another gung-ho yahoo depicting a brutal war against civilians as a moral triumph of the spirit.<br /><br />On the political front, Bigelow returns to the western genre and its relentless clichés again and again, ad nauseam: the wonderful world of the open frontier, which happens to be some one else's country. (\\You can shoot people here\\\" says a soldier ); the tough but human black guy companion, the soldier with a premonition of death, the gruff, possibly crazy commanding officer, the college-educated fool who tries to befriend the enemy. You name it, Bigelow resurrects it.<br /><br />The man-boy love is palpable in scenes with the cute Arab boy who befriends the war lover, but Bigelow plays it straight; she doesn't consummate the sex, just sanitizes it. What Bigelow really wants to show us is the ugly, sneering face of the Arab enemy. Any Iraqi who isn't pure evil is either demented, hostile or up to no good, anyway. They all deserve to die for their impudence, and many of them do in this glib gore-fest film. The Iraqi women are all hysterical, they only make their presence known by screaming. They could be male stunt men in drag for all I know, you never see their faces. There is no female presence at all on base or in battle, although female casualty rates in Iraq would certainly disprove this.<br /><br />Bigelow goes through all the motions one by one. She glorifies war, she canonizes the sadist nut-case hero. The cowboys, surrounded by the subhuman Indians, prove their mettle by doing God's work and subduing the wretched terrorist-infested hellhole with sheer bravado and suicidal mania. Toward the end, I felt like rooting for the Indians. In Bigelow's world, though, no mercy or understanding ever makes it through. The Iraqis are dehumanized par excellence. The slaughter of civilians is just the dramatic backdrop to our hero's psycho sexual struggle. Every U.S, bullet finds its mark. You have to love the guy, the war lover. It's just his way, he is the true hero. He's just a guy trying to get things done the hard way, and so what if he lusts for boy tang on the side.\"\n",
      "* * * * * * * * * \n",
      "16900\n",
      "Oliver Hardy awakens with a hangover and soon learns that his uncle is coming to see Ollie's new wife and baby. The problem is, they don't exist--Ollie apparently made them up! So, it's up to him and his pal to locate a lady with a baby who will agree to pose as his family.<br /><br />This isn't a particularly unique story idea, as I've seen at least a couple other silent shorts with this exact plot. The best of these was Bobby Vernon's DON'T KID ME. It is much better than ONE TOO MANY--probably much of this was due to it being made a decade later--when comedy became a bit more sophisticated and relied less on pointless slapstick. Now I am not against physical comedy, but in some slapstick films, people starting shooting guns wildly, kick and strangle each other, etc. with little provocation. Sadly, at the end of ONE TOO MANY, that's exactly what they do. None of it makes sense and it was as if they'd just run out of story ideas.<br /><br />Overall, not exactly a milestone in entertainment. There's just not enough payoff to merit watching it unless you are an obsessive silent fan like myself.\n",
      "* * * * * * * * * \n",
      "16990\n",
      "Massacre is a film directed by Andrea Bianchi (Burial Ground) and produced by legendary Italian horror director Lucio Fulci. Now with this mix of great talent you would think this movie would have been a true gore fest. This could not be further from that. Massacre falls right on its face as being one of the most boring slasher films I have seen come out of Italian cinema. I was actually struggling to stay awake during the film and I have never had that problem with Italian horror films.<br /><br />Massacre starts out with a hooker being slaughtered on the side of the road with an ax. This scene was used in Fulci's Nightmare Concert. This isn't a bad scene and it raises your expectations of the movie as being an ax wielding slaughter. Unfortuanitly, the next hour of the movie is SO boring. The movie goes on to a set of a horror film being filmed and there is a lot of character development during all these scenes but the characters in the movie are so dull and badly acted your interest starts to leak away. The last 30 minutes of the movie aren't so bad but still could have been much better. The gore in the movie was pathetic and since Fulci used most of the gore scenes in Nightmare Concert there was nothing new here. The end of the movie did leave a nice twist but there was still to much unanswered and the continuity falls right through the floor.<br /><br />This wasn't a very good film but for a true Italian horror freak (like myself) this movie is a must have since it is very rare. 4/10 stars\n",
      "* * * * * * * * * \n",
      "17109\n",
      "This movie blows - let's get that straight right now. There are a few scene gems nestled inside this pile of crap but none can redeem the limp plot. Colin Farrel looks like Brad Pitt in \\12 Monkeys\\\" and acts in a similar manner. I normally hate Colin because he is a fairy in general but he's OK in this movie. There were two plot lines in this movie-= one about a kid who throws rocks through windshields of moving vehicles and the other about a woman with a moustache. Let's face it- this movie has no freaking idea of what it wanted to say or where it wanted to go. THe characters story lines intertwine on some levels but are in no means worthy of being included in a script. The whole thing is weak and pointless and then there is an occasional OK scene. But overall- Don't bother unless you love irish accents so much that you can watch mediocrity and it is rescued by everyone sounding like the Lucky Charms elf -an American fetish that has catapulted some truly crappy movies to success.\"\n",
      "* * * * * * * * * \n",
      "17380\n",
      "Alright if you want to go see this movie just give me our money I'll<br /><br />kick you were it counts and you'll have the same amount of fun. I'll<br /><br />even guarantee more fun. This movie once again shows what happens when<br /><br />you can't get any one else to hire your family and your forced to make<br /><br />your own movies. Same, I'm going through puberty humor jokes, just<br /><br />dumber and grosser. This movie is really a disgrace to movie goers. They<br /><br />try to shock you into laughing because you can't believe the levels they<br /><br />have to stoop to make you laugh. So my offer above stands as\n",
      "* * * * * * * * * \n",
      "17557\n",
      "Truly one of the most dire films I've ever sat through. I've never actually taken the time to write one of these but felt compelled to after witnessing this affront to film-making and feel somewhat aggrieved to be wasting my time on such a piece of turd to be honest. There were so many parts that infuriated me with their complete randomness and lack of sense (e.g. when would the police force ever shoot people with infectious diseases? When would hospitals ever through out such people for lack of a cure? Why was the guy who spotted him spying on his wife wandering around outside in his dressing gown whilst carrying a gun as she rolled around on the bed?). Also, the characterisation - as we've almost come to expect in such films - was awful (e.g. the way the blonde guy - I don't remember his frickin name and don't give a toss anyway - completely turned against his girlfriend and ran off to leave her) and I ended up wanting them all to meet grisly ends! The production was horribly disjointed and the cinematography nothing to write home about.\n",
      "* * * * * * * * * \n",
      "17564\n",
      "A singularly unfunny musical comedy that artificially tries to marry the then-cutting edge rock 'n' roll explosion with the middle-class sensibilities of a suburban sitcom. The result is a jarringly dated mish-mash that will satisfy none of the audience that went for the music, but will at least keep their parents sated.<br /><br />A quick glance at the promo write-up on the back of the video release should give some idea of the content. Tom Ewell is a drunken agent, overplayed with so little comic ability you almost expect him to bellow \\hi honey, I'm home!\\\" The blurb sites him as \\\"So funny in 'The 7 Year Itch'\\\". It sounds almost like an excuse. What other film would sell itself on the fact that a leading player was good in something else? It reads like \\\"So funny in 'The 7 Year Itch' ... but he's rubbish in this\\\".<br /><br />Mansfield, a beautiful girl with rumoured 50-inch assets, is, unfortunately, a bargain basement Monroe with all the acting ability and comic timing of a rotting haddock. Her wooden delivery combined with Ewell's OTT double-takes make this a comedy partnership from Hell. For her part, the sell gives us: \\\"[Jayne Mansfield] whose more obvious talents are the cause of many of the film's biggest laughs!\\\" As you can see, a movie sold on the idea that it's lead has a big chest is not the most sophisticated of things. Most of this \\\"humour\\\" is men literally falling over themselves, their glasses cracking upon site of Mansfield, etc. Only the Freudian nightmare of a milk bottle overflowing casts doubt upon its \\\"U\\\" certificate.<br /><br />For the musical side, the most adenine of players are chosen. Would you really care to see Eddie Fontaine offer: \\\"I love your eyes, I love your lips, they taste even better than potato chips\\\" in a song called \\\"Cool It, Baby\\\"? Only the incendiary Little Richard breaks out of the MOR, though is forced to sing some of his more dad-friendly songs in a four-minute sequence. And how come all the acts sing without a single microphone? Attempted satires on the industry are broad and childlike in their conception.<br /><br />Technically, the picture was quite advanced, with special effects (including a ghost-like Julie London) and deluxe color (Which now looks flat and artificial. In fact, with its reds that bleed and fake-looking flesh tones, it resembles a colorised movie). Direction, though, isn't outstanding, and the sound quality is also quite poor.<br /><br />Perhaps it comes down to it being so old. A time when men still smoked on screen, sickeningly cute child actors made adult remarks and black servants only got to cook and dance. (All of which happen here). Yet Some Like It Hot, The African Queen, Ben Hur and many, many more stand as examples of films from the period that can still be enjoyed today, so the \\\"good at the time\\\" argument doesn't really stand up. At its heart The Girl Can't Help It is a cynical and patronising venture that doesn't bear close inspection. 4/10.<br /><br />\"\n",
      "* * * * * * * * * \n",
      "17585\n",
      "This movie was one of the greatest movies ever made,,,, it had everything to make a movie great. Incredible acting, awesome special effects...... oh wait I must be thinking of a good movie. Well this wasn't one of them, it just plain sucked. <br /><br />What I want to know is, what kind of bone head would think that this movie was a 10. When I casted my vote there were 206 out there, god knows what goes on in their head. Now as for any other vote, a 8 or 9 was even too high, but a 10??? Come on, what made this movie sooooo good to give it a 10? I know these are the same 206 that thought that Jean Claude Van Damme is a great dramatic actor.\n",
      "* * * * * * * * * \n",
      "17655\n",
      "I am not so much like Love Sick as I image. Finally the film express sexual relationship of Alex, kik, Sandu their triangle love were full of intenseness, frustration and jealous, at last, Alex waked up and realized that they would not have result and future.Ending up was sad.<br /><br />The director Tudor Giurgiu was in AMC theatre on Sunday 12:00PM on 08/10/06, with us watched the movie together. After the movie he told the audiences that the purposed to create this film which was to express the sexual relationships of Romanian were kind of complicate.<br /><br />On my point of view sexual life is always complicated in everywhere, I don't feel any particular impression and effect from the movie. The love proceeding of Alex and Kiki, and Kiki and her brother Sandu were kind of next door neighborhood story.<br /><br />The two main reasons I don't like this movie are, firstly, the film didn't told us how they started to fall in love? Sounds like after Alex moved into the building which Kiki was living, then two girls are fall in love. It doesn't make sense at all. How a girl would fall in love with another girl instead of a man. Too much fragments, you need to image and connect those stories by your mind. Secondly, The whole film didn't have a scene of Alex and Kik's sexual intercourse, that 's what I was waiting for",
      "",
      ". However, it still had some parts were deserved to recommend. The \\ear piercing \\\" part was kind of interesting. Alex was willing to suffer the pain of ear piercing to appreciate kik's love. That was a touching scene which gave you a little idea of their love. Also, the scene of they were lying in the soccer field, the conversation express their loves were truthful and passionate.\"\n",
      "* * * * * * * * * \n",
      "17723\n",
      "Nell Shipman attempted a plot to lead up to a chase finale in 'Back to God's Country' of the previous year, and she failed miserably. This time, she does better, although it seems pointless. 'Something New' hardly has a plot lying outside of the chase. There's a brief premise, which sets up the hero (co-author and Shipman's boyfriend) to have to save the girl (played by Shipman), then it's nothing but an exciting, implausible chase from there. Of course, it plays out like an hour-long advertisement for a Maxwell Sedan, but the entire movie is congruously ridiculous. It doesn't seem that she learned much from the last-minute rescue films of D.W. Griffith or its parodies by Mack Sennett and other comedians, which she's imitating.<br /><br />One point of interest is that Shipman writes and directs herself into the film as the writer of the film's story, which has as its protagonist a writer (Shipman again), although she doesn't do much else clever or humorous with it, even though she attempts to. Again, others had pioneered the writer's joke in the intertitles, like Anita Loos with 'Wild and Woolly' or Frances Marion with 'A Girl's Folly' (both 1917). At least, Shipman gives the impression that she doesn't take herself or the film seriously--and neither do I. 'Something New,' despite its claim, is hackneyed.\n",
      "* * * * * * * * * \n",
      "17811\n",
      "I frequently comment on the utter dirth of truly scary movies on the market, and sadly White Noise only served to reduce my faith that the film industry remains capable of such an endeavor. I was surprised to find myself growingly increasingly fatigued as the plot wore on and my static-induced headache increased. I found White Noise to be preposterous beyond our best efforts of suspension of disbelief. Even after witnessing the harrowing ordeal sustained by Michael Keaton, I was totally unaffected by his demise. Up until the credits I diligently awaited for something--anything-- of substance to connect me to the characters' story, but such relief never came. Sure, there were the occasional heart-stopper moments, but only because loud noises tend to do that to the dozing viewer.<br /><br />While the acting was lame, Michael Keaton may have played his studliest role to date. Perhaps the only redeeming quality that White Noise has to offer is the stunning archietecture in both of Keaton's abodes. Overall, White Noise leaves one with the morbidly depressing idea that those who die are trapped in a world guarded by three malicious shadows, contriving to trick the living into following the dead to their own graves.\n",
      "* * * * * * * * * \n",
      "17859\n",
      "Film version of Sandra Bernhard's one-woman off-Broadway show is gaspingly pretentious. Sandra spoofs lounge acts and superstars, but her sense of irony is only fitfully interesting, and fitfully funny. Her fans will say she's scathingly honest, and that may be true. But she's also shrill, with an unapologetic, in-your-face bravado that isn't well-suited to a film in this genre. She doesn't want to make nice--and she's certainly not out to make friends--and that's always going to rub a lot of people the wrong way. But even if you meet her halfway, her material here is seriously lacking. Filmmaker Nicolas Roeg served as executive producer and, though not directed by him, the film does have his chilly, detached signature style all over it. Bernhard co-wrote the show with director John Boskovich; their oddest touch was in having all of Sandra's in-house audiences looking completely bored--a feeling many real viewers will most likely share. *1/2 from ****\n",
      "* * * * * * * * * \n",
      "17888\n",
      "To be honest at the time i first heard of this show i though it may be a bad idea to make a show that makes Muslims use racial jokes on themselves but it is the Exact opposite. I realized that the show doing that can help people understand that if a Muslim uses s a word like this in real life it doesn't mean it is a terrorist thing. It also show's how people give the Muslims a bad name because they play on their stereotype, by watching the show regular people will realize that all though there may be bad Muslims out it doesn't mean we are all bad we just try to live 1 day at a time, like how hard it was for Amair to get on a plane and how he used words like \\Blow up\\\" or Yaser saying we'll blow away the competition, and people took it the wrong way. Being a Muslim i know that stuff like this don't usually happen, but they do and many people think bad things about Muslims or Afghanistan or Iraq, its not right things are not like that. people will see how we are poorly treated by watching this show and it may make them think on how the act. I am glad a show like this came on the air. There are many shows that Piotr Muslim people as terrorists,many people do find them funny to my opioion it is OK to do it now and then because prety much everything is made fun of who are we to say you can not make fun of that is unfair, but it is done to often and really gives Muslin people a bad name.\"\n",
      "* * * * * * * * * \n",
      "17890\n",
      "The story is a little slow and a little stupid. Greta Garbo doesn't look very good and I couldn't understand half the things she said because of her accent, which was exaggerated for this role. Melvyn Douglas, meanwhile, plays his normal unlikeable role and Constance Bennett is just so-so except for a couple of her screams, which were funny. <br /><br />On the plus side, Roland Young had the best role in the film. I wish he had more lines, as he disappeared in the second half of the story. Also, it was interesting to see Ruth Gordon look so young. I had only seen her in those crazy roles she played from the late '60s to the '80s and a whacked out old woman. Story-wise, the best part might have been the final few minutes when we see a stunt man doing amazing things on skis, pretending to be Douglas falling down the slopes. That was amazing and humorous footage.<br /><br />Overall, I can see where this film - Garbo's last - was not a box-office success. It just drags too much, going on and on about deceptions. It's an annoying story. Garbo knew it, too, and called it quits.\n",
      "* * * * * * * * * \n",
      "17982\n",
      "When I look for new cars, I expect not to be shown boats. When I drink fountain Coke, I should expect that the drink contains Coke. When I watch a movie that embellishes itself with the name of en excellent scientist, I expect that it is in some way relevant to that person or their work. This could have been people discussing my grannys' diary. The material covered is relevant only in that they vaguely tirade science. I fell asleep the first time I tried to watch it, & the second time I stopped watching it.<br /><br />I love science & documentaries. I would rather watch them over the latest blockbuster. However this falls far short of providing anything worth your time  Avoid at all costs.\n",
      "* * * * * * * * * \n",
      "18015\n",
      "This movie was the worst movie I have seen since \\Date Movie.\\\" I was laughing through out the whole movie instead of being scared. It was funny how the snakes would search for particular section of the passengers body to attack for example, the eye, the tongue, the butt, the breast. If we have seen national geographic channel we know snakes wont stay clinched on the body once they bite. For each particular scene the snakes would bite the passengers and would stay on the body biting the person. I believe the producer did not study his information on snakes and their behavior. I cant believe I wasted my money on this movie.So I don't recommend this movie trust just wait until it is at the dollar theatre or rent it.\"\n",
      "* * * * * * * * * \n",
      "18101\n",
      "A bondage, humiliation, S&M show, and not much else. The plot is flat, really just a banal setup for the stylishly depraved set-pieces. The host of the aforementioned show, a silly little man who spouts drivel while prancing around the stage in dresses, was almost as painfully distracting as the attempts at artful editing. The dream-like ending felt tacked on. To the film's credit though, Aya Sugimoto was fairly convincing as the tortured lead. Flower and Snake has been compared with Eyes Wide Shut but aside from some minor surface similarities, Kubrick's is easily the more layered, artistic, and atmospheric picture.\n",
      "* * * * * * * * * \n",
      "18278\n",
      "Stephen King adaptation (scripted by King himself) in which a young family, newcomers to rural Maine, find out about the pet cemetery close to their home. The father (Dale Midkiff) then finds out about the Micmac burial ground beyond the pet cemetery that has powers of resurrection - only of course anything buried there comes back not quite RIGHT.<br /><br />Below average \\horror\\\" picture starts out clumsy, insulting, and inept, and continues that way for a while, with the absolute worst element being Midkiff's worthless performance. It gets a little better toward the end, with genuinely disturbing finale. In point of fact, the whole movie is really disturbing, which is why I can't completely dismiss it - at least it has SOMETHING to make it memorable. Decent supporting performances by Fred Gwynne, as the wise old aged neighbor, and Brad Greenquist, as the disfigured spirit Victor Pascow are not enough to really redeem film.<br /><br />King has his usual cameo as the minister.<br /><br />Followed by a sequel also directed by Mary Lambert (is it any wonder that she's had no mainstream film work since?).<br /><br />4/10\"\n",
      "* * * * * * * * * \n",
      "18472\n",
      "the cover of the box makes this movie look really good, don't be fooled. splatter university came out in 1984 which was the last good year for horror, but this movie sucks. the characters are so annoying. only the teacher is cool. there is like no plot to this movie, who the hell would ever produce this waste of a film?<br /><br />spoilers up ahead<br /><br />the teacher dies in this, and it was a female, we all know that we must have a female surviver, if you're going to break the rules do it in a good horror flick not this waste\n",
      "* * * * * * * * * \n",
      "18529\n",
      "Released in 1965, but clearly shot years earlier, this is an inept little crime melodrama with some inept sexploitation up front. As usual for grindhouse flicks of era, there's a fair amount of undressing and dressing for no reason complemented by lousy music, annoying narration, and awkward editing. The coffee shop scene lays the excruciating groundwork, as we chop back and forth between characters to avoid actually seeing them speak their lines. All we get are reaction shots to the off-screen character's voice! 50s-pretty Misty Ayers strips to her French-cut panties a couple of times before the action gets started. She's accompanied continuously by what is apparently stock music from romantic to western to mother-does-the-dishes, mixed randomly to produce, among other things, the most thrilling cigarette lighting ever captured on film. Watch as he taps it! Watch as he strikes the match! Will he inhale or will he be captured by Apaches? Only time will tell!! The film tells the sordid tale of how Sally gets tricked into working in a whorehouse, falls for a dope, and can't escape. For some reason, we're treated to some of the most bored and boring hookers ever committed to film, literally doing their nails or knitting rather than entertaining the clientèle. Some stupendously lame comedy (boozy dame accidentally drinks milk! Har dee har!) and silent film acting doesn't help. This is one of the worst feature films I've ever seen, even on the Something Weird Video marquee. It's really more of a film curiosity for those interested in the history of cinema--very bad cinema.\n",
      "* * * * * * * * * \n",
      "18721\n",
      "I do not fail to recognize Haneke's above-average film-making skills. For example, I appreciate his lingering on unremarkable-natural-day-lighted settings as a powerful way to force a strong sense of realism. However, regarding the content of this film, I am very sad to see that in the 21st century there is still an urge to pathologize domination-submission relations or feelings (and/or BDSM practices). The problem that the main character has with her mother is unbelievably topical as is the alienation and uncomprehension felt by Walter (I don't mean the frustration of a lover which is not loved back in the same way, which is understandable; I mean that he looks upon her as if she were crazy, or as if he was a monk, come on!). I mean D/s is not something new in the world and I think it is rather silly to treat the subject as if it were something \\freakish\\\" or pathological; it isn't. In general, films dealing with this subject are really lagging behind the times.<br /><br />So, for me, I feel that this film ends up being quite a programmatical film, worried with very outdated psicoanalitical theories (isn't it nearly embarrassing?), and that does not really relate with real-life lives and experiences of those engaged in D/s relationships (personal experience, forums, irc chatrooms even recent scholar studies will show this).\"\n",
      "* * * * * * * * * \n",
      "18744\n",
      "Having decided some time ago to collect the films of Billy Bob Thornton (on the strength of class movies like \\Sling Blade\\\", \\\"A Simple Plan\\\" and \\\"The Man Who Wasn't There\\\" amongst others), it was inevitable that there would be the odd turkey in there. What I didn't realise however, was that there could be one THIS bad. I'll give you an idea how incredibly poor this film is - the funniest dialogue in it goes like this: \\\"Knock Knock\\\", \\\"Who's there?\\\", \\\"The big stinking man\\\", \\\"The big stinking man who?\\\", \\\"The big stinking man - is YOU!\\\". Yes folks, it really is that bad. Billy Bob is only in it for about two minutes (I guess he needed the work at that time in his career), and the rest of the movie is painful. For some reason though, although it's undeniably awful, I don't hate it. That's probably because I save my ire for any high budget, special effects laden junk like \\\"The Fast and the Furious\\\" and not a \\\"no-budget\\\" flick like this one. 2/10 at a push.\"\n",
      "* * * * * * * * * \n",
      "18776\n",
      "Pictures that usually glorify a hero have meaning. As an example, Bonnie and Clyde glorified the dynamic bank robbers and you actually felt sympathy for them despite their evil deeds. Why? They were two people caught up in the depression when people were desperate to survive.<br /><br />This film has absolutely no substance. The Viggo Mortensen character soon emerges as a folk hero. Why? He speeds along an Idaho highway on the way to the hospital where his stricken wife has been taking. No one bothers to understand why he is trying to flee everyone. Even worse, when the realization becomes apparent that he is not a red-neck terrorist, no one in government wants to help him as they try to save their rear ends.<br /><br />Jason Priestley co-stars as a radio emcee who builds upon the story in support of our hero.<br /><br />The ending is absolutely unbelievable.\n",
      "* * * * * * * * * \n"
     ]
    },
    {
     "name": "stdout",
     "output_type": "stream",
     "text": [
      "18913\n",
      "There's tons of good-looking women in this flick. But alas, this movie is nudity-free. Grrrrrrrrrr Strike one.<br /><br />Ahem. One story in this film takes place in 1971. Then why the hell are the main characters driving a Kia Sportage? Hello? Continuity, anyone?<br /><br />As you might know, this movie was released in stereoscopic 3D. And it is the most hideous effect I have ever seen. I'm not sure if someone botched the job on this, but there WAS no 3D, just double-vision blurs. I didn't have the same problem with this company's other 3D movies, HUNTING SEASON and CAMP BLOOD. Sure, the 3D in those ones sucked too, but with them I could see a semblance of 3D effect.<br /><br />This thing is a big ball of nothing.<br /><br />And whoever that women was who played the daughter of the ear-eating dame, yum! I'd like to see more of her. In movies, as well. Looks like Janet Margolin at a young age. Purrrrrrrrrrrrrrrr<br /><br />\n",
      "* * * * * * * * * \n",
      "18981\n",
      "From the mind of Harry Alan Towers comes another piece of cinematic sludge. Supposedly based on the work of H. Rider Haggard, the only similarity it bears to anything Haggard actually wrote is that it takes place in Africa (albeit an Africa that has dinosaurs - which our intrepid adventurers use to pull their canoes!), and has some characters with the same names.<br /><br />Our heroes (David McCallum, Patrick McNee and John Colico) set out to seek treasure, armed only with a medallion, and end up precisely where the treasure is, purely by chance. On the way, they meet a motley assortment of extremely lame monsters, pick up a French chef, and McCallum has an affair with the Queen of Phoenicia.<br /><br />It's so ridiculous, it's a hoot. That's the only reason I didn't give it a 1.\n",
      "* * * * * * * * * \n",
      "19106\n",
      "I watched this on a weekend afternoon as there was simply nothing else on, it would have been more entertaining to chew off my feet and probably less painful. I urge anyone to watch this just to see how turgidly awful a movie can be, surely it was deliberate. I cringed at every futile attempt at humour carried out in such a childish, unrehearsed, badly executed way that it was beyond belief. This is the movie that makes Spiceworld look like Goodfellas, think I am exaggerating? Well give it airtime and think again. Dreadful, utterly dreadful. If this wasn't a prank then the director and anyone else responsible for this should be removed and promptly shot after being forced to watch this film again.\n",
      "* * * * * * * * * \n",
      "19371\n",
      "This kid is rather bad, but in no way do they make him the type that outsmarts adults and can foil experienced thieves at every turn. No, he is not so much a brat, as he is a kid with severe emotional problems. A nice couple looking to adopt get rather suckered into adopting him and while the husband is a bit more willing to give this kid a chance the mother is not. Through in a bizarre Michael Richards character and the always annoying Gilbert Gottfried and you have yourself a rather bad movie with a few laughs in it here and there. I actually prefer the sequel to this film as I like the fact they brought Amy Yasbeck back as a different more likable character as there are one to many characters in this film that are thoroughly unlikable as it is. Even the kid is rather annoying at first in this one, and they kind of chill him out in the sequel too. The plot is simple enough though as the prospective parents go to adopt this kid that they think is great by the way the orphanage is throwing a party as they depart, they soon realize they have themselves a little hellion. Add to that this little hellion getting into contact with a convict of some sort. Not sure about this character, at first I thought it was supposed to be his real father or something. Not all that good, but I will pick this ahead of that Culkin kid any day of the week.\n",
      "* * * * * * * * * \n",
      "19440\n",
      "When I saw this film on FearNet, I thought it would be a scary movie. Apparently, it wasn't. I have no clue how this movie was allowed to be featured on that site. FearNet is a site that shows scary horror movies.<br /><br />The acting is wonderful from all the actors. I hated the story. The story was stupid. The movie starts out with a man with a scroll with a signia stamped onto it. He breaks the seal and certain disasters happen. The water turns to blood, the oceans die out, the moon turns red, etc. <br /><br />The female character was annoying as well. A lot of the stuff she did didn't make sense. Like when she sees a piece of paper with a date on it. Coincidentally, it's the date she's expected to give birth to her baby and she starts freaking out about it and starts researching it and asking religious people what it all means.<br /><br />*Spoiler Alert* <br /><br />The two worst things happened in this movie are the execution of a mentally retarded man who claimed that God told him to murder his parents and the end where Demi Moore dies after giving birth to her baby and transferring her soul into it.<br /><br />Here's what happens. The mentally retarded person gets shot and killed and the apocalypse begins. Demi Moore gets into a hospital in the middle of a massive earthquake and gives birth to her child. She touches her child's head, transferring her soul into the child and then dies. Then, the apocalypse stops.<br /><br />Why does God all of a sudden have a change of heart? He gets furious when the Governor allows the execution of a mentally retarded man then he's all about forgiveness once a lone woman transfers her soul into her baby? <br /><br />*End Spoiler* <br /><br />The movie is pretty stupid. It's another religious end of the world propaganda piece. The acting from Demi Moore and Michael Biehn and everybody else is excellent. That's about all there is.<br /><br />I give this movie 2 stars out of 10. Good acting with a lot of nonsense!\n",
      "* * * * * * * * * \n",
      "19508\n",
      "This movie feels so EMPTY. IN every scene in the movie the maximum number of actors on the screen is like 10. Because everything was shot in front of a blue screen there are never really any extras and the movie just feels weird.<br /><br />The ACTING was HORRIBLE! It's so obvious this was in front of a blue screen because all of the action scenes you can see the actor/actress wondering around half running when they should be running for their lives.. Looking at the floor for their marks...<br /><br />Spoilers: Also you'll find yourself banging your head watching the movie. At one point at Sky Captain's home base they have like 100 planes sitting on the airstrip. They have advanced warning an attack is coming... So what do they do? nothing. All of the planes get blown up and yet again the ONLY person fighting back is the Sky Captain...<br /><br />THE ENTIRE world is under attack and he's the ONLY person ever fighting back. At the very end of the movie you see hundreds of plains taking off finally... but what do they do? Nothing... the movie is over...\n",
      "* * * * * * * * * \n",
      "19735\n",
      "While some performances were good-Victoria Rowell, Adrienne Barbeau, and the two Italian girlfriends come to mind-the story was lame and derivative, the emphasis on the girlfriend's racial background was handled clumsily at best, and the relatives were mostly portrayed as stereotypes, not as real people. I found myself wincing uncomfortably at many moments that were supposed to be funny. I can hardly comprehend why the local paper here in SF said this was a good movie, and wonder WHO posted the glowing review here on IMDb. Very disappointed in this movie, and mad I actually went to a theatre to see it, based on the faulty connection to Garden State, which is a far funnier, more inventive, and touching movie than this one. I must especially mention the emotional climax in the church, which was so wooden and by-the-numbers that I nearly left, and some in the audience actually DID. THAT was followed by a silly climax at the graveyard, which I saw coming 10 minutes before it happened. I really don't like being misled to spend my money so uselessly.\n",
      "* * * * * * * * * \n"
     ]
    }
   ],
   "source": [
    "# false positives\n",
    "\n",
    "print(\"Examples of false positives:\")\n",
    "\n",
    "import random, time\n",
    "\n",
    "for i in range(0, len(ols_predictions)):\n",
    "    if (ols_predictions[i] == 1):\n",
    "        if (X_raw_train.iloc[i]['sentiment'] == 0):\n",
    "            if (random.uniform(0, 1) < 0.05): # to print only 5% of the false positives\n",
    "                print(i)\n",
    "                print(X_raw_train.iloc[i]['review'])\n",
    "                print('* * * * * * * * * ')\n"
   ]
  },
  {
   "cell_type": "markdown",
   "metadata": {},
   "source": [
    "---\n",
    "\n",
    "# <span style=\"color:red\">WARNING: Don't look at test set performance too much!</span>\n",
    "\n",
    "---\n",
    "\n",
    "The following cells show performance on your test set. Do not look at this too often! "
   ]
  },
  {
   "cell_type": "markdown",
   "metadata": {},
   "source": [
    "# Look at performance on the test set"
   ]
  },
  {
   "cell_type": "markdown",
   "metadata": {},
   "source": [
    "### MODEL: ordinary least squares"
   ]
  },
  {
   "cell_type": "code",
   "execution_count": 15,
   "metadata": {},
   "outputs": [
    {
     "name": "stdout",
     "output_type": "stream",
     "text": [
      "{'Pos': 2496, 'Neg': 2504, 'TP': 996, 'TN': 1601, 'FP': 903, 'FN': 1500, 'Accuracy': 0.5194, 'Precision': 0.5244865718799369, 'Recall': 0.39903846153846156, 'desc': 'ols_test'}\n"
     ]
    }
   ],
   "source": [
    "ols_performance_test = BinaryClassificationPerformance(ols.predict(X_test), y_test, 'ols_test')\n",
    "ols_performance_test.compute_measures()\n",
    "print(ols_performance_test.performance_measures)"
   ]
  },
  {
   "cell_type": "markdown",
   "metadata": {},
   "source": [
    "### MODEL: SVM, linear"
   ]
  },
  {
   "cell_type": "code",
   "execution_count": 16,
   "metadata": {},
   "outputs": [
    {
     "name": "stdout",
     "output_type": "stream",
     "text": [
      "{'Pos': 2496, 'Neg': 2504, 'TP': 2069, 'TN': 2022, 'FP': 482, 'FN': 427, 'Accuracy': 0.8182, 'Precision': 0.8110544884359074, 'Recall': 0.828926282051282, 'desc': 'svm_test'}\n"
     ]
    }
   ],
   "source": [
    "svm_performance_test = BinaryClassificationPerformance(svm.predict(X_test), y_test, 'svm_test')\n",
    "svm_performance_test.compute_measures()\n",
    "print(svm_performance_test.performance_measures)"
   ]
  },
  {
   "cell_type": "markdown",
   "metadata": {},
   "source": [
    "### MODEL: logistic regression"
   ]
  },
  {
   "cell_type": "code",
   "execution_count": 17,
   "metadata": {},
   "outputs": [
    {
     "name": "stdout",
     "output_type": "stream",
     "text": [
      "{'Pos': 2496, 'Neg': 2504, 'TP': 2061, 'TN': 2049, 'FP': 455, 'FN': 435, 'Accuracy': 0.822, 'Precision': 0.8191573926868044, 'Recall': 0.8257211538461539, 'desc': 'lgs_test'}\n"
     ]
    }
   ],
   "source": [
    "lgs_performance_test = BinaryClassificationPerformance(lgs.predict(X_test), y_test, 'lgs_test')\n",
    "lgs_performance_test.compute_measures()\n",
    "print(lgs_performance_test.performance_measures)"
   ]
  },
  {
   "cell_type": "markdown",
   "metadata": {},
   "source": [
    "### MODEL: Naive Bayes"
   ]
  },
  {
   "cell_type": "code",
   "execution_count": 18,
   "metadata": {},
   "outputs": [
    {
     "name": "stdout",
     "output_type": "stream",
     "text": [
      "{'Pos': 2496, 'Neg': 2504, 'TP': 2159, 'TN': 2084, 'FP': 420, 'FN': 337, 'Accuracy': 0.8486, 'Precision': 0.83714618069019, 'Recall': 0.8649839743589743, 'desc': 'nbs_test'}\n"
     ]
    }
   ],
   "source": [
    "nbs_performance_test = BinaryClassificationPerformance(nbs.predict(X_test), y_test, 'nbs_test')\n",
    "nbs_performance_test.compute_measures()\n",
    "print(nbs_performance_test.performance_measures)"
   ]
  },
  {
   "cell_type": "markdown",
   "metadata": {},
   "source": [
    "### MODEL: Perceptron"
   ]
  },
  {
   "cell_type": "code",
   "execution_count": 19,
   "metadata": {},
   "outputs": [
    {
     "name": "stdout",
     "output_type": "stream",
     "text": [
      "{'Pos': 2496, 'Neg': 2504, 'TP': 2062, 'TN': 2035, 'FP': 469, 'FN': 434, 'Accuracy': 0.8194, 'Precision': 0.814697747925721, 'Recall': 0.8261217948717948, 'desc': 'prc_test'}\n"
     ]
    }
   ],
   "source": [
    "prc_performance_test = BinaryClassificationPerformance(prc.predict(X_test), y_test, 'prc_test')\n",
    "prc_performance_test.compute_measures()\n",
    "print(prc_performance_test.performance_measures)"
   ]
  },
  {
   "cell_type": "markdown",
   "metadata": {},
   "source": [
    "### MODEL: Ridge Regression Classifier"
   ]
  },
  {
   "cell_type": "code",
   "execution_count": 20,
   "metadata": {},
   "outputs": [
    {
     "name": "stdout",
     "output_type": "stream",
     "text": [
      "{'Pos': 2496, 'Neg': 2504, 'TP': 2183, 'TN': 2123, 'FP': 381, 'FN': 313, 'Accuracy': 0.8612, 'Precision': 0.8514040561622465, 'Recall': 0.8745993589743589, 'desc': 'rdg_test'}\n"
     ]
    }
   ],
   "source": [
    "rdg_performance_test = BinaryClassificationPerformance(rdg.predict(X_test), y_test, 'rdg_test')\n",
    "rdg_performance_test.compute_measures()\n",
    "print(rdg_performance_test.performance_measures)"
   ]
  },
  {
   "cell_type": "markdown",
   "metadata": {},
   "source": [
    "### MODEL: Random Forest Classifier"
   ]
  },
  {
   "cell_type": "code",
   "execution_count": 21,
   "metadata": {},
   "outputs": [
    {
     "name": "stdout",
     "output_type": "stream",
     "text": [
      "{'Pos': 2496, 'Neg': 2504, 'TP': 1995, 'TN': 1805, 'FP': 699, 'FN': 501, 'Accuracy': 0.76, 'Precision': 0.7405345211581291, 'Recall': 0.7992788461538461, 'desc': 'rdf_test'}\n"
     ]
    }
   ],
   "source": [
    "rdf_performance_test = BinaryClassificationPerformance(rdf.predict(X_test), y_test, 'rdf_test')\n",
    "rdf_performance_test.compute_measures()\n",
    "print(rdf_performance_test.performance_measures)"
   ]
  },
  {
   "cell_type": "markdown",
   "metadata": {},
   "source": [
    "### ROC plot to compare performance of various models and fits"
   ]
  },
  {
   "cell_type": "code",
   "execution_count": 24,
   "metadata": {},
   "outputs": [
    {
     "data": {
      "image/png": "[encoded data removed]",
      "text/plain": [
       "<Figure size 432x288 with 1 Axes>"
      ]
     },
     "metadata": {
      "needs_background": "light"
     },
     "output_type": "display_data"
    }
   ],
   "source": [
    "fits = [ols_performance_test, svm_performance_test, lgs_performance_test, nbs_performance_test, prc_performance_test, rdg_performance_test, rdf_performance_test]\n",
    "\n",
    "for fit in fits:\n",
    "    plt.plot(fit.performance_measures['FP'] / fit.performance_measures['Neg'], \n",
    "             fit.performance_measures['TP'] / fit.performance_measures['Pos'], 'bo')\n",
    "    plt.text(fit.performance_measures['FP'] / fit.performance_measures['Neg'], \n",
    "             fit.performance_measures['TP'] / fit.performance_measures['Pos'], fit.desc)\n",
    "plt.axis([0, 1, 0, 1])\n",
    "plt.title('ROC plot: test set')\n",
    "plt.xlabel('False positive rate')\n",
    "plt.ylabel('True positive rate')\n",
    "plt.show()"
   ]
  },
  {
   "cell_type": "markdown",
   "metadata": {},
   "source": [
    "---\n",
    "\n",
    "# <span style=\"color:red\">SUBMISSION</span>\n",
    "\n",
    "---"
   ]
  },
  {
   "cell_type": "code",
   "execution_count": 25,
   "metadata": {},
   "outputs": [
    {
     "name": "stdout",
     "output_type": "stream",
     "text": [
      "movie_data is: <class 'pandas.core.frame.DataFrame'>\n",
      "movie_data has 25000 rows and 2 columns \n",
      "\n",
      "the data types for each of the columns in movie_data:\n",
      "id        object\n",
      "review    object\n",
      "dtype: object \n",
      "\n",
      "the first 10 rows in movie_data:\n",
      "         id                                             review\n",
      "0  12311_10  Naturally in a film who's main themes are of m...\n",
      "1    8348_2  This movie is a disaster within a disaster fil...\n",
      "2    5828_4  All in all, this is a movie for kids. We saw i...\n",
      "3    7186_2  Afraid of the Dark left me with the impression...\n",
      "4   12128_7  A very accurate depiction of small time mob li...\n",
      "Shape of HashingVectorizer X:\n",
      "(25000, 131072)\n",
      "Look at a few rows of the new quantitative features: \n",
      "   word_count  punc_count\n",
      "0         131           5\n",
      "1         169          15\n",
      "2         176          18\n",
      "3         112           5\n",
      "4         133           8\n",
      "5         331          20\n",
      "6         121          18\n",
      "7         230          22\n",
      "8          59           3\n",
      "9         224          14\n",
      "Size of combined bag of words and new quantitative variables matrix:\n",
      "(25000, 131074)\n",
      "(25000, 131074)\n",
      "Shape of X_test for submission:\n",
      "(25000, 131074)\n",
      "SUCCESS!\n",
      "Number of rows in the submission test set (should be 25,000): \n"
     ]
    }
   ],
   "source": [
    "# read in test data for submission\n",
    "# CHANGE FILE PATH and my_random_seed number (any integer other than 74 will do): \n",
    "raw_data, X_test_submission = process_raw_data(fn='./moviereviews_test.tsv', my_random_seed=70, test=True)\n",
    "print(\"Number of rows in the submission test set (should be 25,000): \")"
   ]
  },
  {
   "cell_type": "markdown",
   "metadata": {},
   "source": [
    "---\n",
    "\n",
    "Choose a <span style=\"color:red\">*single*</span> model for your submission. In this code, I am choosing the Ordinary Least Squares model fit, which is in the `ols` object. But you should choose the model that is performing the best for you! "
   ]
  },
  {
   "cell_type": "code",
   "execution_count": 26,
   "metadata": {},
   "outputs": [
    {
     "name": "stdout",
     "output_type": "stream",
     "text": [
      "0.50088\n"
     ]
    }
   ],
   "source": [
    "# store the id from the raw data\n",
    "my_submission = pd.DataFrame(raw_data[\"id\"])\n",
    "# concatenate predictions to the id\n",
    "my_submission[\"prediction\"] = rdg.predict(X_test_submission)\n",
    "# look at the proportion of positive predictions\n",
    "print(my_submission['prediction'].mean())"
   ]
  },
  {
   "cell_type": "code",
   "execution_count": 27,
   "metadata": {},
   "outputs": [
    {
     "data": {
      "text/html": [
       "<div>\n",
       "<style scoped>\n",
       "    .dataframe tbody tr th:only-of-type {\n",
       "        vertical-align: middle;\n",
       "    }\n",
       "\n",
       "    .dataframe tbody tr th {\n",
       "        vertical-align: top;\n",
       "    }\n",
       "\n",
       "    .dataframe thead th {\n",
       "        text-align: right;\n",
       "    }\n",
       "</style>\n",
       "<table border=\"1\" class=\"dataframe\">\n",
       "  <thead>\n",
       "    <tr style=\"text-align: right;\">\n",
       "      <th></th>\n",
       "      <th>id</th>\n",
       "      <th>review</th>\n",
       "      <th>word_count</th>\n",
       "      <th>punc_count</th>\n",
       "    </tr>\n",
       "  </thead>\n",
       "  <tbody>\n",
       "    <tr>\n",
       "      <th>0</th>\n",
       "      <td>12311_10</td>\n",
       "      <td>Naturally in a film who's main themes are of m...</td>\n",
       "      <td>131</td>\n",
       "      <td>5</td>\n",
       "    </tr>\n",
       "    <tr>\n",
       "      <th>1</th>\n",
       "      <td>8348_2</td>\n",
       "      <td>This movie is a disaster within a disaster fil...</td>\n",
       "      <td>169</td>\n",
       "      <td>15</td>\n",
       "    </tr>\n",
       "    <tr>\n",
       "      <th>2</th>\n",
       "      <td>5828_4</td>\n",
       "      <td>All in all, this is a movie for kids. We saw i...</td>\n",
       "      <td>176</td>\n",
       "      <td>18</td>\n",
       "    </tr>\n",
       "    <tr>\n",
       "      <th>3</th>\n",
       "      <td>7186_2</td>\n",
       "      <td>Afraid of the Dark left me with the impression...</td>\n",
       "      <td>112</td>\n",
       "      <td>5</td>\n",
       "    </tr>\n",
       "    <tr>\n",
       "      <th>4</th>\n",
       "      <td>12128_7</td>\n",
       "      <td>A very accurate depiction of small time mob li...</td>\n",
       "      <td>133</td>\n",
       "      <td>8</td>\n",
       "    </tr>\n",
       "  </tbody>\n",
       "</table>\n",
       "</div>"
      ],
      "text/plain": [
       "         id                                             review  word_count  \\\n",
       "0  12311_10  Naturally in a film who's main themes are of m...         131   \n",
       "1    8348_2  This movie is a disaster within a disaster fil...         169   \n",
       "2    5828_4  All in all, this is a movie for kids. We saw i...         176   \n",
       "3    7186_2  Afraid of the Dark left me with the impression...         112   \n",
       "4   12128_7  A very accurate depiction of small time mob li...         133   \n",
       "\n",
       "   punc_count  \n",
       "0           5  \n",
       "1          15  \n",
       "2          18  \n",
       "3           5  \n",
       "4           8  "
      ]
     },
     "execution_count": 27,
     "metadata": {},
     "output_type": "execute_result"
    }
   ],
   "source": [
    "raw_data.head()"
   ]
  },
  {
   "cell_type": "code",
   "execution_count": 28,
   "metadata": {},
   "outputs": [
    {
     "data": {
      "text/html": [
       "<div>\n",
       "<style scoped>\n",
       "    .dataframe tbody tr th:only-of-type {\n",
       "        vertical-align: middle;\n",
       "    }\n",
       "\n",
       "    .dataframe tbody tr th {\n",
       "        vertical-align: top;\n",
       "    }\n",
       "\n",
       "    .dataframe thead th {\n",
       "        text-align: right;\n",
       "    }\n",
       "</style>\n",
       "<table border=\"1\" class=\"dataframe\">\n",
       "  <thead>\n",
       "    <tr style=\"text-align: right;\">\n",
       "      <th></th>\n",
       "      <th>id</th>\n",
       "      <th>prediction</th>\n",
       "    </tr>\n",
       "  </thead>\n",
       "  <tbody>\n",
       "    <tr>\n",
       "      <th>0</th>\n",
       "      <td>12311_10</td>\n",
       "      <td>1</td>\n",
       "    </tr>\n",
       "    <tr>\n",
       "      <th>1</th>\n",
       "      <td>8348_2</td>\n",
       "      <td>0</td>\n",
       "    </tr>\n",
       "    <tr>\n",
       "      <th>2</th>\n",
       "      <td>5828_4</td>\n",
       "      <td>0</td>\n",
       "    </tr>\n",
       "    <tr>\n",
       "      <th>3</th>\n",
       "      <td>7186_2</td>\n",
       "      <td>0</td>\n",
       "    </tr>\n",
       "    <tr>\n",
       "      <th>4</th>\n",
       "      <td>12128_7</td>\n",
       "      <td>1</td>\n",
       "    </tr>\n",
       "  </tbody>\n",
       "</table>\n",
       "</div>"
      ],
      "text/plain": [
       "         id  prediction\n",
       "0  12311_10           1\n",
       "1    8348_2           0\n",
       "2    5828_4           0\n",
       "3    7186_2           0\n",
       "4   12128_7           1"
      ]
     },
     "execution_count": 28,
     "metadata": {},
     "output_type": "execute_result"
    }
   ],
   "source": [
    "my_submission.head()"
   ]
  },
  {
   "cell_type": "code",
   "execution_count": 29,
   "metadata": {},
   "outputs": [
    {
     "data": {
      "text/plain": [
       "(25000, 2)"
      ]
     },
     "execution_count": 29,
     "metadata": {},
     "output_type": "execute_result"
    }
   ],
   "source": [
    "my_submission.shape"
   ]
  },
  {
   "cell_type": "code",
   "execution_count": 30,
   "metadata": {},
   "outputs": [],
   "source": [
    "# export submission file as pdf\n",
    "# CHANGE FILE PATH: \n",
    "my_submission.to_csv('./moviereviews_submission.csv', index=False)"
   ]
  },
  {
   "cell_type": "markdown",
   "metadata": {},
   "source": [
    "# Submit to Canvas: 1) the CSV file that was written in the previous cell and 2) the url to the repository (GitHub or other) that contains your code and documentation"
   ]
  }
 ],
 "metadata": {
  "kernelspec": {
   "display_name": "Python 3",
   "language": "python",
   "name": "python3"
  },
  "language_info": {
   "codemirror_mode": {
    "name": "ipython",
    "version": 3
   },
   "file_extension": ".py",
   "mimetype": "text/x-python",
   "name": "python",
   "nbconvert_exporter": "python",
   "pygments_lexer": "ipython3",
   "version": "3.8.5"
  }
 },
 "nbformat": 4,
 "nbformat_minor": 2
}
